{
 "cells": [
  {
   "cell_type": "markdown",
   "metadata": {},
   "source": [
    "# Data Preprocessing"
   ]
  },
  {
   "cell_type": "markdown",
   "metadata": {},
   "source": [
    "## Data Cleaning"
   ]
  },
  {
   "cell_type": "code",
   "execution_count": 1,
   "metadata": {},
   "outputs": [],
   "source": [
    "import pandas as pd"
   ]
  },
  {
   "cell_type": "code",
   "execution_count": 2,
   "metadata": {},
   "outputs": [],
   "source": [
    "player_per_game = pd.read_csv(\"data/PlayerPerGame.csv\")\n",
    "player_per_game = player_per_game[player_per_game['season'] > 1975]\n",
    "player_per_game = player_per_game[player_per_game['experience'] == 1]\n",
    "duplicated_players_mask = player_per_game.duplicated(subset='player', keep=False)\n",
    "player_per_game = player_per_game[~duplicated_players_mask]\n",
    "columns_to_drop = ['birth_year', 'seas_id', 'lg', 'g', 'gs']\n",
    "player_per_game = player_per_game.drop(columns=columns_to_drop)"
   ]
  },
  {
   "cell_type": "code",
   "execution_count": 3,
   "metadata": {},
   "outputs": [],
   "source": [
    "player_totals = pd.read_csv(\"data/PlayerTotals.csv\")\n",
    "player_totals = player_totals[player_totals['season'] > 1975]\n",
    "player_totals = player_totals[player_totals['experience'] == 1]\n",
    "duplicated_players_mask = player_totals.duplicated(subset='player', keep=False)\n",
    "player_totals = player_totals[~duplicated_players_mask]\n",
    "columns_to_drop = ['birth_year', 'seas_id', 'lg', 'g', 'gs', 'ft_percent', 'player', 'age', 'experience', 'season', 'tm', 'pos', 'fg_percent', 'fg_percent', 'x3p_percent', 'x2p_percent', 'e_fg_percent']\n",
    "player_totals = player_totals.drop(columns=columns_to_drop)"
   ]
  },
  {
   "cell_type": "code",
   "execution_count": 4,
   "metadata": {},
   "outputs": [
    {
     "name": "stdout",
     "output_type": "stream",
     "text": [
      "      season  player_id          player pos   age  experience   tm  \\\n",
      "0       2024       5109    Adam Flagler  SG  24.0           1  OKC   \n",
      "1       2024       5110    Adama Sanogo  PF  21.0           1  CHI   \n",
      "2       2024       5111      Alex Fudge  SF  20.0           1  LAL   \n",
      "3       2024       5112    Amari Bailey  PG  19.0           1  CHO   \n",
      "4       2024       5113   Amen Thompson  SF  21.0           1  HOU   \n",
      "...      ...        ...             ...  ..   ...         ...  ...   \n",
      "3296    1976       1687     Tom Boswell  PF  22.0           1  BOS   \n",
      "3297    1976       1688       Tom Kropp  SG  22.0           1  WSB   \n",
      "3298    1976       1689    Tom McMillen   C  23.0           1  BUF   \n",
      "3299    1976       1690  Wilbur Holland  SG  24.0           1  ATL   \n",
      "3300    1976       1691   World B. Free  SG  22.0           1  PHI   \n",
      "\n",
      "      mp_per_game  fg_per_game  fga_per_game  ...  fta   orb    drb    trb  \\\n",
      "0             6.0          0.0           3.0  ...    0   0.0    0.0    0.0   \n",
      "1             3.7          1.0           1.0  ...    3   2.0    4.0    6.0   \n",
      "2             3.5          0.3           1.5  ...    2   2.0    0.0    2.0   \n",
      "3             5.0          0.7           2.3  ...    2   2.0    0.0    2.0   \n",
      "4            19.5          3.1           6.3  ...   84  73.0  153.0  226.0   \n",
      "...           ...          ...           ...  ...  ...   ...    ...    ...   \n",
      "3296          7.9          1.2           2.7  ...   24  26.0   45.0   71.0   \n",
      "3297          2.9          0.3           1.2  ...    6   5.0   10.0   15.0   \n",
      "3298         14.2          1.9           4.4  ...   54  64.0  122.0  186.0   \n",
      "3299         10.6          2.6           6.5  ...   34  15.0   26.0   41.0   \n",
      "3300         15.8          3.4           7.5  ...  186  64.0   61.0  125.0   \n",
      "\n",
      "      ast   stl   blk   tov   pf  pts  \n",
      "0       1   0.0   0.0   0.0    0    0  \n",
      "1       0   0.0   0.0   1.0    0    8  \n",
      "2       0   0.0   0.0   1.0    1    4  \n",
      "3       1   0.0   0.0   1.0    0    5  \n",
      "4      93  46.0  24.0  60.0   91  310  \n",
      "...   ...   ...   ...   ...  ...  ...  \n",
      "3296   16   2.0   1.0   NaN   70   96  \n",
      "3297    8   2.0   0.0   NaN   20   19  \n",
      "3298   69   7.0   6.0   NaN   87  233  \n",
      "3299   26  20.0   2.0   NaN   48  192  \n",
      "3300  104  37.0   6.0   NaN  107  590  \n",
      "\n",
      "[3301 rows x 48 columns]\n"
     ]
    }
   ],
   "source": [
    "player_stats = pd.merge(player_per_game, player_totals, on='player_id', suffixes=('_df1', '_df2'))\n",
    "\n",
    "print(player_stats)"
   ]
  },
  {
   "cell_type": "code",
   "execution_count": 5,
   "metadata": {},
   "outputs": [
    {
     "name": "stdout",
     "output_type": "stream",
     "text": [
      "       tm  season  playoffs     w     l\n",
      "0     ATL    2024     False  26.0  33.0\n",
      "1     BOS    2024     False  46.0  12.0\n",
      "2     BRK    2024     False  23.0  36.0\n",
      "3     CHI    2024     False  28.0  31.0\n",
      "4     CHO    2024     False  15.0  44.0\n",
      "...   ...     ...       ...   ...   ...\n",
      "1392  UTS    1976     False   4.0  12.0\n",
      "1393  VIR    1976     False  15.0  68.0\n",
      "1394  WSB    1976      True  48.0  34.0\n",
      "1395  NaN    1976     False   NaN   NaN\n",
      "1396  NaN    1976     False   NaN   NaN\n",
      "\n",
      "[1397 rows x 5 columns]\n"
     ]
    }
   ],
   "source": [
    "team_summary = pd.read_csv(\"data/TeamSummaries.csv\")\n",
    "team_summary = team_summary[team_summary['season'] > 1975]\n",
    "selected_columns = ['abbreviation', 'season', 'playoffs', 'w', 'l']\n",
    "team_summary = team_summary.loc[:, selected_columns]\n",
    "team_summary.rename(columns={'abbreviation': 'tm'}, inplace=True)\n",
    "print(team_summary)"
   ]
  },
  {
   "cell_type": "code",
   "execution_count": 6,
   "metadata": {},
   "outputs": [
    {
     "name": "stdout",
     "output_type": "stream",
     "text": [
      "    season  player_id             player  mp_per_game  fg_per_game  \\\n",
      "88    2024       5201  Victor Wembanyama         28.7          7.6   \n",
      "\n",
      "    fga_per_game  fg_percent  x3p_per_game  x3pa_per_game  x3p_percent  ...  \\\n",
      "88          16.2       0.467           1.6            5.0        0.327  ...   \n",
      "\n",
      "      trb  ast   stl    blk    tov   pf   pts  playoffs     w     l  \n",
      "88  551.0  183  71.0  180.0  185.0  117  1119         0  12.0  48.0  \n",
      "\n",
      "[1 rows x 47 columns]\n",
      "      season  player_id             player  mp_per_game  fg_per_game  \\\n",
      "2       2024       5111         Alex Fudge          3.5          0.3   \n",
      "3       2024       5112       Amari Bailey          5.0          0.7   \n",
      "4       2024       5113      Amen Thompson         19.5          3.1   \n",
      "5       2024       5114  Andre Jackson Jr.         10.8          1.0   \n",
      "6       2024       5115      Anthony Black         18.6          1.8   \n",
      "...      ...        ...                ...          ...          ...   \n",
      "3284    1976       1674        Mel Bennett         29.2          4.4   \n",
      "3285    1976       1675         Mike Flynn         16.4          2.5   \n",
      "3286    1976       1676         Monte Towe          9.0          1.1   \n",
      "3287    1976       1677  Nathaniel Barnett          6.1          1.0   \n",
      "3295    1976       1686       Ticky Burden         30.7          7.9   \n",
      "\n",
      "      fga_per_game  fg_percent  x3p_per_game  x3pa_per_game  x3p_percent  ...  \\\n",
      "2              1.5       0.167           0.0            0.5        0.000  ...   \n",
      "3              2.3       0.286           0.0            1.0        0.000  ...   \n",
      "4              6.3       0.500           0.2            1.2        0.149  ...   \n",
      "5              1.9       0.529           0.3            0.9        0.375  ...   \n",
      "6              3.8       0.469           0.5            1.4        0.373  ...   \n",
      "...            ...         ...           ...            ...          ...  ...   \n",
      "3284          10.9       0.402           0.0            0.0        0.000  ...   \n",
      "3285           6.6       0.378           0.4            1.5        0.253  ...   \n",
      "3286           2.8       0.402           0.1            0.7        0.214  ...   \n",
      "3287           2.2       0.462           0.0            0.1        0.000  ...   \n",
      "3295          17.6       0.450           0.1            0.5        0.222  ...   \n",
      "\n",
      "        trb  ast    stl   blk    tov   pf   pts  playoffs     w     l  \n",
      "2       2.0    0    0.0   0.0    1.0    1     4         0  33.0  28.0  \n",
      "3       2.0    1    0.0   0.0    1.0    0     5         0  15.0  44.0  \n",
      "4     226.0   93   46.0  24.0   60.0   91   310         0  25.0  34.0  \n",
      "5      93.0   43   14.0   4.0   21.0   82   115         0  39.0  21.0  \n",
      "6     124.0   83   30.0  18.0   49.0  100   269         0  34.0  26.0  \n",
      "...     ...  ...    ...   ...    ...  ...   ...       ...   ...   ...  \n",
      "3284  526.0   97   77.0  47.0  176.0  266   904         0  15.0  68.0  \n",
      "3285  133.0  133   44.0   9.0   81.0  112   421         1  39.0  45.0  \n",
      "3286   55.0  136   37.0   5.0   81.0   84   189         1  60.0  24.0  \n",
      "3287    8.0    8    3.0   1.0    8.0   22    27         1  39.0  45.0  \n",
      "3295  202.0  131  103.0   9.0  181.0  188  1413         0  15.0  68.0  \n",
      "\n",
      "[2348 rows x 47 columns]\n"
     ]
    }
   ],
   "source": [
    "data = player_stats.merge(team_summary, on=['tm', 'season'], how='left')\n",
    "\n",
    "#For simplicity, all players with missing stats are dropped\n",
    "data = data.dropna(axis=0, inplace=False)\n",
    "\n",
    "columns_to_drop = ['pos', 'age', 'experience', 'tm']\n",
    "data = data.drop(columns=columns_to_drop)\n",
    "data['playoffs'] = data['playoffs'].replace({True: 1, False: 0})\n",
    "\n",
    "player_stats = data[data['player_id'] == 5201]\n",
    "print(player_stats)\n",
    "print(data)"
   ]
  },
  {
   "cell_type": "markdown",
   "metadata": {},
   "source": [
    "## Data Visualization"
   ]
  },
  {
   "cell_type": "markdown",
   "metadata": {},
   "source": [
    "Here, we will plot a few important stats (points, ppg, assists, etc) for a single season (2022 - 2023). We should include points showing which players made all rookie team to begin looking for trends"
   ]
  },
  {
   "cell_type": "markdown",
   "metadata": {},
   "source": [
    "In this first plot, we see generally that high schoring players tend to make the All-Rookie team"
   ]
  },
  {
   "cell_type": "code",
   "execution_count": 7,
   "metadata": {},
   "outputs": [],
   "source": [
    "import matplotlib.pyplot as plt"
   ]
  },
  {
   "cell_type": "code",
   "execution_count": 8,
   "metadata": {},
   "outputs": [
    {
     "name": "stdout",
     "output_type": "stream",
     "text": [
      "    season   lg        type number_tm           player\n",
      "25    2022  NBA  All-Rookie       1st  Cade Cunningham\n",
      "26    2022  NBA  All-Rookie       1st      Evan Mobley\n",
      "27    2022  NBA  All-Rookie       1st     Franz Wagner\n",
      "28    2022  NBA  All-Rookie       1st      Jalen Green\n",
      "29    2022  NBA  All-Rookie       1st   Scottie Barnes\n",
      "30    2022  NBA  All-Rookie       2nd      Ayo Dosunmu\n",
      "31    2022  NBA  All-Rookie       2nd     Bones Hyland\n",
      "32    2022  NBA  All-Rookie       2nd     Chris Duarte\n",
      "33    2022  NBA  All-Rookie       2nd    Herbert Jones\n",
      "34    2022  NBA  All-Rookie       2nd      Josh Giddey\n"
     ]
    }
   ],
   "source": [
    "data_copy = data.copy()\n",
    "PCA_data = data.copy()\n",
    "data_copy = data_copy[data_copy['season'] == 2022]\n",
    "\n",
    "teams = pd.read_csv(\"data/EndofSeasonTeams.csv\")\n",
    "teams = teams[teams['season'] == 2022]\n",
    "teams = teams[teams['type'] == 'All-Rookie']\n",
    "columns_to_drop = ['position', 'seas_id', 'player_id', 'birth_year', 'tm', 'age']\n",
    "teams = teams.drop(columns=columns_to_drop)\n",
    "print(teams)"
   ]
  },
  {
   "cell_type": "code",
   "execution_count": 15,
   "metadata": {},
   "outputs": [
    {
     "data": {
      "image/png": "[encoded data removed]",
      "text/plain": [
       "<Figure size 2000x1000 with 4 Axes>"
      ]
     },
     "metadata": {},
     "output_type": "display_data"
    }
   ],
   "source": [
    "highlight_players = [\n",
    "    'Cade Cunningham', 'Evan Mobley', 'Franz Wagner',\n",
    "    'Jalen Green', 'Scottie Barnes', 'Ayo Dosunmu',\n",
    "    'Bones Hyland', 'Chris Duarte', 'Herbert Jones',\n",
    "    'Josh Giddey'\n",
    "]\n",
    "\n",
    "\n",
    "data_copy['highlight'] = data_copy['player'].isin(highlight_players)\n",
    "adjusted_stats_columns = ['pts', 'ast', 'blk', 'stl']\n",
    "\n",
    "\n",
    "colors = ['blue' if x else 'red' for x in data_copy['highlight']]\n",
    "fig, axs = plt.subplots(2,2,figsize=(20, 10))\n",
    "\n",
    "labels = {\n",
    "    \"pts\":\"Points\",\n",
    "    \"ast\":\"Assists\",\n",
    "    \"blk\":\"Blocks\",\n",
    "    \"stl\":\"Steals\"\n",
    "}\n",
    "\n",
    "for i, stat in enumerate(adjusted_stats_columns):\n",
    "    row = i // 2\n",
    "    col = i % 2\n",
    "    axs[row][col].scatter(data_copy['player'], data_copy[stat], c = colors, alpha=0.5)\n",
    "    axs[row][col].set_title(f'{labels[stat]} for 2022 Season')\n",
    "    axs[row][col].set_xlabel('Player')\n",
    "    axs[row][col].set_xticks([])\n",
    "    axs[row][col].set_ylabel(labels[stat])\n",
    "    axs[row][col].tick_params(axis='x', rotation=90)\n",
    "\n",
    "plt.savefig(\"UnscaledStats.jpg\")\n",
    "plt.tight_layout()\n",
    "plt.show()"
   ]
  },
  {
   "cell_type": "markdown",
   "metadata": {},
   "source": [
    "It seems like the most important stats all involve points. If PCA doesnt work, we could manually look through graphs like the ones above and find important stats to use for our model"
   ]
  },
  {
   "cell_type": "markdown",
   "metadata": {},
   "source": [
    "## Scaling"
   ]
  },
  {
   "cell_type": "code",
   "execution_count": 10,
   "metadata": {},
   "outputs": [],
   "source": [
    "from sklearn.preprocessing import StandardScaler"
   ]
  },
  {
   "cell_type": "code",
   "execution_count": 13,
   "metadata": {},
   "outputs": [
    {
     "data": {
      "image/png": "[encoded data removed]",
      "text/plain": [
       "<Figure size 2000x1000 with 4 Axes>"
      ]
     },
     "metadata": {},
     "output_type": "display_data"
    }
   ],
   "source": [
    "from sklearn.preprocessing import StandardScaler\n",
    "end_of_season_teams = pd.read_csv(\"data/EndofSeasonTeams.csv\")\n",
    "\n",
    "player_per_game_filtered = player_per_game\n",
    "player_totals_filtered = player_totals\n",
    "\n",
    "player_stats_merged = pd.merge(player_per_game_filtered, player_totals_filtered, on='player_id', suffixes=('_per_game', '_totals'))\n",
    "\n",
    "end_of_season_teams_filtered = end_of_season_teams[end_of_season_teams['type'] == 'All-Rookie'][['player', 'season']]\n",
    "\n",
    "player_stats_with_rookie_selection = pd.merge(\n",
    "    player_stats_merged, \n",
    "    end_of_season_teams_filtered, \n",
    "    how='left', \n",
    "    on=['player', 'season'],\n",
    "    indicator=True  # Adds a column '_merge' indicating the source of each row\n",
    ")\n",
    "player_stats_with_rookie_selection['selected_for_all_rookie'] = player_stats_with_rookie_selection['_merge'] == 'both'\n",
    "\n",
    "visual_data_training = player_stats_with_rookie_selection[player_stats_with_rookie_selection['season'] == 2022]\n",
    "visual_data_training = visual_data_training[visual_data_training['season'] == 2022]\n",
    "\n",
    "\n",
    "visual_data_2019 = player_stats_with_rookie_selection[player_stats_with_rookie_selection['season'] == 2019]\n",
    "\n",
    "adjusted_stats_columns = ['pts', 'ast', 'blk', 'stl', 'fg_per_game', 'x3p']\n",
    "\n",
    "scaler = StandardScaler()\n",
    "scaled_stats_training = scaler.fit_transform(visual_data_training[adjusted_stats_columns])\n",
    "scaled_stats_df_training = pd.DataFrame(scaled_stats_training, columns=adjusted_stats_columns, index=visual_data_training.index)\n",
    "visual_data_training.loc[:, adjusted_stats_columns] = scaled_stats_df_training\n",
    "\n",
    "scaler = StandardScaler()\n",
    "scaled_stats_2019 = scaler.fit_transform(visual_data_2019[adjusted_stats_columns])\n",
    "scaled_stats_df_2019 = pd.DataFrame(scaled_stats_2019, columns=adjusted_stats_columns, index=visual_data_2019.index)\n",
    "visual_data_2019.loc[:, adjusted_stats_columns] = scaled_stats_df_2019\n",
    "\n",
    "colors = ['blue' if x else 'red' for x in visual_data_training['selected_for_all_rookie']]\n",
    "\n",
    "fig, axs = plt.subplots(2, 2, figsize=(20, 10))\n",
    "labels = {\n",
    "    \"pts\":\"Points\",\n",
    "    \"ast\":\"Assists\",\n",
    "    \"blk\":\"Blocks\",\n",
    "    \"stl\":\"Steals\"\n",
    "}\n",
    "adjusted_stats_columns = ['pts', 'ast', 'blk', 'stl']\n",
    "for i, stat in enumerate(adjusted_stats_columns):\n",
    "    row = i // 2\n",
    "    col = i % 2\n",
    "    axs[row][col].scatter(visual_data_training['player'], visual_data_training[stat], c = colors, alpha=0.5)\n",
    "    axs[row][col].set_title(f'Scaled {labels[stat]} for 2022 Season')\n",
    "    axs[row][col].set_xlabel('Player')\n",
    "    axs[row][col].set_xticks([])\n",
    "    axs[row][col].set_ylabel(f'Scaled {labels[stat]}')\n",
    "    axs[row][col].tick_params(axis='x', rotation=90)\n",
    "\n",
    "plt.savefig(\"ScaledStats.jpg\")\n",
    "plt.tight_layout()\n",
    "plt.show()"
   ]
  },
  {
   "cell_type": "markdown",
   "metadata": {},
   "source": [
    "## PCA"
   ]
  },
  {
   "cell_type": "code",
   "execution_count": 57,
   "metadata": {},
   "outputs": [],
   "source": [
    "from sklearn.decomposition import PCA"
   ]
  },
  {
   "cell_type": "code",
   "execution_count": 58,
   "metadata": {},
   "outputs": [
    {
     "name": "stdout",
     "output_type": "stream",
     "text": [
      "                      PC1       PC2       PC3       PC4\n",
      "player                                                 \n",
      "Aaron Henry     -1.719706  0.106503  0.141600 -0.129836\n",
      "Aaron Wiggins    1.267703 -0.397253 -0.213288  0.127060\n",
      "Ade Murkey      -1.818229  0.014119  0.231493 -0.173354\n",
      "Ahmad Caver     -1.553128 -0.000977 -0.063065  0.216869\n",
      "Aleem Ford      -1.429465 -0.042621 -0.107842  0.260431\n",
      "...                   ...       ...       ...       ...\n",
      "Vit Krejci       0.283594 -0.273545 -0.078036  0.133975\n",
      "Xavier Moon     -0.688592  0.012060 -0.278010  0.701986\n",
      "Yves Pons       -1.548435  0.143199  0.050293 -0.140579\n",
      "Zavier Simpson  -0.136111  0.090199 -0.923983  1.707588\n",
      "Ziaire Williams  1.912072 -0.934067 -0.505432 -0.506846\n",
      "\n",
      "[114 rows x 4 columns]\n"
     ]
    }
   ],
   "source": [
    "adjusted_stats_columns = ['player', 'pts', 'ast', 'blk', 'stl', 'fg_per_game', 'x3p']\n",
    "data_training_scaled = visual_data_training.loc[:, adjusted_stats_columns]\n",
    "df = data_training_scaled.set_index('player')\n",
    "pca = PCA(0.95, svd_solver='full')\n",
    "pca_data = pca.fit_transform(df)\n",
    "pca_df_training = pd.DataFrame(data=pca_data, columns=[f'PC{i}' for i in range(1, pca.n_components_ + 1)], index=df.index)\n",
    "print(pca_df_training)"
   ]
  },
  {
   "cell_type": "code",
   "execution_count": 59,
   "metadata": {},
   "outputs": [
    {
     "name": "stdout",
     "output_type": "stream",
     "text": [
      "                      PC1       PC2       PC3       PC4\n",
      "player                                                 \n",
      "Aaron Holiday    0.679151 -0.324343  0.083584 -0.114780\n",
      "Alize Johnson   -1.593735 -0.096133  0.187935  0.092435\n",
      "Allonzo Trier    2.051454 -0.429276 -0.638484 -0.190011\n",
      "Amile Jefferson -1.399623 -0.056328  0.010969  0.089098\n",
      "Anfernee Simons -1.063961 -0.294844 -0.277977 -0.072378\n",
      "...                   ...       ...       ...       ...\n",
      "Yante Maten     -1.603399 -0.181130  0.095163  0.081898\n",
      "Yuta Watanabe   -1.284460 -0.156202 -0.047772  0.072082\n",
      "Zach Lofton     -1.749100 -0.208832  0.310236  0.118581\n",
      "Zhaire Smith    -0.876796 -0.107041 -0.625927 -0.077281\n",
      "Ángel Delgado   -1.602018 -0.181240  0.094273  0.081721\n",
      "\n",
      "[99 rows x 4 columns]\n"
     ]
    }
   ],
   "source": [
    "adjusted_stats_columns = ['player', 'pts', 'ast', 'blk', 'stl', 'fg_per_game', 'x3p']\n",
    "data_2019_scaled = visual_data_2019.loc[:, adjusted_stats_columns]\n",
    "df = data_2019_scaled.set_index('player')\n",
    "pca = PCA(0.95, svd_solver='full')\n",
    "pca_data = pca.fit_transform(df)\n",
    "pca_df_2019 = pd.DataFrame(data=pca_data, columns=[f'PC{i}' for i in range(1, pca.n_components_ + 1)], index=df.index)\n",
    "print(pca_df_2019)"
   ]
  },
  {
   "cell_type": "code",
   "execution_count": 72,
   "metadata": {},
   "outputs": [
    {
     "data": {
      "image/png": "[encoded data removed]",
      "text/plain": [
       "<Figure size 1000x1000 with 1 Axes>"
      ]
     },
     "metadata": {},
     "output_type": "display_data"
    }
   ],
   "source": [
    "highlight_players = [\n",
    "    'Cade Cunningham', 'Evan Mobley', 'Franz Wagner',\n",
    "    'Jalen Green', 'Scottie Barnes', 'Ayo Dosunmu',\n",
    "    'Bones Hyland', 'Chris Duarte', 'Herbert Jones',\n",
    "    'Josh Giddey'\n",
    "]\n",
    "fig = plt.figure(figsize=(10, 10))\n",
    "ax = fig.add_subplot(111, projection='3d')\n",
    "    \n",
    "# Plot all players\n",
    "ax.scatter(pca_df_training['PC1'], pca_df_training['PC2'], pca_df_training['PC3'], alpha=0.5, label='All Players')\n",
    "    \n",
    "# Highlight selected players\n",
    "highlight_df = pca_df_training.loc[pca_df_training.index.isin(highlight_players)]\n",
    "ax.scatter(highlight_df['PC1'], highlight_df['PC2'], highlight_df['PC3'], color='red', label='Highlighted Players')\n",
    "    \n",
    "# Add annotations for highlighted players\n",
    "for player in highlight_players:\n",
    "    ax.text(highlight_df.loc[player, 'PC1'], highlight_df.loc[player, 'PC2'], highlight_df.loc[player, 'PC3'], player)\n",
    "    \n",
    "ax.set_xlabel('PC1')\n",
    "ax.set_ylabel('PC2')\n",
    "ax.set_zlabel('PC3')\n",
    "ax.set_title('PCA Plot 2022 Season')\n",
    "ax.grid(True)\n",
    "plt.savefig(\"PCAData.jpg\")\n",
    "plt.show()\n"
   ]
  },
  {
   "cell_type": "code",
   "execution_count": 18,
   "metadata": {},
   "outputs": [
    {
     "name": "stdout",
     "output_type": "stream",
     "text": [
      "    season   lg        type number_tm           player\n",
      "25    2022  NBA  All-Rookie       1st  Cade Cunningham\n",
      "26    2022  NBA  All-Rookie       1st      Evan Mobley\n",
      "27    2022  NBA  All-Rookie       1st     Franz Wagner\n",
      "28    2022  NBA  All-Rookie       1st      Jalen Green\n",
      "29    2022  NBA  All-Rookie       1st   Scottie Barnes\n",
      "30    2022  NBA  All-Rookie       2nd      Ayo Dosunmu\n",
      "31    2022  NBA  All-Rookie       2nd     Bones Hyland\n",
      "32    2022  NBA  All-Rookie       2nd     Chris Duarte\n",
      "33    2022  NBA  All-Rookie       2nd    Herbert Jones\n",
      "34    2022  NBA  All-Rookie       2nd      Josh Giddey\n"
     ]
    }
   ],
   "source": [
    "teams = pd.read_csv(\"data/EndofSeasonTeams.csv\")\n",
    "#teams = teams[teams['season'] < 2023]\n",
    "#teams = teams[teams['season'] > 1975]\n",
    "teams_training = teams[teams['season'] == 2022]\n",
    "teams_training = teams_training[teams_training['season'] == 2022]\n",
    "teams_training = teams_training[teams_training['type'] == 'All-Rookie']\n",
    "columns_to_drop = ['position', 'seas_id', 'player_id', 'birth_year', 'tm', 'age']\n",
    "teams_training = teams_training.drop(columns=columns_to_drop)\n",
    "print(teams_training)"
   ]
  },
  {
   "cell_type": "code",
   "execution_count": 14,
   "metadata": {},
   "outputs": [
    {
     "name": "stdout",
     "output_type": "stream",
     "text": [
      "     season   lg        type number_tm                   player\n",
      "130    2019  NBA  All-Rookie       1st            Deandre Ayton\n",
      "131    2019  NBA  All-Rookie       1st        Jaren Jackson Jr.\n",
      "132    2019  NBA  All-Rookie       1st              Luka Dončić\n",
      "133    2019  NBA  All-Rookie       1st        Marvin Bagley III\n",
      "134    2019  NBA  All-Rookie       1st               Trae Young\n",
      "135    2019  NBA  All-Rookie       2nd            Collin Sexton\n",
      "136    2019  NBA  All-Rookie       2nd            Kevin Huerter\n",
      "137    2019  NBA  All-Rookie       2nd            Landry Shamet\n",
      "138    2019  NBA  All-Rookie       2nd        Mitchell Robinson\n",
      "139    2019  NBA  All-Rookie       2nd  Shai Gilgeous-Alexander\n"
     ]
    }
   ],
   "source": [
    "teams = pd.read_csv(\"data/EndofSeasonTeams.csv\")\n",
    "#teams = teams[teams['season'] < 2023]\n",
    "#teams = teams[teams['season'] > 1975]\n",
    "teams_2019 = teams[teams['season'] == 2019]\n",
    "teams_2019 = teams_2019[teams_2019['type'] == 'All-Rookie']\n",
    "columns_to_drop = ['position', 'seas_id', 'player_id', 'birth_year', 'tm', 'age']\n",
    "teams_2019 = teams_2019.drop(columns=columns_to_drop)\n",
    "print(teams_2019)"
   ]
  },
  {
   "cell_type": "code",
   "execution_count": 34,
   "metadata": {},
   "outputs": [
    {
     "name": "stdout",
     "output_type": "stream",
     "text": [
      "     season  player_id           player  mp_per_game  fg_per_game  \\\n",
      "169    2022       4900    Aaron Wiggins         24.2          3.1   \n",
      "173    2022       4904   Alperen Şengün         20.7          3.5   \n",
      "175    2022       4906    Austin Reaves         23.2          2.4   \n",
      "176    2022       4907      Ayo Dosunmu         27.4          3.6   \n",
      "177    2022       4908     Bones Hyland         19.0          3.3   \n",
      "..      ...        ...              ...          ...          ...   \n",
      "277    2022       5019       Vit Krejci         23.0          2.3   \n",
      "278    2022       5020      Xavier Moon         13.7          2.5   \n",
      "279    2022       5022        Yves Pons          5.9          0.4   \n",
      "280    2022       5023   Zavier Simpson         43.5          4.8   \n",
      "281    2022       5024  Ziaire Williams         21.7          3.1   \n",
      "\n",
      "     fga_per_game  fg_percent  x3p_per_game  x3pa_per_game  x3p_percent  ...  \\\n",
      "169           6.7       0.463           0.8            2.8        0.304  ...   \n",
      "173           7.3       0.474           0.4            1.6        0.248  ...   \n",
      "175           5.2       0.459           0.9            2.7        0.317  ...   \n",
      "176           6.9       0.520           0.9            2.4        0.376  ...   \n",
      "177           8.3       0.403           1.9            5.2        0.366  ...   \n",
      "..            ...         ...           ...            ...          ...  ...   \n",
      "277           5.6       0.407           1.1            3.3        0.327  ...   \n",
      "278           5.1       0.490           0.5            1.4        0.357  ...   \n",
      "279           1.3       0.313           0.3            0.8        0.333  ...   \n",
      "280          13.0       0.365           0.3            2.0        0.125  ...   \n",
      "281           6.8       0.450           1.2            3.9        0.314  ...   \n",
      "\n",
      "       trb  ast   stl   blk    tov   pf  pts  playoffs     w     l  \n",
      "169  178.0   68  30.0  10.0   54.0   93  416         0  24.0  58.0  \n",
      "173  393.0  185  59.0  68.0  145.0  214  692         0  20.0  62.0  \n",
      "175  193.0  110  29.0  20.0   40.0   87  444         0  33.0  49.0  \n",
      "176  214.0  256  60.0  29.0  108.0  182  679         1  46.0  36.0  \n",
      "177  188.0  191  41.0  20.0   86.0  153  698         1  48.0  34.0  \n",
      "..     ...  ...   ...   ...    ...  ...  ...       ...   ...   ...  \n",
      "277  101.0   57  19.0   8.0   29.0   65  187         0  24.0  58.0  \n",
      "278   14.0   24   7.0   3.0    6.0    9   58         0  42.0  40.0  \n",
      "279   12.0    1   1.0   4.0    1.0    6   13         1  56.0  26.0  \n",
      "280   21.0   30   5.0   4.0   10.0   15   44         0  24.0  58.0  \n",
      "281  129.0   65  35.0  12.0   41.0  113  501         1  56.0  26.0  \n",
      "\n",
      "[80 rows x 47 columns]\n"
     ]
    }
   ],
   "source": [
    "PCA_data = PCA_data[PCA_data['season'] == 2022] #swap between ==2022 and <2023\n",
    "print(PCA_data)\n",
    "#print(PCA_data.columns)\n",
    "pca = PCA(n_components=2)\n",
    "PCA_data_numbers = PCA_data.drop(columns=['player', 'player_id', 'season'])\n",
    "PCA_data_numbers = scaler.fit_transform(PCA_data_numbers)\n",
    "principal_components = pca.fit_transform(PCA_data_numbers)\n",
    "num_components = pca.n_components_\n",
    "#print(num_components)\n",
    "#print(len(principal_components))"
   ]
  },
  {
   "cell_type": "markdown",
   "metadata": {},
   "source": [
    "Need to figure out why so many players are dropped during PCA. Most likely incomplete data"
   ]
  },
  {
   "cell_type": "markdown",
   "metadata": {},
   "source": [
    "Need to check if this is implemented correctly"
   ]
  },
  {
   "cell_type": "code",
   "execution_count": 21,
   "metadata": {},
   "outputs": [
    {
     "name": "stdout",
     "output_type": "stream",
     "text": [
      "         PC1       PC2\n",
      "0   2.525680 -0.397722\n",
      "1   8.736119  3.573082\n",
      "2   2.329970 -0.389768\n",
      "3   5.127529 -0.219437\n",
      "4   4.733551 -3.132845\n",
      "..       ...       ...\n",
      "75 -0.082954 -1.547421\n",
      "76 -2.890754 -0.276307\n",
      "77 -6.154068  0.778847\n",
      "78  2.809799 -0.103745\n",
      "79  1.496586 -1.151790\n",
      "\n",
      "[80 rows x 2 columns]\n",
      "                     player  player_id  season        PC1       PC2\n",
      "2                Alex Fudge     5111.0  2024.0   2.329970 -0.389768\n",
      "3              Amari Bailey     5112.0  2024.0   5.127529 -0.219437\n",
      "4             Amen Thompson     5113.0  2024.0   4.733551 -3.132845\n",
      "5         Andre Jackson Jr.     5114.0  2024.0   0.023924 -0.703379\n",
      "6             Anthony Black     5115.0  2024.0  14.207200 -2.520490\n",
      "7            Ausar Thompson     5116.0  2024.0   2.160812 -0.543747\n",
      "8              Ben Sheppard     5117.0  2024.0  -2.812853  0.241788\n",
      "9           Bilal Coulibaly     5118.0  2024.0  -3.460741  3.789599\n",
      "10       Brandin Podziemski     5119.0  2024.0   6.539721 -2.750699\n",
      "11           Brandon Miller     5120.0  2024.0   2.995354 -2.279345\n",
      "12         Brice Sensabaugh     5121.0  2024.0  -3.045604 -0.907684\n",
      "13             Cam Whitmore     5122.0  2024.0  -1.855813  1.098555\n",
      "14            Cason Wallace     5123.0  2024.0  -2.210179  1.010588\n",
      "15            Chet Holmgren     5124.0  2024.0   6.822968 -3.190225\n",
      "16         Chris Livingston     5125.0  2024.0  -0.194847  4.403339\n",
      "17              Colby Jones     5126.0  2024.0   1.886302 -3.925420\n",
      "19         Collin Gillespie     5128.0  2024.0  13.407658  6.835328\n",
      "20         Craig Porter Jr.     5129.0  2024.0  11.554577 -0.692951\n",
      "21              D'Moi Hodge     5130.0  2024.0  -3.080503 -0.786635\n",
      "23          Dariq Whitehead     5132.0  2024.0  -1.975898 -2.229560\n",
      "24         Dereck Lively II     5133.0  2024.0   8.298934  1.752513\n",
      "25            Dexter Dennis     5134.0  2024.0   2.482418  4.002334\n",
      "28               Duop Reath     5137.0  2024.0  -4.194037  0.793904\n",
      "29             E.J. Liddell     5138.0  2024.0  -4.267347  0.662624\n",
      "30              Emoni Bates     5139.0  2024.0  10.715206 -4.767996\n",
      "31            GG Jackson II     5141.0  2024.0  -4.898555  1.048089\n",
      "32              Gradey Dick     5142.0  2024.0   7.458353 -1.690891\n",
      "33               Gui Santos     5143.0  2024.0  -2.934727 -0.663859\n",
      "36             Jacob Toppin     5146.0  2024.0   2.384621 -0.325079\n",
      "37         Jaime Jaquez Jr.     5147.0  2024.0  -1.081710  0.791103\n",
      "39      Jalen Hood-Schifino     5149.0  2024.0   4.115726  1.761330\n",
      "40            Jalen Pickett     5150.0  2024.0  -5.679162 -1.701226\n",
      "42             Jalen Wilson     5152.0  2024.0   3.831960 -1.324991\n",
      "43            Jarace Walker     5153.0  2024.0   9.490581 -0.064299\n",
      "45         Jermaine Samuels     5155.0  2024.0  -4.081223  1.109121\n",
      "46              Jett Howard     5156.0  2024.0  -5.517696  0.933691\n",
      "47              Jordan Ford     5157.0  2024.0  -1.479903 -2.215375\n",
      "48           Jordan Hawkins     5158.0  2024.0   0.321389  0.131603\n",
      "49            Jordan Miller     5159.0  2024.0  -5.389190 -0.815033\n",
      "52          Julian Phillips     5162.0  2024.0  -0.713061 -3.596052\n",
      "53         Julian Strawther     5163.0  2024.0  -0.893614  0.900128\n",
      "56           Keyonte George     5166.0  2024.0  -3.632515  1.156972\n",
      "57               Kobe Brown     5167.0  2024.0  -4.158007 -1.361036\n",
      "58              Kobe Bufkin     5168.0  2024.0  -2.692015 -0.160875\n",
      "59              Kris Murray     5169.0  2024.0  -6.073747  0.003903\n",
      "60              Leaky Black     5170.0  2024.0  -0.014861  1.477763\n",
      "63            Marcus Sasser     5173.0  2024.0  -5.938383  0.807353\n",
      "65             Matthew Hurt     5175.0  2024.0  -6.113563  0.133106\n",
      "70           Nick Smith Jr.     5180.0  2024.0   4.218669 -3.400761\n",
      "71             Noah Clowney     5181.0  2024.0   2.534018  2.504622\n",
      "72  Olivier-Maxence Prosper     5182.0  2024.0  -3.613282 -1.414728\n",
      "73            Onuralp Bitim     5183.0  2024.0  -0.771688 -1.368090\n",
      "77             Rayan Rupert     5187.0  2024.0  -6.154068  0.778847\n",
      "78         Ricky Council IV     5188.0  2024.0   2.809799 -0.103745\n",
      "79           Sasha Vezenkov     5189.0  2024.0   1.496586 -1.151790\n"
     ]
    },
    {
     "data": {
      "application/vnd.plotly.v1+json": {
       "config": {
        "plotlyServerURL": "https://plot.ly"
       },
       "data": [
        {
         "hovertemplate": "PC1=%{x}<br>PC2=%{y}<extra></extra>",
         "legendgroup": "",
         "marker": {
          "color": "#636efa",
          "symbol": "circle"
         },
         "mode": "markers",
         "name": "",
         "orientation": "v",
         "showlegend": false,
         "type": "scatter",
         "x": [
          2.5256803174965126,
          8.736118572604587,
          2.329969683408041,
          5.1275286965060545,
          4.733550841849705,
          0.02392383078556196,
          14.207199581477141,
          2.160812097755822,
          -2.8128534285025295,
          -3.4607412470333836,
          6.539721439280228,
          2.995354358791053,
          -3.045603859732943,
          -1.8558128920261727,
          -2.210178709200105,
          6.822967764233009,
          -0.19484717656128334,
          1.886302188355844,
          -5.584333496445788,
          13.40765819306114,
          11.554576702105877,
          -3.080503491727153,
          -0.3102673169544034,
          -1.9758981090792422,
          8.298933749416248,
          2.482418159083768,
          -1.1431284437993305,
          -5.412516846957342,
          -4.194037307300548,
          -4.267346880618272,
          10.715206035567894,
          -4.898555321632215,
          7.45835251493133,
          -2.934726730247739,
          -3.6469729069627292,
          -2.9277360121594147,
          2.384621048080186,
          -1.0817101430908298,
          -5.09267696029934,
          4.1157263153723465,
          -5.6791622654616765,
          0.6534058715567329,
          3.8319597891478385,
          9.490580784535403,
          0.3134810835476882,
          -4.081222748033752,
          -5.517696115414803,
          -1.4799034770586952,
          0.3213893138668054,
          -5.389189504272294,
          -5.04875984181121,
          -3.53099092971814,
          -0.7130610825912466,
          -0.8936138635868214,
          -5.307405243323461,
          -5.573174309534677,
          -3.632515075643668,
          -4.158007028899987,
          -2.6920145672191467,
          -6.073746670782861,
          -0.014860696561148948,
          0.5774459996242053,
          -4.895624658260745,
          -5.938383060283269,
          -0.699308285936296,
          -6.113562655311796,
          -3.102013873465966,
          -2.7471134994616406,
          13.477646690318513,
          1.9353530171013704,
          4.218668661126769,
          2.5340177653456784,
          -3.6132818790013848,
          -0.7716876539080154,
          -3.2424337742977882,
          -0.082953940119903,
          -2.890753634276085,
          -6.154068217912003,
          2.8097985989624723,
          1.496586167183426
         ],
         "xaxis": "x",
         "y": [
          -0.39772150573616116,
          3.573081605303885,
          -0.3897680744752549,
          -0.2194373664229905,
          -3.1328445810328303,
          -0.7033789841157092,
          -2.520489836935358,
          -0.5437470970640821,
          0.2417878582474463,
          3.7895994207487544,
          -2.75069885395767,
          -2.279344626503163,
          -0.9076838308331407,
          1.0985548149405673,
          1.0105879540792513,
          -3.1902246458417043,
          4.403338971903968,
          -3.925419835204025,
          0.5458473402613624,
          6.835327899747856,
          -0.692951325116891,
          -0.7866353228876479,
          0.7551026074057797,
          -2.2295599571295175,
          1.752512749684676,
          4.002333520600188,
          -1.5895409242257414,
          -0.7166991315061432,
          0.7939042206085756,
          0.6626237922769486,
          -4.767995612647575,
          1.048088916462528,
          -1.690890900341253,
          -0.6638592394587598,
          -1.1814860840216612,
          -0.6309875741397926,
          -0.32507866765240073,
          0.7911034803738315,
          -1.0831584646021164,
          1.7613300454359204,
          -1.7012259953560402,
          -0.681804110589356,
          -1.3249910039364172,
          -0.06429854026557058,
          -0.8205696459978226,
          1.1091212687888277,
          0.9336911325569586,
          -2.215374962112394,
          0.13160335423594527,
          -0.8150328263331867,
          0.1711130498453372,
          0.27587088841344903,
          -3.5960524010009,
          0.900128041290793,
          0.9074280039439672,
          0.4381160669580451,
          1.1569718373766311,
          -1.3610364033447677,
          -0.16087501933564516,
          0.00390279506775073,
          1.477763003066534,
          4.625502814989052,
          1.5180235406271936,
          0.8073529315515734,
          -2.630493959463933,
          0.13310586760779644,
          0.9547312232032121,
          1.998841113403436,
          4.327840200997905,
          2.8691917817034067,
          -3.400760945477677,
          2.50462204931479,
          -1.414728122287754,
          -1.368090200803049,
          0.8653073671670295,
          -1.5474213629984517,
          -0.27630672111517773,
          0.7788466751820333,
          -0.10374528796874669,
          -1.1517902551347325
         ],
         "yaxis": "y"
        }
       ],
       "layout": {
        "legend": {
         "tracegroupgap": 0
        },
        "margin": {
         "t": 60
        },
        "template": {
         "data": {
          "bar": [
           {
            "error_x": {
             "color": "#2a3f5f"
            },
            "error_y": {
             "color": "#2a3f5f"
            },
            "marker": {
             "line": {
              "color": "#E5ECF6",
              "width": 0.5
             },
             "pattern": {
              "fillmode": "overlay",
              "size": 10,
              "solidity": 0.2
             }
            },
            "type": "bar"
           }
          ],
          "barpolar": [
           {
            "marker": {
             "line": {
              "color": "#E5ECF6",
              "width": 0.5
             },
             "pattern": {
              "fillmode": "overlay",
              "size": 10,
              "solidity": 0.2
             }
            },
            "type": "barpolar"
           }
          ],
          "carpet": [
           {
            "aaxis": {
             "endlinecolor": "#2a3f5f",
             "gridcolor": "white",
             "linecolor": "white",
             "minorgridcolor": "white",
             "startlinecolor": "#2a3f5f"
            },
            "baxis": {
             "endlinecolor": "#2a3f5f",
             "gridcolor": "white",
             "linecolor": "white",
             "minorgridcolor": "white",
             "startlinecolor": "#2a3f5f"
            },
            "type": "carpet"
           }
          ],
          "choropleth": [
           {
            "colorbar": {
             "outlinewidth": 0,
             "ticks": ""
            },
            "type": "choropleth"
           }
          ],
          "contour": [
           {
            "colorbar": {
             "outlinewidth": 0,
             "ticks": ""
            },
            "colorscale": [
             [
              0,
              "#0d0887"
             ],
             [
              0.1111111111111111,
              "#46039f"
             ],
             [
              0.2222222222222222,
              "#7201a8"
             ],
             [
              0.3333333333333333,
              "#9c179e"
             ],
             [
              0.4444444444444444,
              "#bd3786"
             ],
             [
              0.5555555555555556,
              "#d8576b"
             ],
             [
              0.6666666666666666,
              "#ed7953"
             ],
             [
              0.7777777777777778,
              "#fb9f3a"
             ],
             [
              0.8888888888888888,
              "#fdca26"
             ],
             [
              1,
              "#f0f921"
             ]
            ],
            "type": "contour"
           }
          ],
          "contourcarpet": [
           {
            "colorbar": {
             "outlinewidth": 0,
             "ticks": ""
            },
            "type": "contourcarpet"
           }
          ],
          "heatmap": [
           {
            "colorbar": {
             "outlinewidth": 0,
             "ticks": ""
            },
            "colorscale": [
             [
              0,
              "#0d0887"
             ],
             [
              0.1111111111111111,
              "#46039f"
             ],
             [
              0.2222222222222222,
              "#7201a8"
             ],
             [
              0.3333333333333333,
              "#9c179e"
             ],
             [
              0.4444444444444444,
              "#bd3786"
             ],
             [
              0.5555555555555556,
              "#d8576b"
             ],
             [
              0.6666666666666666,
              "#ed7953"
             ],
             [
              0.7777777777777778,
              "#fb9f3a"
             ],
             [
              0.8888888888888888,
              "#fdca26"
             ],
             [
              1,
              "#f0f921"
             ]
            ],
            "type": "heatmap"
           }
          ],
          "heatmapgl": [
           {
            "colorbar": {
             "outlinewidth": 0,
             "ticks": ""
            },
            "colorscale": [
             [
              0,
              "#0d0887"
             ],
             [
              0.1111111111111111,
              "#46039f"
             ],
             [
              0.2222222222222222,
              "#7201a8"
             ],
             [
              0.3333333333333333,
              "#9c179e"
             ],
             [
              0.4444444444444444,
              "#bd3786"
             ],
             [
              0.5555555555555556,
              "#d8576b"
             ],
             [
              0.6666666666666666,
              "#ed7953"
             ],
             [
              0.7777777777777778,
              "#fb9f3a"
             ],
             [
              0.8888888888888888,
              "#fdca26"
             ],
             [
              1,
              "#f0f921"
             ]
            ],
            "type": "heatmapgl"
           }
          ],
          "histogram": [
           {
            "marker": {
             "pattern": {
              "fillmode": "overlay",
              "size": 10,
              "solidity": 0.2
             }
            },
            "type": "histogram"
           }
          ],
          "histogram2d": [
           {
            "colorbar": {
             "outlinewidth": 0,
             "ticks": ""
            },
            "colorscale": [
             [
              0,
              "#0d0887"
             ],
             [
              0.1111111111111111,
              "#46039f"
             ],
             [
              0.2222222222222222,
              "#7201a8"
             ],
             [
              0.3333333333333333,
              "#9c179e"
             ],
             [
              0.4444444444444444,
              "#bd3786"
             ],
             [
              0.5555555555555556,
              "#d8576b"
             ],
             [
              0.6666666666666666,
              "#ed7953"
             ],
             [
              0.7777777777777778,
              "#fb9f3a"
             ],
             [
              0.8888888888888888,
              "#fdca26"
             ],
             [
              1,
              "#f0f921"
             ]
            ],
            "type": "histogram2d"
           }
          ],
          "histogram2dcontour": [
           {
            "colorbar": {
             "outlinewidth": 0,
             "ticks": ""
            },
            "colorscale": [
             [
              0,
              "#0d0887"
             ],
             [
              0.1111111111111111,
              "#46039f"
             ],
             [
              0.2222222222222222,
              "#7201a8"
             ],
             [
              0.3333333333333333,
              "#9c179e"
             ],
             [
              0.4444444444444444,
              "#bd3786"
             ],
             [
              0.5555555555555556,
              "#d8576b"
             ],
             [
              0.6666666666666666,
              "#ed7953"
             ],
             [
              0.7777777777777778,
              "#fb9f3a"
             ],
             [
              0.8888888888888888,
              "#fdca26"
             ],
             [
              1,
              "#f0f921"
             ]
            ],
            "type": "histogram2dcontour"
           }
          ],
          "mesh3d": [
           {
            "colorbar": {
             "outlinewidth": 0,
             "ticks": ""
            },
            "type": "mesh3d"
           }
          ],
          "parcoords": [
           {
            "line": {
             "colorbar": {
              "outlinewidth": 0,
              "ticks": ""
             }
            },
            "type": "parcoords"
           }
          ],
          "pie": [
           {
            "automargin": true,
            "type": "pie"
           }
          ],
          "scatter": [
           {
            "fillpattern": {
             "fillmode": "overlay",
             "size": 10,
             "solidity": 0.2
            },
            "type": "scatter"
           }
          ],
          "scatter3d": [
           {
            "line": {
             "colorbar": {
              "outlinewidth": 0,
              "ticks": ""
             }
            },
            "marker": {
             "colorbar": {
              "outlinewidth": 0,
              "ticks": ""
             }
            },
            "type": "scatter3d"
           }
          ],
          "scattercarpet": [
           {
            "marker": {
             "colorbar": {
              "outlinewidth": 0,
              "ticks": ""
             }
            },
            "type": "scattercarpet"
           }
          ],
          "scattergeo": [
           {
            "marker": {
             "colorbar": {
              "outlinewidth": 0,
              "ticks": ""
             }
            },
            "type": "scattergeo"
           }
          ],
          "scattergl": [
           {
            "marker": {
             "colorbar": {
              "outlinewidth": 0,
              "ticks": ""
             }
            },
            "type": "scattergl"
           }
          ],
          "scattermapbox": [
           {
            "marker": {
             "colorbar": {
              "outlinewidth": 0,
              "ticks": ""
             }
            },
            "type": "scattermapbox"
           }
          ],
          "scatterpolar": [
           {
            "marker": {
             "colorbar": {
              "outlinewidth": 0,
              "ticks": ""
             }
            },
            "type": "scatterpolar"
           }
          ],
          "scatterpolargl": [
           {
            "marker": {
             "colorbar": {
              "outlinewidth": 0,
              "ticks": ""
             }
            },
            "type": "scatterpolargl"
           }
          ],
          "scatterternary": [
           {
            "marker": {
             "colorbar": {
              "outlinewidth": 0,
              "ticks": ""
             }
            },
            "type": "scatterternary"
           }
          ],
          "surface": [
           {
            "colorbar": {
             "outlinewidth": 0,
             "ticks": ""
            },
            "colorscale": [
             [
              0,
              "#0d0887"
             ],
             [
              0.1111111111111111,
              "#46039f"
             ],
             [
              0.2222222222222222,
              "#7201a8"
             ],
             [
              0.3333333333333333,
              "#9c179e"
             ],
             [
              0.4444444444444444,
              "#bd3786"
             ],
             [
              0.5555555555555556,
              "#d8576b"
             ],
             [
              0.6666666666666666,
              "#ed7953"
             ],
             [
              0.7777777777777778,
              "#fb9f3a"
             ],
             [
              0.8888888888888888,
              "#fdca26"
             ],
             [
              1,
              "#f0f921"
             ]
            ],
            "type": "surface"
           }
          ],
          "table": [
           {
            "cells": {
             "fill": {
              "color": "#EBF0F8"
             },
             "line": {
              "color": "white"
             }
            },
            "header": {
             "fill": {
              "color": "#C8D4E3"
             },
             "line": {
              "color": "white"
             }
            },
            "type": "table"
           }
          ]
         },
         "layout": {
          "annotationdefaults": {
           "arrowcolor": "#2a3f5f",
           "arrowhead": 0,
           "arrowwidth": 1
          },
          "autotypenumbers": "strict",
          "coloraxis": {
           "colorbar": {
            "outlinewidth": 0,
            "ticks": ""
           }
          },
          "colorscale": {
           "diverging": [
            [
             0,
             "#8e0152"
            ],
            [
             0.1,
             "#c51b7d"
            ],
            [
             0.2,
             "#de77ae"
            ],
            [
             0.3,
             "#f1b6da"
            ],
            [
             0.4,
             "#fde0ef"
            ],
            [
             0.5,
             "#f7f7f7"
            ],
            [
             0.6,
             "#e6f5d0"
            ],
            [
             0.7,
             "#b8e186"
            ],
            [
             0.8,
             "#7fbc41"
            ],
            [
             0.9,
             "#4d9221"
            ],
            [
             1,
             "#276419"
            ]
           ],
           "sequential": [
            [
             0,
             "#0d0887"
            ],
            [
             0.1111111111111111,
             "#46039f"
            ],
            [
             0.2222222222222222,
             "#7201a8"
            ],
            [
             0.3333333333333333,
             "#9c179e"
            ],
            [
             0.4444444444444444,
             "#bd3786"
            ],
            [
             0.5555555555555556,
             "#d8576b"
            ],
            [
             0.6666666666666666,
             "#ed7953"
            ],
            [
             0.7777777777777778,
             "#fb9f3a"
            ],
            [
             0.8888888888888888,
             "#fdca26"
            ],
            [
             1,
             "#f0f921"
            ]
           ],
           "sequentialminus": [
            [
             0,
             "#0d0887"
            ],
            [
             0.1111111111111111,
             "#46039f"
            ],
            [
             0.2222222222222222,
             "#7201a8"
            ],
            [
             0.3333333333333333,
             "#9c179e"
            ],
            [
             0.4444444444444444,
             "#bd3786"
            ],
            [
             0.5555555555555556,
             "#d8576b"
            ],
            [
             0.6666666666666666,
             "#ed7953"
            ],
            [
             0.7777777777777778,
             "#fb9f3a"
            ],
            [
             0.8888888888888888,
             "#fdca26"
            ],
            [
             1,
             "#f0f921"
            ]
           ]
          },
          "colorway": [
           "#636efa",
           "#EF553B",
           "#00cc96",
           "#ab63fa",
           "#FFA15A",
           "#19d3f3",
           "#FF6692",
           "#B6E880",
           "#FF97FF",
           "#FECB52"
          ],
          "font": {
           "color": "#2a3f5f"
          },
          "geo": {
           "bgcolor": "white",
           "lakecolor": "white",
           "landcolor": "#E5ECF6",
           "showlakes": true,
           "showland": true,
           "subunitcolor": "white"
          },
          "hoverlabel": {
           "align": "left"
          },
          "hovermode": "closest",
          "mapbox": {
           "style": "light"
          },
          "paper_bgcolor": "white",
          "plot_bgcolor": "#E5ECF6",
          "polar": {
           "angularaxis": {
            "gridcolor": "white",
            "linecolor": "white",
            "ticks": ""
           },
           "bgcolor": "#E5ECF6",
           "radialaxis": {
            "gridcolor": "white",
            "linecolor": "white",
            "ticks": ""
           }
          },
          "scene": {
           "xaxis": {
            "backgroundcolor": "#E5ECF6",
            "gridcolor": "white",
            "gridwidth": 2,
            "linecolor": "white",
            "showbackground": true,
            "ticks": "",
            "zerolinecolor": "white"
           },
           "yaxis": {
            "backgroundcolor": "#E5ECF6",
            "gridcolor": "white",
            "gridwidth": 2,
            "linecolor": "white",
            "showbackground": true,
            "ticks": "",
            "zerolinecolor": "white"
           },
           "zaxis": {
            "backgroundcolor": "#E5ECF6",
            "gridcolor": "white",
            "gridwidth": 2,
            "linecolor": "white",
            "showbackground": true,
            "ticks": "",
            "zerolinecolor": "white"
           }
          },
          "shapedefaults": {
           "line": {
            "color": "#2a3f5f"
           }
          },
          "ternary": {
           "aaxis": {
            "gridcolor": "white",
            "linecolor": "white",
            "ticks": ""
           },
           "baxis": {
            "gridcolor": "white",
            "linecolor": "white",
            "ticks": ""
           },
           "bgcolor": "#E5ECF6",
           "caxis": {
            "gridcolor": "white",
            "linecolor": "white",
            "ticks": ""
           }
          },
          "title": {
           "x": 0.05
          },
          "xaxis": {
           "automargin": true,
           "gridcolor": "white",
           "linecolor": "white",
           "ticks": "",
           "title": {
            "standoff": 15
           },
           "zerolinecolor": "white",
           "zerolinewidth": 2
          },
          "yaxis": {
           "automargin": true,
           "gridcolor": "white",
           "linecolor": "white",
           "ticks": "",
           "title": {
            "standoff": 15
           },
           "zerolinecolor": "white",
           "zerolinewidth": 2
          }
         }
        },
        "xaxis": {
         "anchor": "y",
         "domain": [
          0,
          1
         ],
         "title": {
          "text": "PC1"
         }
        },
        "yaxis": {
         "anchor": "x",
         "domain": [
          0,
          1
         ],
         "title": {
          "text": "PC2"
         }
        }
       }
      }
     },
     "metadata": {},
     "output_type": "display_data"
    }
   ],
   "source": [
    "pca_dataFrame = pd.DataFrame(data=principal_components, columns=[f\"PC{i+1}\" for i in range(num_components)])\n",
    "print(pca_dataFrame)\n",
    "data_2 = pd.concat([data[['player', 'player_id', 'season']], pca_dataFrame], axis=1)\n",
    "data_2 = data.dropna(axis=0, inplace=False)\n",
    "print(data_2)\n",
    "\n",
    "import plotly.express as px\n",
    "#fig_2d = px.scatter_3d(pca_dataFrame, x='PC1', y='PC2', z = 'PC3')\n",
    "fig_2d = px.scatter(pca_dataFrame, x='PC1', y='PC2')\n",
    "fig_2d.show()"
   ]
  },
  {
   "cell_type": "code",
   "execution_count": 170,
   "metadata": {},
   "outputs": [],
   "source": [
    "#awardCheck = data['player'].isin(teams['player'])\n",
    "#award_PCA_data = data[awardCheck == True]\n",
    "#print((award_PCA_data))\n",
    "#PCA_data_numbers_rookie = award_PCA_data.drop(columns=['player', 'player_id', 'season'])\n",
    "#PCA_data_numbers_rookie = scaler.fit_transform(PCA_data_numbers_rookie)\n",
    "#principal_components = pca.fit_transform(PCA_data_numbers_rookie)\n",
    "#num_components = pca.n_components_\n",
    "#print(num_components)\n",
    "#print(len(principal_components))\n",
    "#print(principal_components)\n",
    "#pca_rookie = award_PCA_data.drop(columns=['player', 'player_id', 'season'])\n",
    "#pca_dataFrame = pd.DataFrame(data=pca_rookie, columns=[f\"PC{i+1}\" for i in range(num_components)])\n",
    "#fig_2d = px.scatter(pca_dataFrame, x='PC1', y='PC2')\n",
    "#fig_2d.show()\n"
   ]
  },
  {
   "cell_type": "code",
   "execution_count": 24,
   "metadata": {},
   "outputs": [],
   "source": [
    "#awardCheck = data['player'].isin(teams['player'])\n",
    "#awardCheck = awardCheck.to_list()\n",
    "#indices = []\n",
    "#for i in range(len(awardCheck)):\n",
    "#    if awardCheck[i] == True:\n",
    "#        indices.append(i)\n",
    "#indices = [i for i, val in enumerate(awardCheck) if val]\n",
    "#print(indices)\n",
    "\n",
    "#award_PCA_data = data[awardCheck == True]\n",
    "#print(award_PCA_data)\n",
    "#pca_dataFrame_new = pd.DataFrame(data=principal_components, columns=[f\"PC{i+1}\" for i in range(num_components)])\n",
    "#print(pca_dataFrame_new)\n",
    "#award_data = pd.concat([award_PCA_data[['player', 'player_id', 'season']], pca_dataFrame_new], axis=1)\n",
    "#award_data = award_data.dropna(axis=0, inplace=False)\n",
    "#print(award_data)\n",
    "#fig_2d = px.scatter_3d(pca_dataFrame_new, x='PC1', y='PC2', z='PC3', title=f'2 Features')\n",
    "#fig_2d = px.scatter(pca_dataFrame_new, x='PC1', y='PC2')\n",
    "#fig_2d.show()\n",
    "#print(teams)"
   ]
  },
  {
   "cell_type": "code",
   "execution_count": 25,
   "metadata": {},
   "outputs": [
    {
     "data": {
      "application/vnd.plotly.v1+json": {
       "config": {
        "plotlyServerURL": "https://plot.ly"
       },
       "data": [
        {
         "hovertemplate": "PC1=%{x}<br>PC2=%{y}<br>PC3=%{z}<extra></extra>",
         "legendgroup": "",
         "marker": {
          "color": "#636efa",
          "symbol": "circle"
         },
         "mode": "markers",
         "name": "",
         "scene": "scene",
         "showlegend": false,
         "type": "scatter3d",
         "x": [
          0.4714146664338471,
          0.4091801544519976,
          0.4340201971712213,
          0.5262017227654479,
          0.5155474145963304,
          0.06487551898835274,
          0.3231420130497222,
          0.37084626217326355,
          -0.11468378588951317,
          -0.16023416189155537,
          0.6443209152924687,
          0.49646806022142137,
          -0.2823406302320818,
          -0.27225550700661183,
          -0.2746822079591347,
          0.5434810256578732,
          0.09151327726364543,
          0.409989861336704,
          -0.4391103369191259,
          0.2509977611653911,
          0.43521892012133945,
          -0.02973322342034898,
          0.03446891074947294,
          -0.022885784741368938,
          0.4191707481361891,
          0.309830751355911,
          0.04534778543350207,
          -0.4471349787431159,
          -0.4399988739017941,
          -0.4828164451383108,
          0.3831518085869072,
          -0.4253379718394637,
          0.48267102008688534,
          -0.3637404305505108,
          -0.27769547099672387,
          -0.3674868037351543,
          0.41102536558696934,
          -0.059981097864244555,
          -0.49292006290253854,
          0.46550259995496873,
          -0.1670127774766353,
          0.18283486076620525,
          0.5567737292228001,
          0.37253321262931394,
          0.1283519890114768,
          -0.4080649115774418,
          -0.2165697379175586,
          -0.09547692708984283,
          0.14164263565081392,
          -0.5473529187408706,
          -0.5437488581952629,
          -0.4103714263600287,
          0.1495914813903549,
          -0.0016815401180645037,
          -0.4102640930237556,
          -0.5049232037907446,
          -0.21172868390493485,
          -0.4636932814601011,
          -0.2974314119373305,
          -0.4861654448584742,
          0.15750269333144537,
          0.1299019487609987,
          -0.3213339109166958,
          -0.5391298918245766,
          0.08939705463027031,
          -0.4493999566834899,
          -0.32522949693781017,
          -0.34378452438146945,
          0.296138346850408,
          0.29924886608765777,
          0.6055371658001873,
          0.38401108224074354,
          -0.20063766216404125,
          0.01963944770547204,
          -0.254237470891416,
          0.13873033016545547,
          -0.2709119078005902,
          -0.3211064485456541,
          0.23195587982954444,
          0.32111677567540803
         ],
         "y": [
          -0.3441455658108173,
          0.4514358996123888,
          -0.30911746190270706,
          0.16338527806889186,
          0.14132017354123308,
          -0.3353849235358419,
          0.547291635120105,
          -0.15856574273473378,
          -0.11495155351459574,
          0.08854830881858482,
          0.23694048183227953,
          -0.16956848963916346,
          -0.14519102947083176,
          -0.13027484980500384,
          -0.16736635953377602,
          0.33903265380115505,
          -0.1044267549656427,
          -0.24612267839234506,
          0.19797618950345128,
          0.4669642696279793,
          0.5875641513171431,
          0.09181771167303748,
          -0.40037174095840555,
          -0.314007278764356,
          0.4249175549790099,
          0.004949198118749546,
          -0.43590694032944455,
          0.22908978427689147,
          0.08751442405414862,
          -0.03589671017921321,
          0.49952206280033773,
          0.06542674752415349,
          0.40275728714289416,
          -0.1350133209045588,
          -0.1550440755945946,
          -0.14982720475154607,
          -0.2834471523386975,
          -0.39900599944327125,
          0.04680893961742718,
          0.06961375012773434,
          0.37596547141241493,
          -0.20823034606587362,
          -0.07581807099468406,
          0.4702574862710459,
          -0.41958483538644137,
          -0.04357945409838218,
          0.14834322636292518,
          -0.3446892208592282,
          -0.3538808958685128,
          0.16718901370759656,
          0.19980339730306618,
          -0.029157403441756626,
          -0.2963803886890665,
          -0.3368038677353684,
          0.3284943672610142,
          0.3165271207470204,
          0.002960500928129479,
          0.01789372165168259,
          -0.17673303925986725,
          0.3366749967480749,
          -0.31398915734709204,
          -0.013307674907724842,
          0.3001081007672827,
          0.2833643307560554,
          -0.39058687856935204,
          0.343235113215666,
          -0.15307703621966032,
          -0.014060291599038233,
          0.5264691873458951,
          -0.09281497463062773,
          -0.040028323909323545,
          -0.18612758296383358,
          -0.1998111224923708,
          -0.3496740735667291,
          -0.18468174721489572,
          -0.4697637627938389,
          -0.18917519746045558,
          0.35155322045952275,
          0.2953094293322033,
          -0.19143400718352194
         ],
         "z": [
          -0.021567118167309197,
          0.22280140579931987,
          -0.13311389568974136,
          -0.23368299064204245,
          -0.3647208644947871,
          -0.22369977211885933,
          0.1765994051546036,
          -0.3636605865738601,
          0.308148208248928,
          0.23717895492046248,
          -0.23444495196562073,
          -0.3344377564072205,
          0.13327169205180756,
          -0.18510107115741822,
          -0.02108726777585214,
          -0.2088847411161404,
          0.3845979971149897,
          -0.3129751997076462,
          -0.09714129438818361,
          0.23463546396071613,
          0.12188511957883218,
          0.20854665625783317,
          0.16565870375465033,
          0.2314109089257428,
          0.07990364346514629,
          0.43163692270121135,
          0.22596532387562124,
          -0.06456962310225398,
          -0.22375387865456703,
          0.05082594051590392,
          0.04264019876186176,
          0.059676957555496714,
          0.009362808374511086,
          -0.1105946994640928,
          0.16755171803626356,
          -0.23152170931989793,
          0.0260913371043989,
          0.17340864375880313,
          -0.01979829116752713,
          -0.12294421060526271,
          -0.03813784043634553,
          -0.20030367217205206,
          -0.20231578679833062,
          0.13093505505129446,
          -0.12971944580179742,
          -0.00878871464243314,
          0.1648137862166214,
          -0.03319733977132556,
          -0.16162497060188924,
          -0.11796881811251912,
          -0.1975147588559644,
          -0.1294459461202912,
          0.01444117456624411,
          0.3210695762278435,
          -0.16253629068888406,
          -0.17207735595262838,
          0.3240025936395885,
          -0.1299248936244327,
          -0.21723995870336762,
          -0.18361663472651388,
          0.48702594845123776,
          0.19009841927156182,
          -0.08667722932624478,
          -0.11710306620966637,
          -0.18160223829343275,
          -0.08008025867339211,
          -0.03804904002212894,
          -0.07371220419503481,
          0.2366737208887174,
          0.4342600321699233,
          -0.3648122225937786,
          0.30843462899111007,
          0.26509366947326246,
          -0.2503359560716603,
          0.3445110191730457,
          0.08985101846090222,
          0.09482349718894777,
          -0.10823330021952238,
          0.20388794546735609,
          -0.40900223002284425
         ]
        }
       ],
       "layout": {
        "legend": {
         "tracegroupgap": 0
        },
        "margin": {
         "t": 60
        },
        "scene": {
         "domain": {
          "x": [
           0,
           1
          ],
          "y": [
           0,
           1
          ]
         },
         "xaxis": {
          "title": {
           "text": "PC1"
          }
         },
         "yaxis": {
          "title": {
           "text": "PC2"
          }
         },
         "zaxis": {
          "title": {
           "text": "PC3"
          }
         }
        },
        "template": {
         "data": {
          "bar": [
           {
            "error_x": {
             "color": "#2a3f5f"
            },
            "error_y": {
             "color": "#2a3f5f"
            },
            "marker": {
             "line": {
              "color": "#E5ECF6",
              "width": 0.5
             },
             "pattern": {
              "fillmode": "overlay",
              "size": 10,
              "solidity": 0.2
             }
            },
            "type": "bar"
           }
          ],
          "barpolar": [
           {
            "marker": {
             "line": {
              "color": "#E5ECF6",
              "width": 0.5
             },
             "pattern": {
              "fillmode": "overlay",
              "size": 10,
              "solidity": 0.2
             }
            },
            "type": "barpolar"
           }
          ],
          "carpet": [
           {
            "aaxis": {
             "endlinecolor": "#2a3f5f",
             "gridcolor": "white",
             "linecolor": "white",
             "minorgridcolor": "white",
             "startlinecolor": "#2a3f5f"
            },
            "baxis": {
             "endlinecolor": "#2a3f5f",
             "gridcolor": "white",
             "linecolor": "white",
             "minorgridcolor": "white",
             "startlinecolor": "#2a3f5f"
            },
            "type": "carpet"
           }
          ],
          "choropleth": [
           {
            "colorbar": {
             "outlinewidth": 0,
             "ticks": ""
            },
            "type": "choropleth"
           }
          ],
          "contour": [
           {
            "colorbar": {
             "outlinewidth": 0,
             "ticks": ""
            },
            "colorscale": [
             [
              0,
              "#0d0887"
             ],
             [
              0.1111111111111111,
              "#46039f"
             ],
             [
              0.2222222222222222,
              "#7201a8"
             ],
             [
              0.3333333333333333,
              "#9c179e"
             ],
             [
              0.4444444444444444,
              "#bd3786"
             ],
             [
              0.5555555555555556,
              "#d8576b"
             ],
             [
              0.6666666666666666,
              "#ed7953"
             ],
             [
              0.7777777777777778,
              "#fb9f3a"
             ],
             [
              0.8888888888888888,
              "#fdca26"
             ],
             [
              1,
              "#f0f921"
             ]
            ],
            "type": "contour"
           }
          ],
          "contourcarpet": [
           {
            "colorbar": {
             "outlinewidth": 0,
             "ticks": ""
            },
            "type": "contourcarpet"
           }
          ],
          "heatmap": [
           {
            "colorbar": {
             "outlinewidth": 0,
             "ticks": ""
            },
            "colorscale": [
             [
              0,
              "#0d0887"
             ],
             [
              0.1111111111111111,
              "#46039f"
             ],
             [
              0.2222222222222222,
              "#7201a8"
             ],
             [
              0.3333333333333333,
              "#9c179e"
             ],
             [
              0.4444444444444444,
              "#bd3786"
             ],
             [
              0.5555555555555556,
              "#d8576b"
             ],
             [
              0.6666666666666666,
              "#ed7953"
             ],
             [
              0.7777777777777778,
              "#fb9f3a"
             ],
             [
              0.8888888888888888,
              "#fdca26"
             ],
             [
              1,
              "#f0f921"
             ]
            ],
            "type": "heatmap"
           }
          ],
          "heatmapgl": [
           {
            "colorbar": {
             "outlinewidth": 0,
             "ticks": ""
            },
            "colorscale": [
             [
              0,
              "#0d0887"
             ],
             [
              0.1111111111111111,
              "#46039f"
             ],
             [
              0.2222222222222222,
              "#7201a8"
             ],
             [
              0.3333333333333333,
              "#9c179e"
             ],
             [
              0.4444444444444444,
              "#bd3786"
             ],
             [
              0.5555555555555556,
              "#d8576b"
             ],
             [
              0.6666666666666666,
              "#ed7953"
             ],
             [
              0.7777777777777778,
              "#fb9f3a"
             ],
             [
              0.8888888888888888,
              "#fdca26"
             ],
             [
              1,
              "#f0f921"
             ]
            ],
            "type": "heatmapgl"
           }
          ],
          "histogram": [
           {
            "marker": {
             "pattern": {
              "fillmode": "overlay",
              "size": 10,
              "solidity": 0.2
             }
            },
            "type": "histogram"
           }
          ],
          "histogram2d": [
           {
            "colorbar": {
             "outlinewidth": 0,
             "ticks": ""
            },
            "colorscale": [
             [
              0,
              "#0d0887"
             ],
             [
              0.1111111111111111,
              "#46039f"
             ],
             [
              0.2222222222222222,
              "#7201a8"
             ],
             [
              0.3333333333333333,
              "#9c179e"
             ],
             [
              0.4444444444444444,
              "#bd3786"
             ],
             [
              0.5555555555555556,
              "#d8576b"
             ],
             [
              0.6666666666666666,
              "#ed7953"
             ],
             [
              0.7777777777777778,
              "#fb9f3a"
             ],
             [
              0.8888888888888888,
              "#fdca26"
             ],
             [
              1,
              "#f0f921"
             ]
            ],
            "type": "histogram2d"
           }
          ],
          "histogram2dcontour": [
           {
            "colorbar": {
             "outlinewidth": 0,
             "ticks": ""
            },
            "colorscale": [
             [
              0,
              "#0d0887"
             ],
             [
              0.1111111111111111,
              "#46039f"
             ],
             [
              0.2222222222222222,
              "#7201a8"
             ],
             [
              0.3333333333333333,
              "#9c179e"
             ],
             [
              0.4444444444444444,
              "#bd3786"
             ],
             [
              0.5555555555555556,
              "#d8576b"
             ],
             [
              0.6666666666666666,
              "#ed7953"
             ],
             [
              0.7777777777777778,
              "#fb9f3a"
             ],
             [
              0.8888888888888888,
              "#fdca26"
             ],
             [
              1,
              "#f0f921"
             ]
            ],
            "type": "histogram2dcontour"
           }
          ],
          "mesh3d": [
           {
            "colorbar": {
             "outlinewidth": 0,
             "ticks": ""
            },
            "type": "mesh3d"
           }
          ],
          "parcoords": [
           {
            "line": {
             "colorbar": {
              "outlinewidth": 0,
              "ticks": ""
             }
            },
            "type": "parcoords"
           }
          ],
          "pie": [
           {
            "automargin": true,
            "type": "pie"
           }
          ],
          "scatter": [
           {
            "fillpattern": {
             "fillmode": "overlay",
             "size": 10,
             "solidity": 0.2
            },
            "type": "scatter"
           }
          ],
          "scatter3d": [
           {
            "line": {
             "colorbar": {
              "outlinewidth": 0,
              "ticks": ""
             }
            },
            "marker": {
             "colorbar": {
              "outlinewidth": 0,
              "ticks": ""
             }
            },
            "type": "scatter3d"
           }
          ],
          "scattercarpet": [
           {
            "marker": {
             "colorbar": {
              "outlinewidth": 0,
              "ticks": ""
             }
            },
            "type": "scattercarpet"
           }
          ],
          "scattergeo": [
           {
            "marker": {
             "colorbar": {
              "outlinewidth": 0,
              "ticks": ""
             }
            },
            "type": "scattergeo"
           }
          ],
          "scattergl": [
           {
            "marker": {
             "colorbar": {
              "outlinewidth": 0,
              "ticks": ""
             }
            },
            "type": "scattergl"
           }
          ],
          "scattermapbox": [
           {
            "marker": {
             "colorbar": {
              "outlinewidth": 0,
              "ticks": ""
             }
            },
            "type": "scattermapbox"
           }
          ],
          "scatterpolar": [
           {
            "marker": {
             "colorbar": {
              "outlinewidth": 0,
              "ticks": ""
             }
            },
            "type": "scatterpolar"
           }
          ],
          "scatterpolargl": [
           {
            "marker": {
             "colorbar": {
              "outlinewidth": 0,
              "ticks": ""
             }
            },
            "type": "scatterpolargl"
           }
          ],
          "scatterternary": [
           {
            "marker": {
             "colorbar": {
              "outlinewidth": 0,
              "ticks": ""
             }
            },
            "type": "scatterternary"
           }
          ],
          "surface": [
           {
            "colorbar": {
             "outlinewidth": 0,
             "ticks": ""
            },
            "colorscale": [
             [
              0,
              "#0d0887"
             ],
             [
              0.1111111111111111,
              "#46039f"
             ],
             [
              0.2222222222222222,
              "#7201a8"
             ],
             [
              0.3333333333333333,
              "#9c179e"
             ],
             [
              0.4444444444444444,
              "#bd3786"
             ],
             [
              0.5555555555555556,
              "#d8576b"
             ],
             [
              0.6666666666666666,
              "#ed7953"
             ],
             [
              0.7777777777777778,
              "#fb9f3a"
             ],
             [
              0.8888888888888888,
              "#fdca26"
             ],
             [
              1,
              "#f0f921"
             ]
            ],
            "type": "surface"
           }
          ],
          "table": [
           {
            "cells": {
             "fill": {
              "color": "#EBF0F8"
             },
             "line": {
              "color": "white"
             }
            },
            "header": {
             "fill": {
              "color": "#C8D4E3"
             },
             "line": {
              "color": "white"
             }
            },
            "type": "table"
           }
          ]
         },
         "layout": {
          "annotationdefaults": {
           "arrowcolor": "#2a3f5f",
           "arrowhead": 0,
           "arrowwidth": 1
          },
          "autotypenumbers": "strict",
          "coloraxis": {
           "colorbar": {
            "outlinewidth": 0,
            "ticks": ""
           }
          },
          "colorscale": {
           "diverging": [
            [
             0,
             "#8e0152"
            ],
            [
             0.1,
             "#c51b7d"
            ],
            [
             0.2,
             "#de77ae"
            ],
            [
             0.3,
             "#f1b6da"
            ],
            [
             0.4,
             "#fde0ef"
            ],
            [
             0.5,
             "#f7f7f7"
            ],
            [
             0.6,
             "#e6f5d0"
            ],
            [
             0.7,
             "#b8e186"
            ],
            [
             0.8,
             "#7fbc41"
            ],
            [
             0.9,
             "#4d9221"
            ],
            [
             1,
             "#276419"
            ]
           ],
           "sequential": [
            [
             0,
             "#0d0887"
            ],
            [
             0.1111111111111111,
             "#46039f"
            ],
            [
             0.2222222222222222,
             "#7201a8"
            ],
            [
             0.3333333333333333,
             "#9c179e"
            ],
            [
             0.4444444444444444,
             "#bd3786"
            ],
            [
             0.5555555555555556,
             "#d8576b"
            ],
            [
             0.6666666666666666,
             "#ed7953"
            ],
            [
             0.7777777777777778,
             "#fb9f3a"
            ],
            [
             0.8888888888888888,
             "#fdca26"
            ],
            [
             1,
             "#f0f921"
            ]
           ],
           "sequentialminus": [
            [
             0,
             "#0d0887"
            ],
            [
             0.1111111111111111,
             "#46039f"
            ],
            [
             0.2222222222222222,
             "#7201a8"
            ],
            [
             0.3333333333333333,
             "#9c179e"
            ],
            [
             0.4444444444444444,
             "#bd3786"
            ],
            [
             0.5555555555555556,
             "#d8576b"
            ],
            [
             0.6666666666666666,
             "#ed7953"
            ],
            [
             0.7777777777777778,
             "#fb9f3a"
            ],
            [
             0.8888888888888888,
             "#fdca26"
            ],
            [
             1,
             "#f0f921"
            ]
           ]
          },
          "colorway": [
           "#636efa",
           "#EF553B",
           "#00cc96",
           "#ab63fa",
           "#FFA15A",
           "#19d3f3",
           "#FF6692",
           "#B6E880",
           "#FF97FF",
           "#FECB52"
          ],
          "font": {
           "color": "#2a3f5f"
          },
          "geo": {
           "bgcolor": "white",
           "lakecolor": "white",
           "landcolor": "#E5ECF6",
           "showlakes": true,
           "showland": true,
           "subunitcolor": "white"
          },
          "hoverlabel": {
           "align": "left"
          },
          "hovermode": "closest",
          "mapbox": {
           "style": "light"
          },
          "paper_bgcolor": "white",
          "plot_bgcolor": "#E5ECF6",
          "polar": {
           "angularaxis": {
            "gridcolor": "white",
            "linecolor": "white",
            "ticks": ""
           },
           "bgcolor": "#E5ECF6",
           "radialaxis": {
            "gridcolor": "white",
            "linecolor": "white",
            "ticks": ""
           }
          },
          "scene": {
           "xaxis": {
            "backgroundcolor": "#E5ECF6",
            "gridcolor": "white",
            "gridwidth": 2,
            "linecolor": "white",
            "showbackground": true,
            "ticks": "",
            "zerolinecolor": "white"
           },
           "yaxis": {
            "backgroundcolor": "#E5ECF6",
            "gridcolor": "white",
            "gridwidth": 2,
            "linecolor": "white",
            "showbackground": true,
            "ticks": "",
            "zerolinecolor": "white"
           },
           "zaxis": {
            "backgroundcolor": "#E5ECF6",
            "gridcolor": "white",
            "gridwidth": 2,
            "linecolor": "white",
            "showbackground": true,
            "ticks": "",
            "zerolinecolor": "white"
           }
          },
          "shapedefaults": {
           "line": {
            "color": "#2a3f5f"
           }
          },
          "ternary": {
           "aaxis": {
            "gridcolor": "white",
            "linecolor": "white",
            "ticks": ""
           },
           "baxis": {
            "gridcolor": "white",
            "linecolor": "white",
            "ticks": ""
           },
           "bgcolor": "#E5ECF6",
           "caxis": {
            "gridcolor": "white",
            "linecolor": "white",
            "ticks": ""
           }
          },
          "title": {
           "x": 0.05
          },
          "xaxis": {
           "automargin": true,
           "gridcolor": "white",
           "linecolor": "white",
           "ticks": "",
           "title": {
            "standoff": 15
           },
           "zerolinecolor": "white",
           "zerolinewidth": 2
          },
          "yaxis": {
           "automargin": true,
           "gridcolor": "white",
           "linecolor": "white",
           "ticks": "",
           "title": {
            "standoff": 15
           },
           "zerolinecolor": "white",
           "zerolinewidth": 2
          }
         }
        }
       }
      }
     },
     "metadata": {},
     "output_type": "display_data"
    }
   ],
   "source": [
    "from sklearn.decomposition import KernelPCA, SparsePCA\n",
    "\n",
    "kernel_pca = KernelPCA(n_components=3, kernel='rbf')\n",
    "kernel_pca_data = kernel_pca.fit_transform(PCA_data_numbers)\n",
    "\n",
    "# Converting the transformed data back to a DataFrame\n",
    "df_kernel_pca_data = pd.DataFrame(kernel_pca_data, columns=['PC1', 'PC2', 'PC3'])\n",
    "\n",
    "fig_2d = px.scatter_3d(df_kernel_pca_data, x='PC1', y='PC2', z='PC3')\n",
    "fig_2d.show()"
   ]
  },
  {
   "cell_type": "code",
   "execution_count": 153,
   "metadata": {},
   "outputs": [
    {
     "data": {
      "application/vnd.plotly.v1+json": {
       "config": {
        "plotlyServerURL": "https://plot.ly"
       },
       "data": [
        {
         "hovertemplate": "PC1=%{x}<br>PC2=%{y}<br>PC3=%{z}<extra></extra>",
         "legendgroup": "",
         "marker": {
          "color": "#636efa",
          "symbol": "circle"
         },
         "mode": "markers",
         "name": "",
         "scene": "scene",
         "showlegend": false,
         "type": "scatter3d",
         "x": [
          -0.451959910073473,
          -0.5558691731557502,
          0.2627779957804424,
          -0.4276954757475417,
          0.548351957631479,
          0.2721272366996573,
          -0.23792287753494742,
          0.02698468939570246,
          -0.0060738611645928305,
          0.569279418169023
         ],
         "y": [
          -0.37822397469793584,
          -0.10039987252637635,
          0.3971772906481813,
          0.1888367680371465,
          -0.46258083237447606,
          0.36503532991192406,
          -0.34494174683843154,
          0.6023489432646956,
          0.0733771125230935,
          -0.34062901794782124
         ],
         "z": [
          -0.04666110896441456,
          -0.056083333219893124,
          0.24299358222072473,
          -0.008577293525148638,
          -0.03605447077376108,
          -0.2937880036591107,
          -0.20678294973361094,
          -0.31970516850947533,
          0.8224026901945913,
          -0.09774394402990157
         ]
        }
       ],
       "layout": {
        "autosize": true,
        "legend": {
         "tracegroupgap": 0
        },
        "margin": {
         "t": 60
        },
        "scene": {
         "aspectmode": "auto",
         "aspectratio": {
          "x": 1.0134380915334098,
          "y": 0.9591981074874247,
          "z": 1.0287135562135366
         },
         "domain": {
          "x": [
           0,
           1
          ],
          "y": [
           0,
           1
          ]
         },
         "xaxis": {
          "title": {
           "text": "PC1"
          },
          "type": "linear"
         },
         "yaxis": {
          "title": {
           "text": "PC2"
          },
          "type": "linear"
         },
         "zaxis": {
          "title": {
           "text": "PC3"
          },
          "type": "linear"
         }
        },
        "template": {
         "data": {
          "bar": [
           {
            "error_x": {
             "color": "#2a3f5f"
            },
            "error_y": {
             "color": "#2a3f5f"
            },
            "marker": {
             "line": {
              "color": "#E5ECF6",
              "width": 0.5
             },
             "pattern": {
              "fillmode": "overlay",
              "size": 10,
              "solidity": 0.2
             }
            },
            "type": "bar"
           }
          ],
          "barpolar": [
           {
            "marker": {
             "line": {
              "color": "#E5ECF6",
              "width": 0.5
             },
             "pattern": {
              "fillmode": "overlay",
              "size": 10,
              "solidity": 0.2
             }
            },
            "type": "barpolar"
           }
          ],
          "carpet": [
           {
            "aaxis": {
             "endlinecolor": "#2a3f5f",
             "gridcolor": "white",
             "linecolor": "white",
             "minorgridcolor": "white",
             "startlinecolor": "#2a3f5f"
            },
            "baxis": {
             "endlinecolor": "#2a3f5f",
             "gridcolor": "white",
             "linecolor": "white",
             "minorgridcolor": "white",
             "startlinecolor": "#2a3f5f"
            },
            "type": "carpet"
           }
          ],
          "choropleth": [
           {
            "colorbar": {
             "outlinewidth": 0,
             "ticks": ""
            },
            "type": "choropleth"
           }
          ],
          "contour": [
           {
            "colorbar": {
             "outlinewidth": 0,
             "ticks": ""
            },
            "colorscale": [
             [
              0,
              "#0d0887"
             ],
             [
              0.1111111111111111,
              "#46039f"
             ],
             [
              0.2222222222222222,
              "#7201a8"
             ],
             [
              0.3333333333333333,
              "#9c179e"
             ],
             [
              0.4444444444444444,
              "#bd3786"
             ],
             [
              0.5555555555555556,
              "#d8576b"
             ],
             [
              0.6666666666666666,
              "#ed7953"
             ],
             [
              0.7777777777777778,
              "#fb9f3a"
             ],
             [
              0.8888888888888888,
              "#fdca26"
             ],
             [
              1,
              "#f0f921"
             ]
            ],
            "type": "contour"
           }
          ],
          "contourcarpet": [
           {
            "colorbar": {
             "outlinewidth": 0,
             "ticks": ""
            },
            "type": "contourcarpet"
           }
          ],
          "heatmap": [
           {
            "colorbar": {
             "outlinewidth": 0,
             "ticks": ""
            },
            "colorscale": [
             [
              0,
              "#0d0887"
             ],
             [
              0.1111111111111111,
              "#46039f"
             ],
             [
              0.2222222222222222,
              "#7201a8"
             ],
             [
              0.3333333333333333,
              "#9c179e"
             ],
             [
              0.4444444444444444,
              "#bd3786"
             ],
             [
              0.5555555555555556,
              "#d8576b"
             ],
             [
              0.6666666666666666,
              "#ed7953"
             ],
             [
              0.7777777777777778,
              "#fb9f3a"
             ],
             [
              0.8888888888888888,
              "#fdca26"
             ],
             [
              1,
              "#f0f921"
             ]
            ],
            "type": "heatmap"
           }
          ],
          "heatmapgl": [
           {
            "colorbar": {
             "outlinewidth": 0,
             "ticks": ""
            },
            "colorscale": [
             [
              0,
              "#0d0887"
             ],
             [
              0.1111111111111111,
              "#46039f"
             ],
             [
              0.2222222222222222,
              "#7201a8"
             ],
             [
              0.3333333333333333,
              "#9c179e"
             ],
             [
              0.4444444444444444,
              "#bd3786"
             ],
             [
              0.5555555555555556,
              "#d8576b"
             ],
             [
              0.6666666666666666,
              "#ed7953"
             ],
             [
              0.7777777777777778,
              "#fb9f3a"
             ],
             [
              0.8888888888888888,
              "#fdca26"
             ],
             [
              1,
              "#f0f921"
             ]
            ],
            "type": "heatmapgl"
           }
          ],
          "histogram": [
           {
            "marker": {
             "pattern": {
              "fillmode": "overlay",
              "size": 10,
              "solidity": 0.2
             }
            },
            "type": "histogram"
           }
          ],
          "histogram2d": [
           {
            "colorbar": {
             "outlinewidth": 0,
             "ticks": ""
            },
            "colorscale": [
             [
              0,
              "#0d0887"
             ],
             [
              0.1111111111111111,
              "#46039f"
             ],
             [
              0.2222222222222222,
              "#7201a8"
             ],
             [
              0.3333333333333333,
              "#9c179e"
             ],
             [
              0.4444444444444444,
              "#bd3786"
             ],
             [
              0.5555555555555556,
              "#d8576b"
             ],
             [
              0.6666666666666666,
              "#ed7953"
             ],
             [
              0.7777777777777778,
              "#fb9f3a"
             ],
             [
              0.8888888888888888,
              "#fdca26"
             ],
             [
              1,
              "#f0f921"
             ]
            ],
            "type": "histogram2d"
           }
          ],
          "histogram2dcontour": [
           {
            "colorbar": {
             "outlinewidth": 0,
             "ticks": ""
            },
            "colorscale": [
             [
              0,
              "#0d0887"
             ],
             [
              0.1111111111111111,
              "#46039f"
             ],
             [
              0.2222222222222222,
              "#7201a8"
             ],
             [
              0.3333333333333333,
              "#9c179e"
             ],
             [
              0.4444444444444444,
              "#bd3786"
             ],
             [
              0.5555555555555556,
              "#d8576b"
             ],
             [
              0.6666666666666666,
              "#ed7953"
             ],
             [
              0.7777777777777778,
              "#fb9f3a"
             ],
             [
              0.8888888888888888,
              "#fdca26"
             ],
             [
              1,
              "#f0f921"
             ]
            ],
            "type": "histogram2dcontour"
           }
          ],
          "mesh3d": [
           {
            "colorbar": {
             "outlinewidth": 0,
             "ticks": ""
            },
            "type": "mesh3d"
           }
          ],
          "parcoords": [
           {
            "line": {
             "colorbar": {
              "outlinewidth": 0,
              "ticks": ""
             }
            },
            "type": "parcoords"
           }
          ],
          "pie": [
           {
            "automargin": true,
            "type": "pie"
           }
          ],
          "scatter": [
           {
            "fillpattern": {
             "fillmode": "overlay",
             "size": 10,
             "solidity": 0.2
            },
            "type": "scatter"
           }
          ],
          "scatter3d": [
           {
            "line": {
             "colorbar": {
              "outlinewidth": 0,
              "ticks": ""
             }
            },
            "marker": {
             "colorbar": {
              "outlinewidth": 0,
              "ticks": ""
             }
            },
            "type": "scatter3d"
           }
          ],
          "scattercarpet": [
           {
            "marker": {
             "colorbar": {
              "outlinewidth": 0,
              "ticks": ""
             }
            },
            "type": "scattercarpet"
           }
          ],
          "scattergeo": [
           {
            "marker": {
             "colorbar": {
              "outlinewidth": 0,
              "ticks": ""
             }
            },
            "type": "scattergeo"
           }
          ],
          "scattergl": [
           {
            "marker": {
             "colorbar": {
              "outlinewidth": 0,
              "ticks": ""
             }
            },
            "type": "scattergl"
           }
          ],
          "scattermapbox": [
           {
            "marker": {
             "colorbar": {
              "outlinewidth": 0,
              "ticks": ""
             }
            },
            "type": "scattermapbox"
           }
          ],
          "scatterpolar": [
           {
            "marker": {
             "colorbar": {
              "outlinewidth": 0,
              "ticks": ""
             }
            },
            "type": "scatterpolar"
           }
          ],
          "scatterpolargl": [
           {
            "marker": {
             "colorbar": {
              "outlinewidth": 0,
              "ticks": ""
             }
            },
            "type": "scatterpolargl"
           }
          ],
          "scatterternary": [
           {
            "marker": {
             "colorbar": {
              "outlinewidth": 0,
              "ticks": ""
             }
            },
            "type": "scatterternary"
           }
          ],
          "surface": [
           {
            "colorbar": {
             "outlinewidth": 0,
             "ticks": ""
            },
            "colorscale": [
             [
              0,
              "#0d0887"
             ],
             [
              0.1111111111111111,
              "#46039f"
             ],
             [
              0.2222222222222222,
              "#7201a8"
             ],
             [
              0.3333333333333333,
              "#9c179e"
             ],
             [
              0.4444444444444444,
              "#bd3786"
             ],
             [
              0.5555555555555556,
              "#d8576b"
             ],
             [
              0.6666666666666666,
              "#ed7953"
             ],
             [
              0.7777777777777778,
              "#fb9f3a"
             ],
             [
              0.8888888888888888,
              "#fdca26"
             ],
             [
              1,
              "#f0f921"
             ]
            ],
            "type": "surface"
           }
          ],
          "table": [
           {
            "cells": {
             "fill": {
              "color": "#EBF0F8"
             },
             "line": {
              "color": "white"
             }
            },
            "header": {
             "fill": {
              "color": "#C8D4E3"
             },
             "line": {
              "color": "white"
             }
            },
            "type": "table"
           }
          ]
         },
         "layout": {
          "annotationdefaults": {
           "arrowcolor": "#2a3f5f",
           "arrowhead": 0,
           "arrowwidth": 1
          },
          "autotypenumbers": "strict",
          "coloraxis": {
           "colorbar": {
            "outlinewidth": 0,
            "ticks": ""
           }
          },
          "colorscale": {
           "diverging": [
            [
             0,
             "#8e0152"
            ],
            [
             0.1,
             "#c51b7d"
            ],
            [
             0.2,
             "#de77ae"
            ],
            [
             0.3,
             "#f1b6da"
            ],
            [
             0.4,
             "#fde0ef"
            ],
            [
             0.5,
             "#f7f7f7"
            ],
            [
             0.6,
             "#e6f5d0"
            ],
            [
             0.7,
             "#b8e186"
            ],
            [
             0.8,
             "#7fbc41"
            ],
            [
             0.9,
             "#4d9221"
            ],
            [
             1,
             "#276419"
            ]
           ],
           "sequential": [
            [
             0,
             "#0d0887"
            ],
            [
             0.1111111111111111,
             "#46039f"
            ],
            [
             0.2222222222222222,
             "#7201a8"
            ],
            [
             0.3333333333333333,
             "#9c179e"
            ],
            [
             0.4444444444444444,
             "#bd3786"
            ],
            [
             0.5555555555555556,
             "#d8576b"
            ],
            [
             0.6666666666666666,
             "#ed7953"
            ],
            [
             0.7777777777777778,
             "#fb9f3a"
            ],
            [
             0.8888888888888888,
             "#fdca26"
            ],
            [
             1,
             "#f0f921"
            ]
           ],
           "sequentialminus": [
            [
             0,
             "#0d0887"
            ],
            [
             0.1111111111111111,
             "#46039f"
            ],
            [
             0.2222222222222222,
             "#7201a8"
            ],
            [
             0.3333333333333333,
             "#9c179e"
            ],
            [
             0.4444444444444444,
             "#bd3786"
            ],
            [
             0.5555555555555556,
             "#d8576b"
            ],
            [
             0.6666666666666666,
             "#ed7953"
            ],
            [
             0.7777777777777778,
             "#fb9f3a"
            ],
            [
             0.8888888888888888,
             "#fdca26"
            ],
            [
             1,
             "#f0f921"
            ]
           ]
          },
          "colorway": [
           "#636efa",
           "#EF553B",
           "#00cc96",
           "#ab63fa",
           "#FFA15A",
           "#19d3f3",
           "#FF6692",
           "#B6E880",
           "#FF97FF",
           "#FECB52"
          ],
          "font": {
           "color": "#2a3f5f"
          },
          "geo": {
           "bgcolor": "white",
           "lakecolor": "white",
           "landcolor": "#E5ECF6",
           "showlakes": true,
           "showland": true,
           "subunitcolor": "white"
          },
          "hoverlabel": {
           "align": "left"
          },
          "hovermode": "closest",
          "mapbox": {
           "style": "light"
          },
          "paper_bgcolor": "white",
          "plot_bgcolor": "#E5ECF6",
          "polar": {
           "angularaxis": {
            "gridcolor": "white",
            "linecolor": "white",
            "ticks": ""
           },
           "bgcolor": "#E5ECF6",
           "radialaxis": {
            "gridcolor": "white",
            "linecolor": "white",
            "ticks": ""
           }
          },
          "scene": {
           "xaxis": {
            "backgroundcolor": "#E5ECF6",
            "gridcolor": "white",
            "gridwidth": 2,
            "linecolor": "white",
            "showbackground": true,
            "ticks": "",
            "zerolinecolor": "white"
           },
           "yaxis": {
            "backgroundcolor": "#E5ECF6",
            "gridcolor": "white",
            "gridwidth": 2,
            "linecolor": "white",
            "showbackground": true,
            "ticks": "",
            "zerolinecolor": "white"
           },
           "zaxis": {
            "backgroundcolor": "#E5ECF6",
            "gridcolor": "white",
            "gridwidth": 2,
            "linecolor": "white",
            "showbackground": true,
            "ticks": "",
            "zerolinecolor": "white"
           }
          },
          "shapedefaults": {
           "line": {
            "color": "#2a3f5f"
           }
          },
          "ternary": {
           "aaxis": {
            "gridcolor": "white",
            "linecolor": "white",
            "ticks": ""
           },
           "baxis": {
            "gridcolor": "white",
            "linecolor": "white",
            "ticks": ""
           },
           "bgcolor": "#E5ECF6",
           "caxis": {
            "gridcolor": "white",
            "linecolor": "white",
            "ticks": ""
           }
          },
          "title": {
           "x": 0.05
          },
          "xaxis": {
           "automargin": true,
           "gridcolor": "white",
           "linecolor": "white",
           "ticks": "",
           "title": {
            "standoff": 15
           },
           "zerolinecolor": "white",
           "zerolinewidth": 2
          },
          "yaxis": {
           "automargin": true,
           "gridcolor": "white",
           "linecolor": "white",
           "ticks": "",
           "title": {
            "standoff": 15
           },
           "zerolinecolor": "white",
           "zerolinewidth": 2
          }
         }
        }
       }
      },
      "text/html": [
       "<div>                            <div id=\"d1a518ca-4239-4752-a659-49d476872441\" class=\"plotly-graph-div\" style=\"height:525px; width:100%;\"></div>            <script type=\"text/javascript\">                require([\"plotly\"], function(Plotly) {                    window.PLOTLYENV=window.PLOTLYENV || {};                                    if (document.getElementById(\"d1a518ca-4239-4752-a659-49d476872441\")) {                    Plotly.newPlot(                        \"d1a518ca-4239-4752-a659-49d476872441\",                        [{\"hovertemplate\":\"PC1=%{x}\\u003cbr\\u003ePC2=%{y}\\u003cbr\\u003ePC3=%{z}\\u003cextra\\u003e\\u003c\\u002fextra\\u003e\",\"legendgroup\":\"\",\"marker\":{\"color\":\"#636efa\",\"symbol\":\"circle\"},\"mode\":\"markers\",\"name\":\"\",\"scene\":\"scene\",\"showlegend\":false,\"x\":[-0.451959910073473,-0.5558691731557502,0.2627779957804424,-0.4276954757475417,0.548351957631479,0.2721272366996573,-0.23792287753494742,0.02698468939570246,-0.0060738611645928305,0.569279418169023],\"y\":[-0.37822397469793584,-0.10039987252637635,0.3971772906481813,0.1888367680371465,-0.46258083237447606,0.36503532991192406,-0.34494174683843154,0.6023489432646956,0.0733771125230935,-0.34062901794782124],\"z\":[-0.04666110896441456,-0.056083333219893124,0.24299358222072473,-0.008577293525148638,-0.03605447077376108,-0.2937880036591107,-0.20678294973361094,-0.31970516850947533,0.8224026901945913,-0.09774394402990157],\"type\":\"scatter3d\"}],                        {\"template\":{\"data\":{\"histogram2dcontour\":[{\"type\":\"histogram2dcontour\",\"colorbar\":{\"outlinewidth\":0,\"ticks\":\"\"},\"colorscale\":[[0.0,\"#0d0887\"],[0.1111111111111111,\"#46039f\"],[0.2222222222222222,\"#7201a8\"],[0.3333333333333333,\"#9c179e\"],[0.4444444444444444,\"#bd3786\"],[0.5555555555555556,\"#d8576b\"],[0.6666666666666666,\"#ed7953\"],[0.7777777777777778,\"#fb9f3a\"],[0.8888888888888888,\"#fdca26\"],[1.0,\"#f0f921\"]]}],\"choropleth\":[{\"type\":\"choropleth\",\"colorbar\":{\"outlinewidth\":0,\"ticks\":\"\"}}],\"histogram2d\":[{\"type\":\"histogram2d\",\"colorbar\":{\"outlinewidth\":0,\"ticks\":\"\"},\"colorscale\":[[0.0,\"#0d0887\"],[0.1111111111111111,\"#46039f\"],[0.2222222222222222,\"#7201a8\"],[0.3333333333333333,\"#9c179e\"],[0.4444444444444444,\"#bd3786\"],[0.5555555555555556,\"#d8576b\"],[0.6666666666666666,\"#ed7953\"],[0.7777777777777778,\"#fb9f3a\"],[0.8888888888888888,\"#fdca26\"],[1.0,\"#f0f921\"]]}],\"heatmap\":[{\"type\":\"heatmap\",\"colorbar\":{\"outlinewidth\":0,\"ticks\":\"\"},\"colorscale\":[[0.0,\"#0d0887\"],[0.1111111111111111,\"#46039f\"],[0.2222222222222222,\"#7201a8\"],[0.3333333333333333,\"#9c179e\"],[0.4444444444444444,\"#bd3786\"],[0.5555555555555556,\"#d8576b\"],[0.6666666666666666,\"#ed7953\"],[0.7777777777777778,\"#fb9f3a\"],[0.8888888888888888,\"#fdca26\"],[1.0,\"#f0f921\"]]}],\"heatmapgl\":[{\"type\":\"heatmapgl\",\"colorbar\":{\"outlinewidth\":0,\"ticks\":\"\"},\"colorscale\":[[0.0,\"#0d0887\"],[0.1111111111111111,\"#46039f\"],[0.2222222222222222,\"#7201a8\"],[0.3333333333333333,\"#9c179e\"],[0.4444444444444444,\"#bd3786\"],[0.5555555555555556,\"#d8576b\"],[0.6666666666666666,\"#ed7953\"],[0.7777777777777778,\"#fb9f3a\"],[0.8888888888888888,\"#fdca26\"],[1.0,\"#f0f921\"]]}],\"contourcarpet\":[{\"type\":\"contourcarpet\",\"colorbar\":{\"outlinewidth\":0,\"ticks\":\"\"}}],\"contour\":[{\"type\":\"contour\",\"colorbar\":{\"outlinewidth\":0,\"ticks\":\"\"},\"colorscale\":[[0.0,\"#0d0887\"],[0.1111111111111111,\"#46039f\"],[0.2222222222222222,\"#7201a8\"],[0.3333333333333333,\"#9c179e\"],[0.4444444444444444,\"#bd3786\"],[0.5555555555555556,\"#d8576b\"],[0.6666666666666666,\"#ed7953\"],[0.7777777777777778,\"#fb9f3a\"],[0.8888888888888888,\"#fdca26\"],[1.0,\"#f0f921\"]]}],\"surface\":[{\"type\":\"surface\",\"colorbar\":{\"outlinewidth\":0,\"ticks\":\"\"},\"colorscale\":[[0.0,\"#0d0887\"],[0.1111111111111111,\"#46039f\"],[0.2222222222222222,\"#7201a8\"],[0.3333333333333333,\"#9c179e\"],[0.4444444444444444,\"#bd3786\"],[0.5555555555555556,\"#d8576b\"],[0.6666666666666666,\"#ed7953\"],[0.7777777777777778,\"#fb9f3a\"],[0.8888888888888888,\"#fdca26\"],[1.0,\"#f0f921\"]]}],\"mesh3d\":[{\"type\":\"mesh3d\",\"colorbar\":{\"outlinewidth\":0,\"ticks\":\"\"}}],\"scatter\":[{\"fillpattern\":{\"fillmode\":\"overlay\",\"size\":10,\"solidity\":0.2},\"type\":\"scatter\"}],\"parcoords\":[{\"type\":\"parcoords\",\"line\":{\"colorbar\":{\"outlinewidth\":0,\"ticks\":\"\"}}}],\"scatterpolargl\":[{\"type\":\"scatterpolargl\",\"marker\":{\"colorbar\":{\"outlinewidth\":0,\"ticks\":\"\"}}}],\"bar\":[{\"error_x\":{\"color\":\"#2a3f5f\"},\"error_y\":{\"color\":\"#2a3f5f\"},\"marker\":{\"line\":{\"color\":\"#E5ECF6\",\"width\":0.5},\"pattern\":{\"fillmode\":\"overlay\",\"size\":10,\"solidity\":0.2}},\"type\":\"bar\"}],\"scattergeo\":[{\"type\":\"scattergeo\",\"marker\":{\"colorbar\":{\"outlinewidth\":0,\"ticks\":\"\"}}}],\"scatterpolar\":[{\"type\":\"scatterpolar\",\"marker\":{\"colorbar\":{\"outlinewidth\":0,\"ticks\":\"\"}}}],\"histogram\":[{\"marker\":{\"pattern\":{\"fillmode\":\"overlay\",\"size\":10,\"solidity\":0.2}},\"type\":\"histogram\"}],\"scattergl\":[{\"type\":\"scattergl\",\"marker\":{\"colorbar\":{\"outlinewidth\":0,\"ticks\":\"\"}}}],\"scatter3d\":[{\"type\":\"scatter3d\",\"line\":{\"colorbar\":{\"outlinewidth\":0,\"ticks\":\"\"}},\"marker\":{\"colorbar\":{\"outlinewidth\":0,\"ticks\":\"\"}}}],\"scattermapbox\":[{\"type\":\"scattermapbox\",\"marker\":{\"colorbar\":{\"outlinewidth\":0,\"ticks\":\"\"}}}],\"scatterternary\":[{\"type\":\"scatterternary\",\"marker\":{\"colorbar\":{\"outlinewidth\":0,\"ticks\":\"\"}}}],\"scattercarpet\":[{\"type\":\"scattercarpet\",\"marker\":{\"colorbar\":{\"outlinewidth\":0,\"ticks\":\"\"}}}],\"carpet\":[{\"aaxis\":{\"endlinecolor\":\"#2a3f5f\",\"gridcolor\":\"white\",\"linecolor\":\"white\",\"minorgridcolor\":\"white\",\"startlinecolor\":\"#2a3f5f\"},\"baxis\":{\"endlinecolor\":\"#2a3f5f\",\"gridcolor\":\"white\",\"linecolor\":\"white\",\"minorgridcolor\":\"white\",\"startlinecolor\":\"#2a3f5f\"},\"type\":\"carpet\"}],\"table\":[{\"cells\":{\"fill\":{\"color\":\"#EBF0F8\"},\"line\":{\"color\":\"white\"}},\"header\":{\"fill\":{\"color\":\"#C8D4E3\"},\"line\":{\"color\":\"white\"}},\"type\":\"table\"}],\"barpolar\":[{\"marker\":{\"line\":{\"color\":\"#E5ECF6\",\"width\":0.5},\"pattern\":{\"fillmode\":\"overlay\",\"size\":10,\"solidity\":0.2}},\"type\":\"barpolar\"}],\"pie\":[{\"automargin\":true,\"type\":\"pie\"}]},\"layout\":{\"autotypenumbers\":\"strict\",\"colorway\":[\"#636efa\",\"#EF553B\",\"#00cc96\",\"#ab63fa\",\"#FFA15A\",\"#19d3f3\",\"#FF6692\",\"#B6E880\",\"#FF97FF\",\"#FECB52\"],\"font\":{\"color\":\"#2a3f5f\"},\"hovermode\":\"closest\",\"hoverlabel\":{\"align\":\"left\"},\"paper_bgcolor\":\"white\",\"plot_bgcolor\":\"#E5ECF6\",\"polar\":{\"bgcolor\":\"#E5ECF6\",\"angularaxis\":{\"gridcolor\":\"white\",\"linecolor\":\"white\",\"ticks\":\"\"},\"radialaxis\":{\"gridcolor\":\"white\",\"linecolor\":\"white\",\"ticks\":\"\"}},\"ternary\":{\"bgcolor\":\"#E5ECF6\",\"aaxis\":{\"gridcolor\":\"white\",\"linecolor\":\"white\",\"ticks\":\"\"},\"baxis\":{\"gridcolor\":\"white\",\"linecolor\":\"white\",\"ticks\":\"\"},\"caxis\":{\"gridcolor\":\"white\",\"linecolor\":\"white\",\"ticks\":\"\"}},\"coloraxis\":{\"colorbar\":{\"outlinewidth\":0,\"ticks\":\"\"}},\"colorscale\":{\"sequential\":[[0.0,\"#0d0887\"],[0.1111111111111111,\"#46039f\"],[0.2222222222222222,\"#7201a8\"],[0.3333333333333333,\"#9c179e\"],[0.4444444444444444,\"#bd3786\"],[0.5555555555555556,\"#d8576b\"],[0.6666666666666666,\"#ed7953\"],[0.7777777777777778,\"#fb9f3a\"],[0.8888888888888888,\"#fdca26\"],[1.0,\"#f0f921\"]],\"sequentialminus\":[[0.0,\"#0d0887\"],[0.1111111111111111,\"#46039f\"],[0.2222222222222222,\"#7201a8\"],[0.3333333333333333,\"#9c179e\"],[0.4444444444444444,\"#bd3786\"],[0.5555555555555556,\"#d8576b\"],[0.6666666666666666,\"#ed7953\"],[0.7777777777777778,\"#fb9f3a\"],[0.8888888888888888,\"#fdca26\"],[1.0,\"#f0f921\"]],\"diverging\":[[0,\"#8e0152\"],[0.1,\"#c51b7d\"],[0.2,\"#de77ae\"],[0.3,\"#f1b6da\"],[0.4,\"#fde0ef\"],[0.5,\"#f7f7f7\"],[0.6,\"#e6f5d0\"],[0.7,\"#b8e186\"],[0.8,\"#7fbc41\"],[0.9,\"#4d9221\"],[1,\"#276419\"]]},\"xaxis\":{\"gridcolor\":\"white\",\"linecolor\":\"white\",\"ticks\":\"\",\"title\":{\"standoff\":15},\"zerolinecolor\":\"white\",\"automargin\":true,\"zerolinewidth\":2},\"yaxis\":{\"gridcolor\":\"white\",\"linecolor\":\"white\",\"ticks\":\"\",\"title\":{\"standoff\":15},\"zerolinecolor\":\"white\",\"automargin\":true,\"zerolinewidth\":2},\"scene\":{\"xaxis\":{\"backgroundcolor\":\"#E5ECF6\",\"gridcolor\":\"white\",\"linecolor\":\"white\",\"showbackground\":true,\"ticks\":\"\",\"zerolinecolor\":\"white\",\"gridwidth\":2},\"yaxis\":{\"backgroundcolor\":\"#E5ECF6\",\"gridcolor\":\"white\",\"linecolor\":\"white\",\"showbackground\":true,\"ticks\":\"\",\"zerolinecolor\":\"white\",\"gridwidth\":2},\"zaxis\":{\"backgroundcolor\":\"#E5ECF6\",\"gridcolor\":\"white\",\"linecolor\":\"white\",\"showbackground\":true,\"ticks\":\"\",\"zerolinecolor\":\"white\",\"gridwidth\":2}},\"shapedefaults\":{\"line\":{\"color\":\"#2a3f5f\"}},\"annotationdefaults\":{\"arrowcolor\":\"#2a3f5f\",\"arrowhead\":0,\"arrowwidth\":1},\"geo\":{\"bgcolor\":\"white\",\"landcolor\":\"#E5ECF6\",\"subunitcolor\":\"white\",\"showland\":true,\"showlakes\":true,\"lakecolor\":\"white\"},\"title\":{\"x\":0.05},\"mapbox\":{\"style\":\"light\"}}},\"scene\":{\"domain\":{\"x\":[0.0,1.0],\"y\":[0.0,1.0]},\"xaxis\":{\"title\":{\"text\":\"PC1\"}},\"yaxis\":{\"title\":{\"text\":\"PC2\"}},\"zaxis\":{\"title\":{\"text\":\"PC3\"}}},\"legend\":{\"tracegroupgap\":0},\"margin\":{\"t\":60}},                        {\"responsive\": true}                    ).then(function(){\n",
       "                            \n",
       "var gd = document.getElementById('d1a518ca-4239-4752-a659-49d476872441');\n",
       "var x = new MutationObserver(function (mutations, observer) {{\n",
       "        var display = window.getComputedStyle(gd).display;\n",
       "        if (!display || display === 'none') {{\n",
       "            console.log([gd, 'removed!']);\n",
       "            Plotly.purge(gd);\n",
       "            observer.disconnect();\n",
       "        }}\n",
       "}});\n",
       "\n",
       "// Listen for the removal of the full notebook cells\n",
       "var notebookContainer = gd.closest('#notebook-container');\n",
       "if (notebookContainer) {{\n",
       "    x.observe(notebookContainer, {childList: true});\n",
       "}}\n",
       "\n",
       "// Listen for the clearing of the current output cell\n",
       "var outputEl = gd.closest('.output');\n",
       "if (outputEl) {{\n",
       "    x.observe(outputEl, {childList: true});\n",
       "}}\n",
       "\n",
       "                        })                };                });            </script>        </div>"
      ]
     },
     "metadata": {},
     "output_type": "display_data"
    }
   ],
   "source": [
    "kernel_pca = KernelPCA(n_components=3, kernel='rbf')\n",
    "kernel_rookie = kernel_pca.fit_transform(PCA_data_numbers_rookie)\n",
    "\n",
    "# Converting the transformed data back to a DataFrame\n",
    "df_kernel_rookie = pd.DataFrame(kernel_rookie, columns=['PC1', 'PC2', 'PC3'])\n",
    "\n",
    "fig_2d = px.scatter_3d(df_kernel_rookie, x='PC1', y='PC2', z='PC3')\n",
    "fig_2d.show()\n"
   ]
  },
  {
   "cell_type": "code",
   "execution_count": 150,
   "metadata": {},
   "outputs": [
    {
     "data": {
      "application/vnd.plotly.v1+json": {
       "config": {
        "plotlyServerURL": "https://plot.ly"
       },
       "data": [
        {
         "hovertemplate": "SPC1=%{x}<br>SPC2=%{y}<br>SPC3=%{z}<extra></extra>",
         "legendgroup": "",
         "marker": {
          "color": "#636efa",
          "symbol": "circle"
         },
         "mode": "markers",
         "name": "",
         "scene": "scene",
         "showlegend": false,
         "type": "scatter3d",
         "x": [
          1.7169335240674182,
          6.431056336983005,
          2.028178817445752,
          5.642842885547896,
          6.1229571490156935,
          0.5318175459591347,
          13.109828647007758,
          3.2357422326250984,
          -4.122504335211966,
          -3.6511812695173336,
          6.1516510070580015,
          3.308023140781996,
          -3.143344792757199,
          -0.8743427841174112,
          -2.0252463554831452,
          7.325981665675716,
          -1.2912378986894937,
          2.2689733136478107,
          -4.267775786044771,
          10.555741822104897,
          10.801692841377706,
          -3.534937951296501,
          -1.0440779025359206,
          -2.879566769078284,
          7.558870834733356,
          -0.06339312504303518,
          -2.2280099430228204,
          -4.459642781077199,
          -2.4812378529657795,
          -3.8114039194745915,
          10.985915166780151,
          -4.124034745434691,
          6.630659725480768,
          -2.274482717757742,
          -4.008198552224228,
          -1.6814360302366815,
          1.2118312675068312,
          -1.5282697766056914,
          -4.261280409409922,
          4.661292786406752,
          -4.549691006202937,
          1.1991859250033037,
          3.598719036700639,
          7.65410505934698,
          0.25511424473026195,
          -3.5029494460281905,
          -5.043323032146106,
          -1.499269169570585,
          0.3891116430292284,
          -4.218112756542673,
          -3.7154628133324192,
          -2.3790310637565337,
          -1.115407929404376,
          -1.8505894246809969,
          -3.899830373488505,
          -4.126025233139026,
          -4.6035634358852775,
          -3.221817298781566,
          -1.4172070468192266,
          -4.391474111363165,
          -2.0716800023350728,
          0.2122801064438037,
          -3.445087655460908,
          -4.559405121318544,
          -0.29295062029288693,
          -4.824374225107385,
          -2.4201310736115094,
          -1.9118375548709874,
          12.125008973311214,
          -0.19467743576834604,
          4.331131672794748,
          0.9074328779446055,
          -4.196240817545449,
          -0.03588878630185644,
          -4.349955993250822,
          -0.9691837802976642,
          -2.8703479490035764,
          -4.2370861320210835,
          -0.10592837151572668,
          2.8220551083172802
         ],
         "y": [
          0.6273760632328503,
          5.453879603372169,
          0.33319539321130553,
          0.4690793115037821,
          -2.2483730399272175,
          -0.9564111291981087,
          1.1213120732323039,
          -0.9338738736668912,
          0.8218960992332189,
          2.48685239500354,
          -0.6823450205804503,
          -1.0573739832176055,
          -1.4135925797801325,
          -0.254925009937461,
          0.25288783797062075,
          -1.5817291237332294,
          4.297153230554377,
          -2.8527009409885298,
          -1.2117871993276157,
          9.256392893563975,
          1.7272109699851816,
          -1.1031165010581692,
          0.9470484091061062,
          -1.2352312350946157,
          3.109159176868946,
          5.269022556487285,
          -0.36425574344588296,
          -2.333349084550017,
          -1.140286448140335,
          -0.5381638207252277,
          -2.0217833528806626,
          -0.5458752277836038,
          0.012914729350178313,
          -1.4876053747929552,
          -1.1359780363209564,
          -1.7382283963716858,
          1.2063540264670445,
          0.9165160741223543,
          -2.278302087967835,
          1.592055367858669,
          -3.465735978919051,
          -0.8589106675540088,
          -0.365179625692962,
          2.8426974507651877,
          -0.52505043283151,
          -0.01939474235778764,
          -0.2391754340255722,
          -2.023705300417197,
          0.38524554206763034,
          -2.4846785915376164,
          -1.77917267931097,
          -1.17990813476667,
          -2.2167146840682794,
          1.202196867062831,
          -1.345317500302977,
          -1.8589201604349426,
          0.7014611078561734,
          -2.5466753998661793,
          -1.2124031250437026,
          -2.424265630563365,
          2.87201811127949,
          3.7806611207301737,
          -0.9567016130117668,
          -1.529583113708536,
          -2.057993960877703,
          -2.25119568032788,
          0.06889514947434619,
          0.4034173885968322,
          6.4622913576025605,
          4.189527812446528,
          -1.8864718176973965,
          3.300804946216329,
          -1.1290641306652134,
          -1.4133663552099285,
          0.9007272437195164,
          -0.4933870826441564,
          -0.6325783895262971,
          -1.7577147375244098,
          2.0505257051645316,
          -1.2922238357307634
         ],
         "z": [
          1.6991451211032056,
          1.40915268199145,
          0.6344115768552051,
          -1.419557408616953,
          -1.1133059534488476,
          -0.30110560991861135,
          2.887561411888335,
          -1.6169826718403104,
          2.1808233458045296,
          -2.331283988529951,
          2.1931767252874073,
          0.5232226634630681,
          1.516268575688815,
          -2.315550756874122,
          -0.9769396015073487,
          1.0553073869189573,
          -1.4914371905432637,
          1.9645559750308301,
          -2.7050006025793847,
          -0.5929270541403757,
          1.4043521562005452,
          1.9124067161200897,
          0.9661346721431461,
          3.0370739066470005,
          -0.5444698653470607,
          1.3977251829801283,
          2.742216857354094,
          -0.30495858969138606,
          -3.6197304396341625,
          -0.9046608061463154,
          2.2917583377273276,
          -1.8964612493166018,
          2.708470237250944,
          -0.41181897296726905,
          1.7470392539897333,
          -1.8211358220519382,
          2.0130821349449626,
          0.18610289739409716,
          -0.16758374367787607,
          -2.6477178541935142,
          0.30683122546824193,
          -0.5249019232378618,
          1.462636015777489,
          2.761910707000589,
          0.7104417266379359,
          -1.9404020330672045,
          -1.4244389995722235,
          1.9043972538220848,
          -0.7209054595754638,
          -0.8457158705847438,
          -2.0258591379665916,
          -2.182884502929221,
          2.9041854814946175,
          1.293494930796101,
          -2.56429425175322,
          -2.207492978282778,
          1.5831888243541894,
          -0.06417538116975044,
          -2.411900874133626,
          -2.383105801547639,
          2.153880229268984,
          -2.646199804465105,
          -3.1546026989899607,
          -2.3955884499422373,
          0.8422651711832195,
          -1.2581199875245135,
          -2.2327098715745177,
          -2.7006022386339965,
          -1.6616050025239504,
          1.5224151333474616,
          1.961012275474929,
          1.1324657211268259,
          2.147095648526713,
          -0.6385749334765877,
          1.707597702326972,
          2.5746117739743672,
          0.21351420287509731,
          -3.4826123318666853,
          5.1096628495980845,
          -2.112273975994605
         ]
        }
       ],
       "layout": {
        "autosize": true,
        "legend": {
         "tracegroupgap": 0
        },
        "margin": {
         "t": 60
        },
        "scene": {
         "aspectmode": "auto",
         "aspectratio": {
          "x": 1.4369888796465655,
          "y": 1.0070734844452491,
          "z": 0.6910117485049726
         },
         "domain": {
          "x": [
           0,
           1
          ],
          "y": [
           0,
           1
          ]
         },
         "xaxis": {
          "title": {
           "text": "SPC1"
          },
          "type": "linear"
         },
         "yaxis": {
          "title": {
           "text": "SPC2"
          },
          "type": "linear"
         },
         "zaxis": {
          "title": {
           "text": "SPC3"
          },
          "type": "linear"
         }
        },
        "template": {
         "data": {
          "bar": [
           {
            "error_x": {
             "color": "#2a3f5f"
            },
            "error_y": {
             "color": "#2a3f5f"
            },
            "marker": {
             "line": {
              "color": "#E5ECF6",
              "width": 0.5
             },
             "pattern": {
              "fillmode": "overlay",
              "size": 10,
              "solidity": 0.2
             }
            },
            "type": "bar"
           }
          ],
          "barpolar": [
           {
            "marker": {
             "line": {
              "color": "#E5ECF6",
              "width": 0.5
             },
             "pattern": {
              "fillmode": "overlay",
              "size": 10,
              "solidity": 0.2
             }
            },
            "type": "barpolar"
           }
          ],
          "carpet": [
           {
            "aaxis": {
             "endlinecolor": "#2a3f5f",
             "gridcolor": "white",
             "linecolor": "white",
             "minorgridcolor": "white",
             "startlinecolor": "#2a3f5f"
            },
            "baxis": {
             "endlinecolor": "#2a3f5f",
             "gridcolor": "white",
             "linecolor": "white",
             "minorgridcolor": "white",
             "startlinecolor": "#2a3f5f"
            },
            "type": "carpet"
           }
          ],
          "choropleth": [
           {
            "colorbar": {
             "outlinewidth": 0,
             "ticks": ""
            },
            "type": "choropleth"
           }
          ],
          "contour": [
           {
            "colorbar": {
             "outlinewidth": 0,
             "ticks": ""
            },
            "colorscale": [
             [
              0,
              "#0d0887"
             ],
             [
              0.1111111111111111,
              "#46039f"
             ],
             [
              0.2222222222222222,
              "#7201a8"
             ],
             [
              0.3333333333333333,
              "#9c179e"
             ],
             [
              0.4444444444444444,
              "#bd3786"
             ],
             [
              0.5555555555555556,
              "#d8576b"
             ],
             [
              0.6666666666666666,
              "#ed7953"
             ],
             [
              0.7777777777777778,
              "#fb9f3a"
             ],
             [
              0.8888888888888888,
              "#fdca26"
             ],
             [
              1,
              "#f0f921"
             ]
            ],
            "type": "contour"
           }
          ],
          "contourcarpet": [
           {
            "colorbar": {
             "outlinewidth": 0,
             "ticks": ""
            },
            "type": "contourcarpet"
           }
          ],
          "heatmap": [
           {
            "colorbar": {
             "outlinewidth": 0,
             "ticks": ""
            },
            "colorscale": [
             [
              0,
              "#0d0887"
             ],
             [
              0.1111111111111111,
              "#46039f"
             ],
             [
              0.2222222222222222,
              "#7201a8"
             ],
             [
              0.3333333333333333,
              "#9c179e"
             ],
             [
              0.4444444444444444,
              "#bd3786"
             ],
             [
              0.5555555555555556,
              "#d8576b"
             ],
             [
              0.6666666666666666,
              "#ed7953"
             ],
             [
              0.7777777777777778,
              "#fb9f3a"
             ],
             [
              0.8888888888888888,
              "#fdca26"
             ],
             [
              1,
              "#f0f921"
             ]
            ],
            "type": "heatmap"
           }
          ],
          "heatmapgl": [
           {
            "colorbar": {
             "outlinewidth": 0,
             "ticks": ""
            },
            "colorscale": [
             [
              0,
              "#0d0887"
             ],
             [
              0.1111111111111111,
              "#46039f"
             ],
             [
              0.2222222222222222,
              "#7201a8"
             ],
             [
              0.3333333333333333,
              "#9c179e"
             ],
             [
              0.4444444444444444,
              "#bd3786"
             ],
             [
              0.5555555555555556,
              "#d8576b"
             ],
             [
              0.6666666666666666,
              "#ed7953"
             ],
             [
              0.7777777777777778,
              "#fb9f3a"
             ],
             [
              0.8888888888888888,
              "#fdca26"
             ],
             [
              1,
              "#f0f921"
             ]
            ],
            "type": "heatmapgl"
           }
          ],
          "histogram": [
           {
            "marker": {
             "pattern": {
              "fillmode": "overlay",
              "size": 10,
              "solidity": 0.2
             }
            },
            "type": "histogram"
           }
          ],
          "histogram2d": [
           {
            "colorbar": {
             "outlinewidth": 0,
             "ticks": ""
            },
            "colorscale": [
             [
              0,
              "#0d0887"
             ],
             [
              0.1111111111111111,
              "#46039f"
             ],
             [
              0.2222222222222222,
              "#7201a8"
             ],
             [
              0.3333333333333333,
              "#9c179e"
             ],
             [
              0.4444444444444444,
              "#bd3786"
             ],
             [
              0.5555555555555556,
              "#d8576b"
             ],
             [
              0.6666666666666666,
              "#ed7953"
             ],
             [
              0.7777777777777778,
              "#fb9f3a"
             ],
             [
              0.8888888888888888,
              "#fdca26"
             ],
             [
              1,
              "#f0f921"
             ]
            ],
            "type": "histogram2d"
           }
          ],
          "histogram2dcontour": [
           {
            "colorbar": {
             "outlinewidth": 0,
             "ticks": ""
            },
            "colorscale": [
             [
              0,
              "#0d0887"
             ],
             [
              0.1111111111111111,
              "#46039f"
             ],
             [
              0.2222222222222222,
              "#7201a8"
             ],
             [
              0.3333333333333333,
              "#9c179e"
             ],
             [
              0.4444444444444444,
              "#bd3786"
             ],
             [
              0.5555555555555556,
              "#d8576b"
             ],
             [
              0.6666666666666666,
              "#ed7953"
             ],
             [
              0.7777777777777778,
              "#fb9f3a"
             ],
             [
              0.8888888888888888,
              "#fdca26"
             ],
             [
              1,
              "#f0f921"
             ]
            ],
            "type": "histogram2dcontour"
           }
          ],
          "mesh3d": [
           {
            "colorbar": {
             "outlinewidth": 0,
             "ticks": ""
            },
            "type": "mesh3d"
           }
          ],
          "parcoords": [
           {
            "line": {
             "colorbar": {
              "outlinewidth": 0,
              "ticks": ""
             }
            },
            "type": "parcoords"
           }
          ],
          "pie": [
           {
            "automargin": true,
            "type": "pie"
           }
          ],
          "scatter": [
           {
            "fillpattern": {
             "fillmode": "overlay",
             "size": 10,
             "solidity": 0.2
            },
            "type": "scatter"
           }
          ],
          "scatter3d": [
           {
            "line": {
             "colorbar": {
              "outlinewidth": 0,
              "ticks": ""
             }
            },
            "marker": {
             "colorbar": {
              "outlinewidth": 0,
              "ticks": ""
             }
            },
            "type": "scatter3d"
           }
          ],
          "scattercarpet": [
           {
            "marker": {
             "colorbar": {
              "outlinewidth": 0,
              "ticks": ""
             }
            },
            "type": "scattercarpet"
           }
          ],
          "scattergeo": [
           {
            "marker": {
             "colorbar": {
              "outlinewidth": 0,
              "ticks": ""
             }
            },
            "type": "scattergeo"
           }
          ],
          "scattergl": [
           {
            "marker": {
             "colorbar": {
              "outlinewidth": 0,
              "ticks": ""
             }
            },
            "type": "scattergl"
           }
          ],
          "scattermapbox": [
           {
            "marker": {
             "colorbar": {
              "outlinewidth": 0,
              "ticks": ""
             }
            },
            "type": "scattermapbox"
           }
          ],
          "scatterpolar": [
           {
            "marker": {
             "colorbar": {
              "outlinewidth": 0,
              "ticks": ""
             }
            },
            "type": "scatterpolar"
           }
          ],
          "scatterpolargl": [
           {
            "marker": {
             "colorbar": {
              "outlinewidth": 0,
              "ticks": ""
             }
            },
            "type": "scatterpolargl"
           }
          ],
          "scatterternary": [
           {
            "marker": {
             "colorbar": {
              "outlinewidth": 0,
              "ticks": ""
             }
            },
            "type": "scatterternary"
           }
          ],
          "surface": [
           {
            "colorbar": {
             "outlinewidth": 0,
             "ticks": ""
            },
            "colorscale": [
             [
              0,
              "#0d0887"
             ],
             [
              0.1111111111111111,
              "#46039f"
             ],
             [
              0.2222222222222222,
              "#7201a8"
             ],
             [
              0.3333333333333333,
              "#9c179e"
             ],
             [
              0.4444444444444444,
              "#bd3786"
             ],
             [
              0.5555555555555556,
              "#d8576b"
             ],
             [
              0.6666666666666666,
              "#ed7953"
             ],
             [
              0.7777777777777778,
              "#fb9f3a"
             ],
             [
              0.8888888888888888,
              "#fdca26"
             ],
             [
              1,
              "#f0f921"
             ]
            ],
            "type": "surface"
           }
          ],
          "table": [
           {
            "cells": {
             "fill": {
              "color": "#EBF0F8"
             },
             "line": {
              "color": "white"
             }
            },
            "header": {
             "fill": {
              "color": "#C8D4E3"
             },
             "line": {
              "color": "white"
             }
            },
            "type": "table"
           }
          ]
         },
         "layout": {
          "annotationdefaults": {
           "arrowcolor": "#2a3f5f",
           "arrowhead": 0,
           "arrowwidth": 1
          },
          "autotypenumbers": "strict",
          "coloraxis": {
           "colorbar": {
            "outlinewidth": 0,
            "ticks": ""
           }
          },
          "colorscale": {
           "diverging": [
            [
             0,
             "#8e0152"
            ],
            [
             0.1,
             "#c51b7d"
            ],
            [
             0.2,
             "#de77ae"
            ],
            [
             0.3,
             "#f1b6da"
            ],
            [
             0.4,
             "#fde0ef"
            ],
            [
             0.5,
             "#f7f7f7"
            ],
            [
             0.6,
             "#e6f5d0"
            ],
            [
             0.7,
             "#b8e186"
            ],
            [
             0.8,
             "#7fbc41"
            ],
            [
             0.9,
             "#4d9221"
            ],
            [
             1,
             "#276419"
            ]
           ],
           "sequential": [
            [
             0,
             "#0d0887"
            ],
            [
             0.1111111111111111,
             "#46039f"
            ],
            [
             0.2222222222222222,
             "#7201a8"
            ],
            [
             0.3333333333333333,
             "#9c179e"
            ],
            [
             0.4444444444444444,
             "#bd3786"
            ],
            [
             0.5555555555555556,
             "#d8576b"
            ],
            [
             0.6666666666666666,
             "#ed7953"
            ],
            [
             0.7777777777777778,
             "#fb9f3a"
            ],
            [
             0.8888888888888888,
             "#fdca26"
            ],
            [
             1,
             "#f0f921"
            ]
           ],
           "sequentialminus": [
            [
             0,
             "#0d0887"
            ],
            [
             0.1111111111111111,
             "#46039f"
            ],
            [
             0.2222222222222222,
             "#7201a8"
            ],
            [
             0.3333333333333333,
             "#9c179e"
            ],
            [
             0.4444444444444444,
             "#bd3786"
            ],
            [
             0.5555555555555556,
             "#d8576b"
            ],
            [
             0.6666666666666666,
             "#ed7953"
            ],
            [
             0.7777777777777778,
             "#fb9f3a"
            ],
            [
             0.8888888888888888,
             "#fdca26"
            ],
            [
             1,
             "#f0f921"
            ]
           ]
          },
          "colorway": [
           "#636efa",
           "#EF553B",
           "#00cc96",
           "#ab63fa",
           "#FFA15A",
           "#19d3f3",
           "#FF6692",
           "#B6E880",
           "#FF97FF",
           "#FECB52"
          ],
          "font": {
           "color": "#2a3f5f"
          },
          "geo": {
           "bgcolor": "white",
           "lakecolor": "white",
           "landcolor": "#E5ECF6",
           "showlakes": true,
           "showland": true,
           "subunitcolor": "white"
          },
          "hoverlabel": {
           "align": "left"
          },
          "hovermode": "closest",
          "mapbox": {
           "style": "light"
          },
          "paper_bgcolor": "white",
          "plot_bgcolor": "#E5ECF6",
          "polar": {
           "angularaxis": {
            "gridcolor": "white",
            "linecolor": "white",
            "ticks": ""
           },
           "bgcolor": "#E5ECF6",
           "radialaxis": {
            "gridcolor": "white",
            "linecolor": "white",
            "ticks": ""
           }
          },
          "scene": {
           "xaxis": {
            "backgroundcolor": "#E5ECF6",
            "gridcolor": "white",
            "gridwidth": 2,
            "linecolor": "white",
            "showbackground": true,
            "ticks": "",
            "zerolinecolor": "white"
           },
           "yaxis": {
            "backgroundcolor": "#E5ECF6",
            "gridcolor": "white",
            "gridwidth": 2,
            "linecolor": "white",
            "showbackground": true,
            "ticks": "",
            "zerolinecolor": "white"
           },
           "zaxis": {
            "backgroundcolor": "#E5ECF6",
            "gridcolor": "white",
            "gridwidth": 2,
            "linecolor": "white",
            "showbackground": true,
            "ticks": "",
            "zerolinecolor": "white"
           }
          },
          "shapedefaults": {
           "line": {
            "color": "#2a3f5f"
           }
          },
          "ternary": {
           "aaxis": {
            "gridcolor": "white",
            "linecolor": "white",
            "ticks": ""
           },
           "baxis": {
            "gridcolor": "white",
            "linecolor": "white",
            "ticks": ""
           },
           "bgcolor": "#E5ECF6",
           "caxis": {
            "gridcolor": "white",
            "linecolor": "white",
            "ticks": ""
           }
          },
          "title": {
           "x": 0.05
          },
          "xaxis": {
           "automargin": true,
           "gridcolor": "white",
           "linecolor": "white",
           "ticks": "",
           "title": {
            "standoff": 15
           },
           "zerolinecolor": "white",
           "zerolinewidth": 2
          },
          "yaxis": {
           "automargin": true,
           "gridcolor": "white",
           "linecolor": "white",
           "ticks": "",
           "title": {
            "standoff": 15
           },
           "zerolinecolor": "white",
           "zerolinewidth": 2
          }
         }
        }
       }
      },
      "text/html": [
       "<div>                            <div id=\"b7f18bfd-f066-471f-8604-7df688bdad9b\" class=\"plotly-graph-div\" style=\"height:525px; width:100%;\"></div>            <script type=\"text/javascript\">                require([\"plotly\"], function(Plotly) {                    window.PLOTLYENV=window.PLOTLYENV || {};                                    if (document.getElementById(\"b7f18bfd-f066-471f-8604-7df688bdad9b\")) {                    Plotly.newPlot(                        \"b7f18bfd-f066-471f-8604-7df688bdad9b\",                        [{\"hovertemplate\":\"SPC1=%{x}\\u003cbr\\u003eSPC2=%{y}\\u003cbr\\u003eSPC3=%{z}\\u003cextra\\u003e\\u003c\\u002fextra\\u003e\",\"legendgroup\":\"\",\"marker\":{\"color\":\"#636efa\",\"symbol\":\"circle\"},\"mode\":\"markers\",\"name\":\"\",\"scene\":\"scene\",\"showlegend\":false,\"x\":[1.7169335240674182,6.431056336983005,2.028178817445752,5.642842885547896,6.1229571490156935,0.5318175459591347,13.109828647007758,3.2357422326250984,-4.122504335211966,-3.6511812695173336,6.1516510070580015,3.308023140781996,-3.143344792757199,-0.8743427841174112,-2.0252463554831452,7.325981665675716,-1.2912378986894937,2.2689733136478107,-4.267775786044771,10.555741822104897,10.801692841377706,-3.534937951296501,-1.0440779025359206,-2.879566769078284,7.558870834733356,-0.06339312504303518,-2.2280099430228204,-4.459642781077199,-2.4812378529657795,-3.8114039194745915,10.985915166780151,-4.124034745434691,6.630659725480768,-2.274482717757742,-4.008198552224228,-1.6814360302366815,1.2118312675068312,-1.5282697766056914,-4.261280409409922,4.661292786406752,-4.549691006202937,1.1991859250033037,3.598719036700639,7.65410505934698,0.25511424473026195,-3.5029494460281905,-5.043323032146106,-1.499269169570585,0.3891116430292284,-4.218112756542673,-3.7154628133324192,-2.3790310637565337,-1.115407929404376,-1.8505894246809969,-3.899830373488505,-4.126025233139026,-4.6035634358852775,-3.221817298781566,-1.4172070468192266,-4.391474111363165,-2.0716800023350728,0.2122801064438037,-3.445087655460908,-4.559405121318544,-0.29295062029288693,-4.824374225107385,-2.4201310736115094,-1.9118375548709874,12.125008973311214,-0.19467743576834604,4.331131672794748,0.9074328779446055,-4.196240817545449,-0.03588878630185644,-4.349955993250822,-0.9691837802976642,-2.8703479490035764,-4.2370861320210835,-0.10592837151572668,2.8220551083172802],\"y\":[0.6273760632328503,5.453879603372169,0.33319539321130553,0.4690793115037821,-2.2483730399272175,-0.9564111291981087,1.1213120732323039,-0.9338738736668912,0.8218960992332189,2.48685239500354,-0.6823450205804503,-1.0573739832176055,-1.4135925797801325,-0.254925009937461,0.25288783797062075,-1.5817291237332294,4.297153230554377,-2.8527009409885298,-1.2117871993276157,9.256392893563975,1.7272109699851816,-1.1031165010581692,0.9470484091061062,-1.2352312350946157,3.109159176868946,5.269022556487285,-0.36425574344588296,-2.333349084550017,-1.140286448140335,-0.5381638207252277,-2.0217833528806626,-0.5458752277836038,0.012914729350178313,-1.4876053747929552,-1.1359780363209564,-1.7382283963716858,1.2063540264670445,0.9165160741223543,-2.278302087967835,1.592055367858669,-3.465735978919051,-0.8589106675540088,-0.365179625692962,2.8426974507651877,-0.52505043283151,-0.01939474235778764,-0.2391754340255722,-2.023705300417197,0.38524554206763034,-2.4846785915376164,-1.77917267931097,-1.17990813476667,-2.2167146840682794,1.202196867062831,-1.345317500302977,-1.8589201604349426,0.7014611078561734,-2.5466753998661793,-1.2124031250437026,-2.424265630563365,2.87201811127949,3.7806611207301737,-0.9567016130117668,-1.529583113708536,-2.057993960877703,-2.25119568032788,0.06889514947434619,0.4034173885968322,6.4622913576025605,4.189527812446528,-1.8864718176973965,3.300804946216329,-1.1290641306652134,-1.4133663552099285,0.9007272437195164,-0.4933870826441564,-0.6325783895262971,-1.7577147375244098,2.0505257051645316,-1.2922238357307634],\"z\":[1.6991451211032056,1.40915268199145,0.6344115768552051,-1.419557408616953,-1.1133059534488476,-0.30110560991861135,2.887561411888335,-1.6169826718403104,2.1808233458045296,-2.331283988529951,2.1931767252874073,0.5232226634630681,1.516268575688815,-2.315550756874122,-0.9769396015073487,1.0553073869189573,-1.4914371905432637,1.9645559750308301,-2.7050006025793847,-0.5929270541403757,1.4043521562005452,1.9124067161200897,0.9661346721431461,3.0370739066470005,-0.5444698653470607,1.3977251829801283,2.742216857354094,-0.30495858969138606,-3.6197304396341625,-0.9046608061463154,2.2917583377273276,-1.8964612493166018,2.708470237250944,-0.41181897296726905,1.7470392539897333,-1.8211358220519382,2.0130821349449626,0.18610289739409716,-0.16758374367787607,-2.6477178541935142,0.30683122546824193,-0.5249019232378618,1.462636015777489,2.761910707000589,0.7104417266379359,-1.9404020330672045,-1.4244389995722235,1.9043972538220848,-0.7209054595754638,-0.8457158705847438,-2.0258591379665916,-2.182884502929221,2.9041854814946175,1.293494930796101,-2.56429425175322,-2.207492978282778,1.5831888243541894,-0.06417538116975044,-2.411900874133626,-2.383105801547639,2.153880229268984,-2.646199804465105,-3.1546026989899607,-2.3955884499422373,0.8422651711832195,-1.2581199875245135,-2.2327098715745177,-2.7006022386339965,-1.6616050025239504,1.5224151333474616,1.961012275474929,1.1324657211268259,2.147095648526713,-0.6385749334765877,1.707597702326972,2.5746117739743672,0.21351420287509731,-3.4826123318666853,5.1096628495980845,-2.112273975994605],\"type\":\"scatter3d\"}],                        {\"template\":{\"data\":{\"histogram2dcontour\":[{\"type\":\"histogram2dcontour\",\"colorbar\":{\"outlinewidth\":0,\"ticks\":\"\"},\"colorscale\":[[0.0,\"#0d0887\"],[0.1111111111111111,\"#46039f\"],[0.2222222222222222,\"#7201a8\"],[0.3333333333333333,\"#9c179e\"],[0.4444444444444444,\"#bd3786\"],[0.5555555555555556,\"#d8576b\"],[0.6666666666666666,\"#ed7953\"],[0.7777777777777778,\"#fb9f3a\"],[0.8888888888888888,\"#fdca26\"],[1.0,\"#f0f921\"]]}],\"choropleth\":[{\"type\":\"choropleth\",\"colorbar\":{\"outlinewidth\":0,\"ticks\":\"\"}}],\"histogram2d\":[{\"type\":\"histogram2d\",\"colorbar\":{\"outlinewidth\":0,\"ticks\":\"\"},\"colorscale\":[[0.0,\"#0d0887\"],[0.1111111111111111,\"#46039f\"],[0.2222222222222222,\"#7201a8\"],[0.3333333333333333,\"#9c179e\"],[0.4444444444444444,\"#bd3786\"],[0.5555555555555556,\"#d8576b\"],[0.6666666666666666,\"#ed7953\"],[0.7777777777777778,\"#fb9f3a\"],[0.8888888888888888,\"#fdca26\"],[1.0,\"#f0f921\"]]}],\"heatmap\":[{\"type\":\"heatmap\",\"colorbar\":{\"outlinewidth\":0,\"ticks\":\"\"},\"colorscale\":[[0.0,\"#0d0887\"],[0.1111111111111111,\"#46039f\"],[0.2222222222222222,\"#7201a8\"],[0.3333333333333333,\"#9c179e\"],[0.4444444444444444,\"#bd3786\"],[0.5555555555555556,\"#d8576b\"],[0.6666666666666666,\"#ed7953\"],[0.7777777777777778,\"#fb9f3a\"],[0.8888888888888888,\"#fdca26\"],[1.0,\"#f0f921\"]]}],\"heatmapgl\":[{\"type\":\"heatmapgl\",\"colorbar\":{\"outlinewidth\":0,\"ticks\":\"\"},\"colorscale\":[[0.0,\"#0d0887\"],[0.1111111111111111,\"#46039f\"],[0.2222222222222222,\"#7201a8\"],[0.3333333333333333,\"#9c179e\"],[0.4444444444444444,\"#bd3786\"],[0.5555555555555556,\"#d8576b\"],[0.6666666666666666,\"#ed7953\"],[0.7777777777777778,\"#fb9f3a\"],[0.8888888888888888,\"#fdca26\"],[1.0,\"#f0f921\"]]}],\"contourcarpet\":[{\"type\":\"contourcarpet\",\"colorbar\":{\"outlinewidth\":0,\"ticks\":\"\"}}],\"contour\":[{\"type\":\"contour\",\"colorbar\":{\"outlinewidth\":0,\"ticks\":\"\"},\"colorscale\":[[0.0,\"#0d0887\"],[0.1111111111111111,\"#46039f\"],[0.2222222222222222,\"#7201a8\"],[0.3333333333333333,\"#9c179e\"],[0.4444444444444444,\"#bd3786\"],[0.5555555555555556,\"#d8576b\"],[0.6666666666666666,\"#ed7953\"],[0.7777777777777778,\"#fb9f3a\"],[0.8888888888888888,\"#fdca26\"],[1.0,\"#f0f921\"]]}],\"surface\":[{\"type\":\"surface\",\"colorbar\":{\"outlinewidth\":0,\"ticks\":\"\"},\"colorscale\":[[0.0,\"#0d0887\"],[0.1111111111111111,\"#46039f\"],[0.2222222222222222,\"#7201a8\"],[0.3333333333333333,\"#9c179e\"],[0.4444444444444444,\"#bd3786\"],[0.5555555555555556,\"#d8576b\"],[0.6666666666666666,\"#ed7953\"],[0.7777777777777778,\"#fb9f3a\"],[0.8888888888888888,\"#fdca26\"],[1.0,\"#f0f921\"]]}],\"mesh3d\":[{\"type\":\"mesh3d\",\"colorbar\":{\"outlinewidth\":0,\"ticks\":\"\"}}],\"scatter\":[{\"fillpattern\":{\"fillmode\":\"overlay\",\"size\":10,\"solidity\":0.2},\"type\":\"scatter\"}],\"parcoords\":[{\"type\":\"parcoords\",\"line\":{\"colorbar\":{\"outlinewidth\":0,\"ticks\":\"\"}}}],\"scatterpolargl\":[{\"type\":\"scatterpolargl\",\"marker\":{\"colorbar\":{\"outlinewidth\":0,\"ticks\":\"\"}}}],\"bar\":[{\"error_x\":{\"color\":\"#2a3f5f\"},\"error_y\":{\"color\":\"#2a3f5f\"},\"marker\":{\"line\":{\"color\":\"#E5ECF6\",\"width\":0.5},\"pattern\":{\"fillmode\":\"overlay\",\"size\":10,\"solidity\":0.2}},\"type\":\"bar\"}],\"scattergeo\":[{\"type\":\"scattergeo\",\"marker\":{\"colorbar\":{\"outlinewidth\":0,\"ticks\":\"\"}}}],\"scatterpolar\":[{\"type\":\"scatterpolar\",\"marker\":{\"colorbar\":{\"outlinewidth\":0,\"ticks\":\"\"}}}],\"histogram\":[{\"marker\":{\"pattern\":{\"fillmode\":\"overlay\",\"size\":10,\"solidity\":0.2}},\"type\":\"histogram\"}],\"scattergl\":[{\"type\":\"scattergl\",\"marker\":{\"colorbar\":{\"outlinewidth\":0,\"ticks\":\"\"}}}],\"scatter3d\":[{\"type\":\"scatter3d\",\"line\":{\"colorbar\":{\"outlinewidth\":0,\"ticks\":\"\"}},\"marker\":{\"colorbar\":{\"outlinewidth\":0,\"ticks\":\"\"}}}],\"scattermapbox\":[{\"type\":\"scattermapbox\",\"marker\":{\"colorbar\":{\"outlinewidth\":0,\"ticks\":\"\"}}}],\"scatterternary\":[{\"type\":\"scatterternary\",\"marker\":{\"colorbar\":{\"outlinewidth\":0,\"ticks\":\"\"}}}],\"scattercarpet\":[{\"type\":\"scattercarpet\",\"marker\":{\"colorbar\":{\"outlinewidth\":0,\"ticks\":\"\"}}}],\"carpet\":[{\"aaxis\":{\"endlinecolor\":\"#2a3f5f\",\"gridcolor\":\"white\",\"linecolor\":\"white\",\"minorgridcolor\":\"white\",\"startlinecolor\":\"#2a3f5f\"},\"baxis\":{\"endlinecolor\":\"#2a3f5f\",\"gridcolor\":\"white\",\"linecolor\":\"white\",\"minorgridcolor\":\"white\",\"startlinecolor\":\"#2a3f5f\"},\"type\":\"carpet\"}],\"table\":[{\"cells\":{\"fill\":{\"color\":\"#EBF0F8\"},\"line\":{\"color\":\"white\"}},\"header\":{\"fill\":{\"color\":\"#C8D4E3\"},\"line\":{\"color\":\"white\"}},\"type\":\"table\"}],\"barpolar\":[{\"marker\":{\"line\":{\"color\":\"#E5ECF6\",\"width\":0.5},\"pattern\":{\"fillmode\":\"overlay\",\"size\":10,\"solidity\":0.2}},\"type\":\"barpolar\"}],\"pie\":[{\"automargin\":true,\"type\":\"pie\"}]},\"layout\":{\"autotypenumbers\":\"strict\",\"colorway\":[\"#636efa\",\"#EF553B\",\"#00cc96\",\"#ab63fa\",\"#FFA15A\",\"#19d3f3\",\"#FF6692\",\"#B6E880\",\"#FF97FF\",\"#FECB52\"],\"font\":{\"color\":\"#2a3f5f\"},\"hovermode\":\"closest\",\"hoverlabel\":{\"align\":\"left\"},\"paper_bgcolor\":\"white\",\"plot_bgcolor\":\"#E5ECF6\",\"polar\":{\"bgcolor\":\"#E5ECF6\",\"angularaxis\":{\"gridcolor\":\"white\",\"linecolor\":\"white\",\"ticks\":\"\"},\"radialaxis\":{\"gridcolor\":\"white\",\"linecolor\":\"white\",\"ticks\":\"\"}},\"ternary\":{\"bgcolor\":\"#E5ECF6\",\"aaxis\":{\"gridcolor\":\"white\",\"linecolor\":\"white\",\"ticks\":\"\"},\"baxis\":{\"gridcolor\":\"white\",\"linecolor\":\"white\",\"ticks\":\"\"},\"caxis\":{\"gridcolor\":\"white\",\"linecolor\":\"white\",\"ticks\":\"\"}},\"coloraxis\":{\"colorbar\":{\"outlinewidth\":0,\"ticks\":\"\"}},\"colorscale\":{\"sequential\":[[0.0,\"#0d0887\"],[0.1111111111111111,\"#46039f\"],[0.2222222222222222,\"#7201a8\"],[0.3333333333333333,\"#9c179e\"],[0.4444444444444444,\"#bd3786\"],[0.5555555555555556,\"#d8576b\"],[0.6666666666666666,\"#ed7953\"],[0.7777777777777778,\"#fb9f3a\"],[0.8888888888888888,\"#fdca26\"],[1.0,\"#f0f921\"]],\"sequentialminus\":[[0.0,\"#0d0887\"],[0.1111111111111111,\"#46039f\"],[0.2222222222222222,\"#7201a8\"],[0.3333333333333333,\"#9c179e\"],[0.4444444444444444,\"#bd3786\"],[0.5555555555555556,\"#d8576b\"],[0.6666666666666666,\"#ed7953\"],[0.7777777777777778,\"#fb9f3a\"],[0.8888888888888888,\"#fdca26\"],[1.0,\"#f0f921\"]],\"diverging\":[[0,\"#8e0152\"],[0.1,\"#c51b7d\"],[0.2,\"#de77ae\"],[0.3,\"#f1b6da\"],[0.4,\"#fde0ef\"],[0.5,\"#f7f7f7\"],[0.6,\"#e6f5d0\"],[0.7,\"#b8e186\"],[0.8,\"#7fbc41\"],[0.9,\"#4d9221\"],[1,\"#276419\"]]},\"xaxis\":{\"gridcolor\":\"white\",\"linecolor\":\"white\",\"ticks\":\"\",\"title\":{\"standoff\":15},\"zerolinecolor\":\"white\",\"automargin\":true,\"zerolinewidth\":2},\"yaxis\":{\"gridcolor\":\"white\",\"linecolor\":\"white\",\"ticks\":\"\",\"title\":{\"standoff\":15},\"zerolinecolor\":\"white\",\"automargin\":true,\"zerolinewidth\":2},\"scene\":{\"xaxis\":{\"backgroundcolor\":\"#E5ECF6\",\"gridcolor\":\"white\",\"linecolor\":\"white\",\"showbackground\":true,\"ticks\":\"\",\"zerolinecolor\":\"white\",\"gridwidth\":2},\"yaxis\":{\"backgroundcolor\":\"#E5ECF6\",\"gridcolor\":\"white\",\"linecolor\":\"white\",\"showbackground\":true,\"ticks\":\"\",\"zerolinecolor\":\"white\",\"gridwidth\":2},\"zaxis\":{\"backgroundcolor\":\"#E5ECF6\",\"gridcolor\":\"white\",\"linecolor\":\"white\",\"showbackground\":true,\"ticks\":\"\",\"zerolinecolor\":\"white\",\"gridwidth\":2}},\"shapedefaults\":{\"line\":{\"color\":\"#2a3f5f\"}},\"annotationdefaults\":{\"arrowcolor\":\"#2a3f5f\",\"arrowhead\":0,\"arrowwidth\":1},\"geo\":{\"bgcolor\":\"white\",\"landcolor\":\"#E5ECF6\",\"subunitcolor\":\"white\",\"showland\":true,\"showlakes\":true,\"lakecolor\":\"white\"},\"title\":{\"x\":0.05},\"mapbox\":{\"style\":\"light\"}}},\"scene\":{\"domain\":{\"x\":[0.0,1.0],\"y\":[0.0,1.0]},\"xaxis\":{\"title\":{\"text\":\"SPC1\"}},\"yaxis\":{\"title\":{\"text\":\"SPC2\"}},\"zaxis\":{\"title\":{\"text\":\"SPC3\"}}},\"legend\":{\"tracegroupgap\":0},\"margin\":{\"t\":60}},                        {\"responsive\": true}                    ).then(function(){\n",
       "                            \n",
       "var gd = document.getElementById('b7f18bfd-f066-471f-8604-7df688bdad9b');\n",
       "var x = new MutationObserver(function (mutations, observer) {{\n",
       "        var display = window.getComputedStyle(gd).display;\n",
       "        if (!display || display === 'none') {{\n",
       "            console.log([gd, 'removed!']);\n",
       "            Plotly.purge(gd);\n",
       "            observer.disconnect();\n",
       "        }}\n",
       "}});\n",
       "\n",
       "// Listen for the removal of the full notebook cells\n",
       "var notebookContainer = gd.closest('#notebook-container');\n",
       "if (notebookContainer) {{\n",
       "    x.observe(notebookContainer, {childList: true});\n",
       "}}\n",
       "\n",
       "// Listen for the clearing of the current output cell\n",
       "var outputEl = gd.closest('.output');\n",
       "if (outputEl) {{\n",
       "    x.observe(outputEl, {childList: true});\n",
       "}}\n",
       "\n",
       "                        })                };                });            </script>        </div>"
      ]
     },
     "metadata": {},
     "output_type": "display_data"
    }
   ],
   "source": [
    "sparse_pca = SparsePCA(n_components=3, random_state=len(PCA_data_numbers[0]))\n",
    "#print(len(PCA_data_numbers[0]))\n",
    "sparse_pca_data = sparse_pca.fit_transform(PCA_data_numbers)\n",
    "\n",
    "# Converting the transformed data back to a DataFrame\n",
    "df_sparse_pca = pd.DataFrame(sparse_pca_data, columns=['SPC1', 'SPC2', 'SPC3'])\n",
    "\n",
    "fig_2d = px.scatter_3d(df_sparse_pca, x='SPC1', y='SPC2', z='SPC3')\n",
    "fig_2d.show()"
   ]
  },
  {
   "cell_type": "code",
   "execution_count": 154,
   "metadata": {},
   "outputs": [
    {
     "data": {
      "application/vnd.plotly.v1+json": {
       "config": {
        "plotlyServerURL": "https://plot.ly"
       },
       "data": [
        {
         "hovertemplate": "SPC1=%{x}<br>SPC2=%{y}<br>SPC3=%{z}<extra></extra>",
         "legendgroup": "",
         "marker": {
          "color": "#636efa",
          "symbol": "circle"
         },
         "mode": "markers",
         "name": "",
         "scene": "scene",
         "showlegend": false,
         "type": "scatter3d",
         "x": [
          3.964230005080833,
          3.8447877071134693,
          -2.507506884467963,
          2.1975430397618108,
          -2.829468829233288,
          -3.390709105238677,
          1.9852035056740074,
          -3.3813599982970977,
          3.296969231816143,
          -3.179688672209236
         ],
         "y": [
          -1.255590171055161,
          -4.738470719362195,
          -0.49121219517354897,
          -2.4862090500885734,
          6.625196503719671,
          -0.5577211757873664,
          0.19640677580345262,
          -4.023780781836651,
          2.6375909803847923,
          4.093789833395579
         ],
         "z": [
          -4.031228794112857,
          -1.8799320323851687,
          4.938543597422646,
          0.2888691209364064,
          -0.9209896638828877,
          0.053403035143077295,
          -2.859547116353071,
          1.4941541079699274,
          4.308717775346851,
          -1.3919900300849235
         ]
        }
       ],
       "layout": {
        "autosize": true,
        "legend": {
         "tracegroupgap": 0
        },
        "margin": {
         "t": 60
        },
        "scene": {
         "aspectmode": "auto",
         "aspectratio": {
          "x": 0.8096290410235927,
          "y": 1.2509083839220698,
          "z": 0.9873893054219055
         },
         "domain": {
          "x": [
           0,
           1
          ],
          "y": [
           0,
           1
          ]
         },
         "xaxis": {
          "title": {
           "text": "SPC1"
          },
          "type": "linear"
         },
         "yaxis": {
          "title": {
           "text": "SPC2"
          },
          "type": "linear"
         },
         "zaxis": {
          "title": {
           "text": "SPC3"
          },
          "type": "linear"
         }
        },
        "template": {
         "data": {
          "bar": [
           {
            "error_x": {
             "color": "#2a3f5f"
            },
            "error_y": {
             "color": "#2a3f5f"
            },
            "marker": {
             "line": {
              "color": "#E5ECF6",
              "width": 0.5
             },
             "pattern": {
              "fillmode": "overlay",
              "size": 10,
              "solidity": 0.2
             }
            },
            "type": "bar"
           }
          ],
          "barpolar": [
           {
            "marker": {
             "line": {
              "color": "#E5ECF6",
              "width": 0.5
             },
             "pattern": {
              "fillmode": "overlay",
              "size": 10,
              "solidity": 0.2
             }
            },
            "type": "barpolar"
           }
          ],
          "carpet": [
           {
            "aaxis": {
             "endlinecolor": "#2a3f5f",
             "gridcolor": "white",
             "linecolor": "white",
             "minorgridcolor": "white",
             "startlinecolor": "#2a3f5f"
            },
            "baxis": {
             "endlinecolor": "#2a3f5f",
             "gridcolor": "white",
             "linecolor": "white",
             "minorgridcolor": "white",
             "startlinecolor": "#2a3f5f"
            },
            "type": "carpet"
           }
          ],
          "choropleth": [
           {
            "colorbar": {
             "outlinewidth": 0,
             "ticks": ""
            },
            "type": "choropleth"
           }
          ],
          "contour": [
           {
            "colorbar": {
             "outlinewidth": 0,
             "ticks": ""
            },
            "colorscale": [
             [
              0,
              "#0d0887"
             ],
             [
              0.1111111111111111,
              "#46039f"
             ],
             [
              0.2222222222222222,
              "#7201a8"
             ],
             [
              0.3333333333333333,
              "#9c179e"
             ],
             [
              0.4444444444444444,
              "#bd3786"
             ],
             [
              0.5555555555555556,
              "#d8576b"
             ],
             [
              0.6666666666666666,
              "#ed7953"
             ],
             [
              0.7777777777777778,
              "#fb9f3a"
             ],
             [
              0.8888888888888888,
              "#fdca26"
             ],
             [
              1,
              "#f0f921"
             ]
            ],
            "type": "contour"
           }
          ],
          "contourcarpet": [
           {
            "colorbar": {
             "outlinewidth": 0,
             "ticks": ""
            },
            "type": "contourcarpet"
           }
          ],
          "heatmap": [
           {
            "colorbar": {
             "outlinewidth": 0,
             "ticks": ""
            },
            "colorscale": [
             [
              0,
              "#0d0887"
             ],
             [
              0.1111111111111111,
              "#46039f"
             ],
             [
              0.2222222222222222,
              "#7201a8"
             ],
             [
              0.3333333333333333,
              "#9c179e"
             ],
             [
              0.4444444444444444,
              "#bd3786"
             ],
             [
              0.5555555555555556,
              "#d8576b"
             ],
             [
              0.6666666666666666,
              "#ed7953"
             ],
             [
              0.7777777777777778,
              "#fb9f3a"
             ],
             [
              0.8888888888888888,
              "#fdca26"
             ],
             [
              1,
              "#f0f921"
             ]
            ],
            "type": "heatmap"
           }
          ],
          "heatmapgl": [
           {
            "colorbar": {
             "outlinewidth": 0,
             "ticks": ""
            },
            "colorscale": [
             [
              0,
              "#0d0887"
             ],
             [
              0.1111111111111111,
              "#46039f"
             ],
             [
              0.2222222222222222,
              "#7201a8"
             ],
             [
              0.3333333333333333,
              "#9c179e"
             ],
             [
              0.4444444444444444,
              "#bd3786"
             ],
             [
              0.5555555555555556,
              "#d8576b"
             ],
             [
              0.6666666666666666,
              "#ed7953"
             ],
             [
              0.7777777777777778,
              "#fb9f3a"
             ],
             [
              0.8888888888888888,
              "#fdca26"
             ],
             [
              1,
              "#f0f921"
             ]
            ],
            "type": "heatmapgl"
           }
          ],
          "histogram": [
           {
            "marker": {
             "pattern": {
              "fillmode": "overlay",
              "size": 10,
              "solidity": 0.2
             }
            },
            "type": "histogram"
           }
          ],
          "histogram2d": [
           {
            "colorbar": {
             "outlinewidth": 0,
             "ticks": ""
            },
            "colorscale": [
             [
              0,
              "#0d0887"
             ],
             [
              0.1111111111111111,
              "#46039f"
             ],
             [
              0.2222222222222222,
              "#7201a8"
             ],
             [
              0.3333333333333333,
              "#9c179e"
             ],
             [
              0.4444444444444444,
              "#bd3786"
             ],
             [
              0.5555555555555556,
              "#d8576b"
             ],
             [
              0.6666666666666666,
              "#ed7953"
             ],
             [
              0.7777777777777778,
              "#fb9f3a"
             ],
             [
              0.8888888888888888,
              "#fdca26"
             ],
             [
              1,
              "#f0f921"
             ]
            ],
            "type": "histogram2d"
           }
          ],
          "histogram2dcontour": [
           {
            "colorbar": {
             "outlinewidth": 0,
             "ticks": ""
            },
            "colorscale": [
             [
              0,
              "#0d0887"
             ],
             [
              0.1111111111111111,
              "#46039f"
             ],
             [
              0.2222222222222222,
              "#7201a8"
             ],
             [
              0.3333333333333333,
              "#9c179e"
             ],
             [
              0.4444444444444444,
              "#bd3786"
             ],
             [
              0.5555555555555556,
              "#d8576b"
             ],
             [
              0.6666666666666666,
              "#ed7953"
             ],
             [
              0.7777777777777778,
              "#fb9f3a"
             ],
             [
              0.8888888888888888,
              "#fdca26"
             ],
             [
              1,
              "#f0f921"
             ]
            ],
            "type": "histogram2dcontour"
           }
          ],
          "mesh3d": [
           {
            "colorbar": {
             "outlinewidth": 0,
             "ticks": ""
            },
            "type": "mesh3d"
           }
          ],
          "parcoords": [
           {
            "line": {
             "colorbar": {
              "outlinewidth": 0,
              "ticks": ""
             }
            },
            "type": "parcoords"
           }
          ],
          "pie": [
           {
            "automargin": true,
            "type": "pie"
           }
          ],
          "scatter": [
           {
            "fillpattern": {
             "fillmode": "overlay",
             "size": 10,
             "solidity": 0.2
            },
            "type": "scatter"
           }
          ],
          "scatter3d": [
           {
            "line": {
             "colorbar": {
              "outlinewidth": 0,
              "ticks": ""
             }
            },
            "marker": {
             "colorbar": {
              "outlinewidth": 0,
              "ticks": ""
             }
            },
            "type": "scatter3d"
           }
          ],
          "scattercarpet": [
           {
            "marker": {
             "colorbar": {
              "outlinewidth": 0,
              "ticks": ""
             }
            },
            "type": "scattercarpet"
           }
          ],
          "scattergeo": [
           {
            "marker": {
             "colorbar": {
              "outlinewidth": 0,
              "ticks": ""
             }
            },
            "type": "scattergeo"
           }
          ],
          "scattergl": [
           {
            "marker": {
             "colorbar": {
              "outlinewidth": 0,
              "ticks": ""
             }
            },
            "type": "scattergl"
           }
          ],
          "scattermapbox": [
           {
            "marker": {
             "colorbar": {
              "outlinewidth": 0,
              "ticks": ""
             }
            },
            "type": "scattermapbox"
           }
          ],
          "scatterpolar": [
           {
            "marker": {
             "colorbar": {
              "outlinewidth": 0,
              "ticks": ""
             }
            },
            "type": "scatterpolar"
           }
          ],
          "scatterpolargl": [
           {
            "marker": {
             "colorbar": {
              "outlinewidth": 0,
              "ticks": ""
             }
            },
            "type": "scatterpolargl"
           }
          ],
          "scatterternary": [
           {
            "marker": {
             "colorbar": {
              "outlinewidth": 0,
              "ticks": ""
             }
            },
            "type": "scatterternary"
           }
          ],
          "surface": [
           {
            "colorbar": {
             "outlinewidth": 0,
             "ticks": ""
            },
            "colorscale": [
             [
              0,
              "#0d0887"
             ],
             [
              0.1111111111111111,
              "#46039f"
             ],
             [
              0.2222222222222222,
              "#7201a8"
             ],
             [
              0.3333333333333333,
              "#9c179e"
             ],
             [
              0.4444444444444444,
              "#bd3786"
             ],
             [
              0.5555555555555556,
              "#d8576b"
             ],
             [
              0.6666666666666666,
              "#ed7953"
             ],
             [
              0.7777777777777778,
              "#fb9f3a"
             ],
             [
              0.8888888888888888,
              "#fdca26"
             ],
             [
              1,
              "#f0f921"
             ]
            ],
            "type": "surface"
           }
          ],
          "table": [
           {
            "cells": {
             "fill": {
              "color": "#EBF0F8"
             },
             "line": {
              "color": "white"
             }
            },
            "header": {
             "fill": {
              "color": "#C8D4E3"
             },
             "line": {
              "color": "white"
             }
            },
            "type": "table"
           }
          ]
         },
         "layout": {
          "annotationdefaults": {
           "arrowcolor": "#2a3f5f",
           "arrowhead": 0,
           "arrowwidth": 1
          },
          "autotypenumbers": "strict",
          "coloraxis": {
           "colorbar": {
            "outlinewidth": 0,
            "ticks": ""
           }
          },
          "colorscale": {
           "diverging": [
            [
             0,
             "#8e0152"
            ],
            [
             0.1,
             "#c51b7d"
            ],
            [
             0.2,
             "#de77ae"
            ],
            [
             0.3,
             "#f1b6da"
            ],
            [
             0.4,
             "#fde0ef"
            ],
            [
             0.5,
             "#f7f7f7"
            ],
            [
             0.6,
             "#e6f5d0"
            ],
            [
             0.7,
             "#b8e186"
            ],
            [
             0.8,
             "#7fbc41"
            ],
            [
             0.9,
             "#4d9221"
            ],
            [
             1,
             "#276419"
            ]
           ],
           "sequential": [
            [
             0,
             "#0d0887"
            ],
            [
             0.1111111111111111,
             "#46039f"
            ],
            [
             0.2222222222222222,
             "#7201a8"
            ],
            [
             0.3333333333333333,
             "#9c179e"
            ],
            [
             0.4444444444444444,
             "#bd3786"
            ],
            [
             0.5555555555555556,
             "#d8576b"
            ],
            [
             0.6666666666666666,
             "#ed7953"
            ],
            [
             0.7777777777777778,
             "#fb9f3a"
            ],
            [
             0.8888888888888888,
             "#fdca26"
            ],
            [
             1,
             "#f0f921"
            ]
           ],
           "sequentialminus": [
            [
             0,
             "#0d0887"
            ],
            [
             0.1111111111111111,
             "#46039f"
            ],
            [
             0.2222222222222222,
             "#7201a8"
            ],
            [
             0.3333333333333333,
             "#9c179e"
            ],
            [
             0.4444444444444444,
             "#bd3786"
            ],
            [
             0.5555555555555556,
             "#d8576b"
            ],
            [
             0.6666666666666666,
             "#ed7953"
            ],
            [
             0.7777777777777778,
             "#fb9f3a"
            ],
            [
             0.8888888888888888,
             "#fdca26"
            ],
            [
             1,
             "#f0f921"
            ]
           ]
          },
          "colorway": [
           "#636efa",
           "#EF553B",
           "#00cc96",
           "#ab63fa",
           "#FFA15A",
           "#19d3f3",
           "#FF6692",
           "#B6E880",
           "#FF97FF",
           "#FECB52"
          ],
          "font": {
           "color": "#2a3f5f"
          },
          "geo": {
           "bgcolor": "white",
           "lakecolor": "white",
           "landcolor": "#E5ECF6",
           "showlakes": true,
           "showland": true,
           "subunitcolor": "white"
          },
          "hoverlabel": {
           "align": "left"
          },
          "hovermode": "closest",
          "mapbox": {
           "style": "light"
          },
          "paper_bgcolor": "white",
          "plot_bgcolor": "#E5ECF6",
          "polar": {
           "angularaxis": {
            "gridcolor": "white",
            "linecolor": "white",
            "ticks": ""
           },
           "bgcolor": "#E5ECF6",
           "radialaxis": {
            "gridcolor": "white",
            "linecolor": "white",
            "ticks": ""
           }
          },
          "scene": {
           "xaxis": {
            "backgroundcolor": "#E5ECF6",
            "gridcolor": "white",
            "gridwidth": 2,
            "linecolor": "white",
            "showbackground": true,
            "ticks": "",
            "zerolinecolor": "white"
           },
           "yaxis": {
            "backgroundcolor": "#E5ECF6",
            "gridcolor": "white",
            "gridwidth": 2,
            "linecolor": "white",
            "showbackground": true,
            "ticks": "",
            "zerolinecolor": "white"
           },
           "zaxis": {
            "backgroundcolor": "#E5ECF6",
            "gridcolor": "white",
            "gridwidth": 2,
            "linecolor": "white",
            "showbackground": true,
            "ticks": "",
            "zerolinecolor": "white"
           }
          },
          "shapedefaults": {
           "line": {
            "color": "#2a3f5f"
           }
          },
          "ternary": {
           "aaxis": {
            "gridcolor": "white",
            "linecolor": "white",
            "ticks": ""
           },
           "baxis": {
            "gridcolor": "white",
            "linecolor": "white",
            "ticks": ""
           },
           "bgcolor": "#E5ECF6",
           "caxis": {
            "gridcolor": "white",
            "linecolor": "white",
            "ticks": ""
           }
          },
          "title": {
           "x": 0.05
          },
          "xaxis": {
           "automargin": true,
           "gridcolor": "white",
           "linecolor": "white",
           "ticks": "",
           "title": {
            "standoff": 15
           },
           "zerolinecolor": "white",
           "zerolinewidth": 2
          },
          "yaxis": {
           "automargin": true,
           "gridcolor": "white",
           "linecolor": "white",
           "ticks": "",
           "title": {
            "standoff": 15
           },
           "zerolinecolor": "white",
           "zerolinewidth": 2
          }
         }
        }
       }
      },
      "text/html": [
       "<div>                            <div id=\"8b4a3469-edb1-42dd-897d-2fea509537aa\" class=\"plotly-graph-div\" style=\"height:525px; width:100%;\"></div>            <script type=\"text/javascript\">                require([\"plotly\"], function(Plotly) {                    window.PLOTLYENV=window.PLOTLYENV || {};                                    if (document.getElementById(\"8b4a3469-edb1-42dd-897d-2fea509537aa\")) {                    Plotly.newPlot(                        \"8b4a3469-edb1-42dd-897d-2fea509537aa\",                        [{\"hovertemplate\":\"SPC1=%{x}\\u003cbr\\u003eSPC2=%{y}\\u003cbr\\u003eSPC3=%{z}\\u003cextra\\u003e\\u003c\\u002fextra\\u003e\",\"legendgroup\":\"\",\"marker\":{\"color\":\"#636efa\",\"symbol\":\"circle\"},\"mode\":\"markers\",\"name\":\"\",\"scene\":\"scene\",\"showlegend\":false,\"x\":[3.964230005080833,3.8447877071134693,-2.507506884467963,2.1975430397618108,-2.829468829233288,-3.390709105238677,1.9852035056740074,-3.3813599982970977,3.296969231816143,-3.179688672209236],\"y\":[-1.255590171055161,-4.738470719362195,-0.49121219517354897,-2.4862090500885734,6.625196503719671,-0.5577211757873664,0.19640677580345262,-4.023780781836651,2.6375909803847923,4.093789833395579],\"z\":[-4.031228794112857,-1.8799320323851687,4.938543597422646,0.2888691209364064,-0.9209896638828877,0.053403035143077295,-2.859547116353071,1.4941541079699274,4.308717775346851,-1.3919900300849235],\"type\":\"scatter3d\"}],                        {\"template\":{\"data\":{\"histogram2dcontour\":[{\"type\":\"histogram2dcontour\",\"colorbar\":{\"outlinewidth\":0,\"ticks\":\"\"},\"colorscale\":[[0.0,\"#0d0887\"],[0.1111111111111111,\"#46039f\"],[0.2222222222222222,\"#7201a8\"],[0.3333333333333333,\"#9c179e\"],[0.4444444444444444,\"#bd3786\"],[0.5555555555555556,\"#d8576b\"],[0.6666666666666666,\"#ed7953\"],[0.7777777777777778,\"#fb9f3a\"],[0.8888888888888888,\"#fdca26\"],[1.0,\"#f0f921\"]]}],\"choropleth\":[{\"type\":\"choropleth\",\"colorbar\":{\"outlinewidth\":0,\"ticks\":\"\"}}],\"histogram2d\":[{\"type\":\"histogram2d\",\"colorbar\":{\"outlinewidth\":0,\"ticks\":\"\"},\"colorscale\":[[0.0,\"#0d0887\"],[0.1111111111111111,\"#46039f\"],[0.2222222222222222,\"#7201a8\"],[0.3333333333333333,\"#9c179e\"],[0.4444444444444444,\"#bd3786\"],[0.5555555555555556,\"#d8576b\"],[0.6666666666666666,\"#ed7953\"],[0.7777777777777778,\"#fb9f3a\"],[0.8888888888888888,\"#fdca26\"],[1.0,\"#f0f921\"]]}],\"heatmap\":[{\"type\":\"heatmap\",\"colorbar\":{\"outlinewidth\":0,\"ticks\":\"\"},\"colorscale\":[[0.0,\"#0d0887\"],[0.1111111111111111,\"#46039f\"],[0.2222222222222222,\"#7201a8\"],[0.3333333333333333,\"#9c179e\"],[0.4444444444444444,\"#bd3786\"],[0.5555555555555556,\"#d8576b\"],[0.6666666666666666,\"#ed7953\"],[0.7777777777777778,\"#fb9f3a\"],[0.8888888888888888,\"#fdca26\"],[1.0,\"#f0f921\"]]}],\"heatmapgl\":[{\"type\":\"heatmapgl\",\"colorbar\":{\"outlinewidth\":0,\"ticks\":\"\"},\"colorscale\":[[0.0,\"#0d0887\"],[0.1111111111111111,\"#46039f\"],[0.2222222222222222,\"#7201a8\"],[0.3333333333333333,\"#9c179e\"],[0.4444444444444444,\"#bd3786\"],[0.5555555555555556,\"#d8576b\"],[0.6666666666666666,\"#ed7953\"],[0.7777777777777778,\"#fb9f3a\"],[0.8888888888888888,\"#fdca26\"],[1.0,\"#f0f921\"]]}],\"contourcarpet\":[{\"type\":\"contourcarpet\",\"colorbar\":{\"outlinewidth\":0,\"ticks\":\"\"}}],\"contour\":[{\"type\":\"contour\",\"colorbar\":{\"outlinewidth\":0,\"ticks\":\"\"},\"colorscale\":[[0.0,\"#0d0887\"],[0.1111111111111111,\"#46039f\"],[0.2222222222222222,\"#7201a8\"],[0.3333333333333333,\"#9c179e\"],[0.4444444444444444,\"#bd3786\"],[0.5555555555555556,\"#d8576b\"],[0.6666666666666666,\"#ed7953\"],[0.7777777777777778,\"#fb9f3a\"],[0.8888888888888888,\"#fdca26\"],[1.0,\"#f0f921\"]]}],\"surface\":[{\"type\":\"surface\",\"colorbar\":{\"outlinewidth\":0,\"ticks\":\"\"},\"colorscale\":[[0.0,\"#0d0887\"],[0.1111111111111111,\"#46039f\"],[0.2222222222222222,\"#7201a8\"],[0.3333333333333333,\"#9c179e\"],[0.4444444444444444,\"#bd3786\"],[0.5555555555555556,\"#d8576b\"],[0.6666666666666666,\"#ed7953\"],[0.7777777777777778,\"#fb9f3a\"],[0.8888888888888888,\"#fdca26\"],[1.0,\"#f0f921\"]]}],\"mesh3d\":[{\"type\":\"mesh3d\",\"colorbar\":{\"outlinewidth\":0,\"ticks\":\"\"}}],\"scatter\":[{\"fillpattern\":{\"fillmode\":\"overlay\",\"size\":10,\"solidity\":0.2},\"type\":\"scatter\"}],\"parcoords\":[{\"type\":\"parcoords\",\"line\":{\"colorbar\":{\"outlinewidth\":0,\"ticks\":\"\"}}}],\"scatterpolargl\":[{\"type\":\"scatterpolargl\",\"marker\":{\"colorbar\":{\"outlinewidth\":0,\"ticks\":\"\"}}}],\"bar\":[{\"error_x\":{\"color\":\"#2a3f5f\"},\"error_y\":{\"color\":\"#2a3f5f\"},\"marker\":{\"line\":{\"color\":\"#E5ECF6\",\"width\":0.5},\"pattern\":{\"fillmode\":\"overlay\",\"size\":10,\"solidity\":0.2}},\"type\":\"bar\"}],\"scattergeo\":[{\"type\":\"scattergeo\",\"marker\":{\"colorbar\":{\"outlinewidth\":0,\"ticks\":\"\"}}}],\"scatterpolar\":[{\"type\":\"scatterpolar\",\"marker\":{\"colorbar\":{\"outlinewidth\":0,\"ticks\":\"\"}}}],\"histogram\":[{\"marker\":{\"pattern\":{\"fillmode\":\"overlay\",\"size\":10,\"solidity\":0.2}},\"type\":\"histogram\"}],\"scattergl\":[{\"type\":\"scattergl\",\"marker\":{\"colorbar\":{\"outlinewidth\":0,\"ticks\":\"\"}}}],\"scatter3d\":[{\"type\":\"scatter3d\",\"line\":{\"colorbar\":{\"outlinewidth\":0,\"ticks\":\"\"}},\"marker\":{\"colorbar\":{\"outlinewidth\":0,\"ticks\":\"\"}}}],\"scattermapbox\":[{\"type\":\"scattermapbox\",\"marker\":{\"colorbar\":{\"outlinewidth\":0,\"ticks\":\"\"}}}],\"scatterternary\":[{\"type\":\"scatterternary\",\"marker\":{\"colorbar\":{\"outlinewidth\":0,\"ticks\":\"\"}}}],\"scattercarpet\":[{\"type\":\"scattercarpet\",\"marker\":{\"colorbar\":{\"outlinewidth\":0,\"ticks\":\"\"}}}],\"carpet\":[{\"aaxis\":{\"endlinecolor\":\"#2a3f5f\",\"gridcolor\":\"white\",\"linecolor\":\"white\",\"minorgridcolor\":\"white\",\"startlinecolor\":\"#2a3f5f\"},\"baxis\":{\"endlinecolor\":\"#2a3f5f\",\"gridcolor\":\"white\",\"linecolor\":\"white\",\"minorgridcolor\":\"white\",\"startlinecolor\":\"#2a3f5f\"},\"type\":\"carpet\"}],\"table\":[{\"cells\":{\"fill\":{\"color\":\"#EBF0F8\"},\"line\":{\"color\":\"white\"}},\"header\":{\"fill\":{\"color\":\"#C8D4E3\"},\"line\":{\"color\":\"white\"}},\"type\":\"table\"}],\"barpolar\":[{\"marker\":{\"line\":{\"color\":\"#E5ECF6\",\"width\":0.5},\"pattern\":{\"fillmode\":\"overlay\",\"size\":10,\"solidity\":0.2}},\"type\":\"barpolar\"}],\"pie\":[{\"automargin\":true,\"type\":\"pie\"}]},\"layout\":{\"autotypenumbers\":\"strict\",\"colorway\":[\"#636efa\",\"#EF553B\",\"#00cc96\",\"#ab63fa\",\"#FFA15A\",\"#19d3f3\",\"#FF6692\",\"#B6E880\",\"#FF97FF\",\"#FECB52\"],\"font\":{\"color\":\"#2a3f5f\"},\"hovermode\":\"closest\",\"hoverlabel\":{\"align\":\"left\"},\"paper_bgcolor\":\"white\",\"plot_bgcolor\":\"#E5ECF6\",\"polar\":{\"bgcolor\":\"#E5ECF6\",\"angularaxis\":{\"gridcolor\":\"white\",\"linecolor\":\"white\",\"ticks\":\"\"},\"radialaxis\":{\"gridcolor\":\"white\",\"linecolor\":\"white\",\"ticks\":\"\"}},\"ternary\":{\"bgcolor\":\"#E5ECF6\",\"aaxis\":{\"gridcolor\":\"white\",\"linecolor\":\"white\",\"ticks\":\"\"},\"baxis\":{\"gridcolor\":\"white\",\"linecolor\":\"white\",\"ticks\":\"\"},\"caxis\":{\"gridcolor\":\"white\",\"linecolor\":\"white\",\"ticks\":\"\"}},\"coloraxis\":{\"colorbar\":{\"outlinewidth\":0,\"ticks\":\"\"}},\"colorscale\":{\"sequential\":[[0.0,\"#0d0887\"],[0.1111111111111111,\"#46039f\"],[0.2222222222222222,\"#7201a8\"],[0.3333333333333333,\"#9c179e\"],[0.4444444444444444,\"#bd3786\"],[0.5555555555555556,\"#d8576b\"],[0.6666666666666666,\"#ed7953\"],[0.7777777777777778,\"#fb9f3a\"],[0.8888888888888888,\"#fdca26\"],[1.0,\"#f0f921\"]],\"sequentialminus\":[[0.0,\"#0d0887\"],[0.1111111111111111,\"#46039f\"],[0.2222222222222222,\"#7201a8\"],[0.3333333333333333,\"#9c179e\"],[0.4444444444444444,\"#bd3786\"],[0.5555555555555556,\"#d8576b\"],[0.6666666666666666,\"#ed7953\"],[0.7777777777777778,\"#fb9f3a\"],[0.8888888888888888,\"#fdca26\"],[1.0,\"#f0f921\"]],\"diverging\":[[0,\"#8e0152\"],[0.1,\"#c51b7d\"],[0.2,\"#de77ae\"],[0.3,\"#f1b6da\"],[0.4,\"#fde0ef\"],[0.5,\"#f7f7f7\"],[0.6,\"#e6f5d0\"],[0.7,\"#b8e186\"],[0.8,\"#7fbc41\"],[0.9,\"#4d9221\"],[1,\"#276419\"]]},\"xaxis\":{\"gridcolor\":\"white\",\"linecolor\":\"white\",\"ticks\":\"\",\"title\":{\"standoff\":15},\"zerolinecolor\":\"white\",\"automargin\":true,\"zerolinewidth\":2},\"yaxis\":{\"gridcolor\":\"white\",\"linecolor\":\"white\",\"ticks\":\"\",\"title\":{\"standoff\":15},\"zerolinecolor\":\"white\",\"automargin\":true,\"zerolinewidth\":2},\"scene\":{\"xaxis\":{\"backgroundcolor\":\"#E5ECF6\",\"gridcolor\":\"white\",\"linecolor\":\"white\",\"showbackground\":true,\"ticks\":\"\",\"zerolinecolor\":\"white\",\"gridwidth\":2},\"yaxis\":{\"backgroundcolor\":\"#E5ECF6\",\"gridcolor\":\"white\",\"linecolor\":\"white\",\"showbackground\":true,\"ticks\":\"\",\"zerolinecolor\":\"white\",\"gridwidth\":2},\"zaxis\":{\"backgroundcolor\":\"#E5ECF6\",\"gridcolor\":\"white\",\"linecolor\":\"white\",\"showbackground\":true,\"ticks\":\"\",\"zerolinecolor\":\"white\",\"gridwidth\":2}},\"shapedefaults\":{\"line\":{\"color\":\"#2a3f5f\"}},\"annotationdefaults\":{\"arrowcolor\":\"#2a3f5f\",\"arrowhead\":0,\"arrowwidth\":1},\"geo\":{\"bgcolor\":\"white\",\"landcolor\":\"#E5ECF6\",\"subunitcolor\":\"white\",\"showland\":true,\"showlakes\":true,\"lakecolor\":\"white\"},\"title\":{\"x\":0.05},\"mapbox\":{\"style\":\"light\"}}},\"scene\":{\"domain\":{\"x\":[0.0,1.0],\"y\":[0.0,1.0]},\"xaxis\":{\"title\":{\"text\":\"SPC1\"}},\"yaxis\":{\"title\":{\"text\":\"SPC2\"}},\"zaxis\":{\"title\":{\"text\":\"SPC3\"}}},\"legend\":{\"tracegroupgap\":0},\"margin\":{\"t\":60}},                        {\"responsive\": true}                    ).then(function(){\n",
       "                            \n",
       "var gd = document.getElementById('8b4a3469-edb1-42dd-897d-2fea509537aa');\n",
       "var x = new MutationObserver(function (mutations, observer) {{\n",
       "        var display = window.getComputedStyle(gd).display;\n",
       "        if (!display || display === 'none') {{\n",
       "            console.log([gd, 'removed!']);\n",
       "            Plotly.purge(gd);\n",
       "            observer.disconnect();\n",
       "        }}\n",
       "}});\n",
       "\n",
       "// Listen for the removal of the full notebook cells\n",
       "var notebookContainer = gd.closest('#notebook-container');\n",
       "if (notebookContainer) {{\n",
       "    x.observe(notebookContainer, {childList: true});\n",
       "}}\n",
       "\n",
       "// Listen for the clearing of the current output cell\n",
       "var outputEl = gd.closest('.output');\n",
       "if (outputEl) {{\n",
       "    x.observe(outputEl, {childList: true});\n",
       "}}\n",
       "\n",
       "                        })                };                });            </script>        </div>"
      ]
     },
     "metadata": {},
     "output_type": "display_data"
    }
   ],
   "source": [
    "sparse_pca = SparsePCA(n_components=3, random_state=len(PCA_data_numbers[0]))\n",
    "sparse_pca_data_rookie = sparse_pca.fit_transform(PCA_data_numbers_rookie)\n",
    "\n",
    "# Converting the transformed data back to a DataFrame\n",
    "df_sparse_pca_rookie = pd.DataFrame(sparse_pca_data_rookie, columns=['SPC1', 'SPC2', 'SPC3'])\n",
    "\n",
    "fig_2d = px.scatter_3d(df_sparse_pca_rookie, x='SPC1', y='SPC2', z='SPC3')\n",
    "fig_2d.show()"
   ]
  },
  {
   "cell_type": "code",
   "execution_count": 158,
   "metadata": {},
   "outputs": [
    {
     "name": "stdout",
     "output_type": "stream",
     "text": [
      "     season  player_id           player  mp_per_game  fg_per_game  \\\n",
      "169    2022       4900    Aaron Wiggins         24.2          3.1   \n",
      "173    2022       4904   Alperen Şengün         20.7          3.5   \n",
      "175    2022       4906    Austin Reaves         23.2          2.4   \n",
      "176    2022       4907      Ayo Dosunmu         27.4          3.6   \n",
      "177    2022       4908     Bones Hyland         19.0          3.3   \n",
      "..      ...        ...              ...          ...          ...   \n",
      "277    2022       5019       Vit Krejci         23.0          2.3   \n",
      "278    2022       5020      Xavier Moon         13.7          2.5   \n",
      "279    2022       5022        Yves Pons          5.9          0.4   \n",
      "280    2022       5023   Zavier Simpson         43.5          4.8   \n",
      "281    2022       5024  Ziaire Williams         21.7          3.1   \n",
      "\n",
      "     fga_per_game  fg_percent  x3p_per_game  x3pa_per_game  x3p_percent  ...  \\\n",
      "169           6.7       0.463           0.8            2.8        0.304  ...   \n",
      "173           7.3       0.474           0.4            1.6        0.248  ...   \n",
      "175           5.2       0.459           0.9            2.7        0.317  ...   \n",
      "176           6.9       0.520           0.9            2.4        0.376  ...   \n",
      "177           8.3       0.403           1.9            5.2        0.366  ...   \n",
      "..            ...         ...           ...            ...          ...  ...   \n",
      "277           5.6       0.407           1.1            3.3        0.327  ...   \n",
      "278           5.1       0.490           0.5            1.4        0.357  ...   \n",
      "279           1.3       0.313           0.3            0.8        0.333  ...   \n",
      "280          13.0       0.365           0.3            2.0        0.125  ...   \n",
      "281           6.8       0.450           1.2            3.9        0.314  ...   \n",
      "\n",
      "       trb  ast   stl   blk    tov   pf  pts  playoffs     w     l  \n",
      "169  178.0   68  30.0  10.0   54.0   93  416         0  24.0  58.0  \n",
      "173  393.0  185  59.0  68.0  145.0  214  692         0  20.0  62.0  \n",
      "175  193.0  110  29.0  20.0   40.0   87  444         0  33.0  49.0  \n",
      "176  214.0  256  60.0  29.0  108.0  182  679         1  46.0  36.0  \n",
      "177  188.0  191  41.0  20.0   86.0  153  698         1  48.0  34.0  \n",
      "..     ...  ...   ...   ...    ...  ...  ...       ...   ...   ...  \n",
      "277  101.0   57  19.0   8.0   29.0   65  187         0  24.0  58.0  \n",
      "278   14.0   24   7.0   3.0    6.0    9   58         0  42.0  40.0  \n",
      "279   12.0    1   1.0   4.0    1.0    6   13         1  56.0  26.0  \n",
      "280   21.0   30   5.0   4.0   10.0   15   44         0  24.0  58.0  \n",
      "281  129.0   65  35.0  12.0   41.0  113  501         1  56.0  26.0  \n",
      "\n",
      "[80 rows x 47 columns]\n"
     ]
    }
   ],
   "source": [
    "print(PCA_data)\n",
    "\n",
    "PCA_data_numbers = PCA_data[['w', 'l', 'fg_per_game']]\n",
    "PCA_data_numbers = scaler.fit_transform(PCA_data_numbers)\n",
    "\n",
    "PCA_data_numbers_rookie = award_PCA_data[['w', 'l', 'fg_per_game']]\n",
    "PCA_data_numbers_rookie = scaler.fit_transform(PCA_data_numbers_rookie)"
   ]
  },
  {
   "cell_type": "code",
   "execution_count": 159,
   "metadata": {},
   "outputs": [
    {
     "data": {
      "application/vnd.plotly.v1+json": {
       "config": {
        "plotlyServerURL": "https://plot.ly"
       },
       "data": [
        {
         "hovertemplate": "PC1=%{x}<br>PC2=%{y}<extra></extra>",
         "legendgroup": "",
         "marker": {
          "color": "#636efa",
          "symbol": "circle"
         },
         "mode": "markers",
         "name": "",
         "orientation": "v",
         "showlegend": false,
         "type": "scatter",
         "x": [
          -1.5317478584943158,
          -2.055758496677514,
          -0.40457659337404245,
          0.6502995958222036,
          0.938231250309771,
          0.5151839885784976,
          -2.570172256898935,
          0.517925953710435,
          -0.8535501905012819,
          1.7719869306785998,
          -1.893345571471873,
          -0.3499819574501722,
          -1.433526447174322,
          1.4567579582290975,
          0.9068209846499301,
          -1.3161112799307702,
          0.673483966086233,
          -1.5563032113243105,
          2.0844739379961648,
          -0.20801143737662262,
          -2.441911562485072,
          -0.8822184910291855,
          -0.8535501905012819,
          -1.53448982362625,
          -0.3745373102801699,
          -1.4525978697404451,
          -1.4034871640804498,
          0.2722500920530198,
          3.2416844862103074,
          1.0869343498557258,
          -2.7298432169726388,
          1.0091553436678269,
          -2.0011638607536444,
          0.8535973312920286,
          -1.1960764809127191,
          1.509981611586999,
          -1.4280425169104474,
          -0.16986859224437642,
          0.14124743250721972,
          1.4376865356629744,
          0.35002909824091905,
          -0.08934762092454011,
          -1.9261268196976826,
          -2.0762009018096057,
          -0.1957949276403428,
          1.560463299812963,
          1.1647133560436247,
          -1.1933345157807818,
          0.7771893076700984,
          1.217937009401526,
          1.4540159930971603,
          1.7460605952826336,
          -1.4539688523064136,
          -1.3775608286844834,
          2.2154765975419646,
          1.4799423284931266,
          -1.273855487100618,
          0.4305500695607553,
          1.930286908186335,
          1.9793976138463305,
          -1.4021161815144811,
          1.7228762250186043,
          3.2157581508143407,
          1.6900949767927946,
          0.09350770941319288,
          1.269789680193459,
          1.7460605952826336,
          2.1936632098439044,
          0.18636752382674696,
          -1.6859348883041418,
          -1.7391585416620434,
          -1.1905925506488444,
          -1.5372317887581877,
          0.06621039145125789,
          -1.3557474409864232,
          -1.324337175326582,
          0.5151839885784976,
          2.530705569991467,
          -1.9724955602257404,
          1.8306945143003759
         ],
         "xaxis": "x",
         "y": [
          -0.13062544908520937,
          -0.08373016290285167,
          -0.11937115446458553,
          1.1878277720794024,
          1.1059957847227564,
          0.3589578942797682,
          1.924550421751696,
          0.9193536938432507,
          -0.8080247006421082,
          0.07829046757306211,
          0.9669532704130576,
          0.32425595656796413,
          -1.4849544252740403,
          -0.06169110058656734,
          0.04358852986125786,
          1.083487195481507,
          0.5690476282504537,
          0.20795679496199698,
          -0.3421237638307914,
          2.5541153332763047,
          1.3524308006426236,
          -1.3100361559401243,
          -0.8080247006421082,
          -0.6910212486486933,
          0.6628382006151717,
          -0.02558058209986787,
          -0.7027450701942829,
          -1.0769683058032244,
          0.4513398858695911,
          -0.6452997797787471,
          1.434262787999269,
          -0.4701467469823483,
          0.35989694812969814,
          -0.11984068138955092,
          -1.1698198243180127,
          0.10173811066424152,
          -0.36416282614707546,
          -0.36463235307204056,
          -1.0652444842576352,
          1.3976827425876053,
          -1.2521213385996235,
          0.020610413695043326,
          -0.37565188423018275,
          1.0954457804895796,
          -0.3062480088065743,
          -0.29522847764843235,
          -0.8204528125751456,
          -0.6094240247545298,
          0.3355102511885888,
          -0.6570236013243366,
          -0.6220869001500502,
          0.1366748118385282,
          -0.3057784818816094,
          -0.7611294144597491,
          -0.353847585376381,
          -0.6804712444155162,
          -0.9946667915216141,
          -0.8668785718325392,
          0.2883802015437473,
          -0.38878428655066766,
          -0.4225471704125417,
          0.7554549556674768,
          0.5097242301350574,
          -0.5871501989757635,
          -0.1078820963814787,
          -0.773792289855269,
          0.1366748118385282,
          0.545130458234309,
          2.7991417684212765,
          0.49987851628932756,
          0.3364493050385189,
          -0.04902822519104756,
          -1.2514170482121756,
          -0.32969565189775374,
          -1.6601074580704391,
          -0.5977002032089404,
          0.3589578942797682,
          -0.2138660172167516,
          0.8619084034277146,
          1.362511277950836
         ],
         "yaxis": "y"
        }
       ],
       "layout": {
        "autosize": true,
        "legend": {
         "tracegroupgap": 0
        },
        "margin": {
         "t": 60
        },
        "template": {
         "data": {
          "bar": [
           {
            "error_x": {
             "color": "#2a3f5f"
            },
            "error_y": {
             "color": "#2a3f5f"
            },
            "marker": {
             "line": {
              "color": "#E5ECF6",
              "width": 0.5
             },
             "pattern": {
              "fillmode": "overlay",
              "size": 10,
              "solidity": 0.2
             }
            },
            "type": "bar"
           }
          ],
          "barpolar": [
           {
            "marker": {
             "line": {
              "color": "#E5ECF6",
              "width": 0.5
             },
             "pattern": {
              "fillmode": "overlay",
              "size": 10,
              "solidity": 0.2
             }
            },
            "type": "barpolar"
           }
          ],
          "carpet": [
           {
            "aaxis": {
             "endlinecolor": "#2a3f5f",
             "gridcolor": "white",
             "linecolor": "white",
             "minorgridcolor": "white",
             "startlinecolor": "#2a3f5f"
            },
            "baxis": {
             "endlinecolor": "#2a3f5f",
             "gridcolor": "white",
             "linecolor": "white",
             "minorgridcolor": "white",
             "startlinecolor": "#2a3f5f"
            },
            "type": "carpet"
           }
          ],
          "choropleth": [
           {
            "colorbar": {
             "outlinewidth": 0,
             "ticks": ""
            },
            "type": "choropleth"
           }
          ],
          "contour": [
           {
            "colorbar": {
             "outlinewidth": 0,
             "ticks": ""
            },
            "colorscale": [
             [
              0,
              "#0d0887"
             ],
             [
              0.1111111111111111,
              "#46039f"
             ],
             [
              0.2222222222222222,
              "#7201a8"
             ],
             [
              0.3333333333333333,
              "#9c179e"
             ],
             [
              0.4444444444444444,
              "#bd3786"
             ],
             [
              0.5555555555555556,
              "#d8576b"
             ],
             [
              0.6666666666666666,
              "#ed7953"
             ],
             [
              0.7777777777777778,
              "#fb9f3a"
             ],
             [
              0.8888888888888888,
              "#fdca26"
             ],
             [
              1,
              "#f0f921"
             ]
            ],
            "type": "contour"
           }
          ],
          "contourcarpet": [
           {
            "colorbar": {
             "outlinewidth": 0,
             "ticks": ""
            },
            "type": "contourcarpet"
           }
          ],
          "heatmap": [
           {
            "colorbar": {
             "outlinewidth": 0,
             "ticks": ""
            },
            "colorscale": [
             [
              0,
              "#0d0887"
             ],
             [
              0.1111111111111111,
              "#46039f"
             ],
             [
              0.2222222222222222,
              "#7201a8"
             ],
             [
              0.3333333333333333,
              "#9c179e"
             ],
             [
              0.4444444444444444,
              "#bd3786"
             ],
             [
              0.5555555555555556,
              "#d8576b"
             ],
             [
              0.6666666666666666,
              "#ed7953"
             ],
             [
              0.7777777777777778,
              "#fb9f3a"
             ],
             [
              0.8888888888888888,
              "#fdca26"
             ],
             [
              1,
              "#f0f921"
             ]
            ],
            "type": "heatmap"
           }
          ],
          "heatmapgl": [
           {
            "colorbar": {
             "outlinewidth": 0,
             "ticks": ""
            },
            "colorscale": [
             [
              0,
              "#0d0887"
             ],
             [
              0.1111111111111111,
              "#46039f"
             ],
             [
              0.2222222222222222,
              "#7201a8"
             ],
             [
              0.3333333333333333,
              "#9c179e"
             ],
             [
              0.4444444444444444,
              "#bd3786"
             ],
             [
              0.5555555555555556,
              "#d8576b"
             ],
             [
              0.6666666666666666,
              "#ed7953"
             ],
             [
              0.7777777777777778,
              "#fb9f3a"
             ],
             [
              0.8888888888888888,
              "#fdca26"
             ],
             [
              1,
              "#f0f921"
             ]
            ],
            "type": "heatmapgl"
           }
          ],
          "histogram": [
           {
            "marker": {
             "pattern": {
              "fillmode": "overlay",
              "size": 10,
              "solidity": 0.2
             }
            },
            "type": "histogram"
           }
          ],
          "histogram2d": [
           {
            "colorbar": {
             "outlinewidth": 0,
             "ticks": ""
            },
            "colorscale": [
             [
              0,
              "#0d0887"
             ],
             [
              0.1111111111111111,
              "#46039f"
             ],
             [
              0.2222222222222222,
              "#7201a8"
             ],
             [
              0.3333333333333333,
              "#9c179e"
             ],
             [
              0.4444444444444444,
              "#bd3786"
             ],
             [
              0.5555555555555556,
              "#d8576b"
             ],
             [
              0.6666666666666666,
              "#ed7953"
             ],
             [
              0.7777777777777778,
              "#fb9f3a"
             ],
             [
              0.8888888888888888,
              "#fdca26"
             ],
             [
              1,
              "#f0f921"
             ]
            ],
            "type": "histogram2d"
           }
          ],
          "histogram2dcontour": [
           {
            "colorbar": {
             "outlinewidth": 0,
             "ticks": ""
            },
            "colorscale": [
             [
              0,
              "#0d0887"
             ],
             [
              0.1111111111111111,
              "#46039f"
             ],
             [
              0.2222222222222222,
              "#7201a8"
             ],
             [
              0.3333333333333333,
              "#9c179e"
             ],
             [
              0.4444444444444444,
              "#bd3786"
             ],
             [
              0.5555555555555556,
              "#d8576b"
             ],
             [
              0.6666666666666666,
              "#ed7953"
             ],
             [
              0.7777777777777778,
              "#fb9f3a"
             ],
             [
              0.8888888888888888,
              "#fdca26"
             ],
             [
              1,
              "#f0f921"
             ]
            ],
            "type": "histogram2dcontour"
           }
          ],
          "mesh3d": [
           {
            "colorbar": {
             "outlinewidth": 0,
             "ticks": ""
            },
            "type": "mesh3d"
           }
          ],
          "parcoords": [
           {
            "line": {
             "colorbar": {
              "outlinewidth": 0,
              "ticks": ""
             }
            },
            "type": "parcoords"
           }
          ],
          "pie": [
           {
            "automargin": true,
            "type": "pie"
           }
          ],
          "scatter": [
           {
            "fillpattern": {
             "fillmode": "overlay",
             "size": 10,
             "solidity": 0.2
            },
            "type": "scatter"
           }
          ],
          "scatter3d": [
           {
            "line": {
             "colorbar": {
              "outlinewidth": 0,
              "ticks": ""
             }
            },
            "marker": {
             "colorbar": {
              "outlinewidth": 0,
              "ticks": ""
             }
            },
            "type": "scatter3d"
           }
          ],
          "scattercarpet": [
           {
            "marker": {
             "colorbar": {
              "outlinewidth": 0,
              "ticks": ""
             }
            },
            "type": "scattercarpet"
           }
          ],
          "scattergeo": [
           {
            "marker": {
             "colorbar": {
              "outlinewidth": 0,
              "ticks": ""
             }
            },
            "type": "scattergeo"
           }
          ],
          "scattergl": [
           {
            "marker": {
             "colorbar": {
              "outlinewidth": 0,
              "ticks": ""
             }
            },
            "type": "scattergl"
           }
          ],
          "scattermapbox": [
           {
            "marker": {
             "colorbar": {
              "outlinewidth": 0,
              "ticks": ""
             }
            },
            "type": "scattermapbox"
           }
          ],
          "scatterpolar": [
           {
            "marker": {
             "colorbar": {
              "outlinewidth": 0,
              "ticks": ""
             }
            },
            "type": "scatterpolar"
           }
          ],
          "scatterpolargl": [
           {
            "marker": {
             "colorbar": {
              "outlinewidth": 0,
              "ticks": ""
             }
            },
            "type": "scatterpolargl"
           }
          ],
          "scatterternary": [
           {
            "marker": {
             "colorbar": {
              "outlinewidth": 0,
              "ticks": ""
             }
            },
            "type": "scatterternary"
           }
          ],
          "surface": [
           {
            "colorbar": {
             "outlinewidth": 0,
             "ticks": ""
            },
            "colorscale": [
             [
              0,
              "#0d0887"
             ],
             [
              0.1111111111111111,
              "#46039f"
             ],
             [
              0.2222222222222222,
              "#7201a8"
             ],
             [
              0.3333333333333333,
              "#9c179e"
             ],
             [
              0.4444444444444444,
              "#bd3786"
             ],
             [
              0.5555555555555556,
              "#d8576b"
             ],
             [
              0.6666666666666666,
              "#ed7953"
             ],
             [
              0.7777777777777778,
              "#fb9f3a"
             ],
             [
              0.8888888888888888,
              "#fdca26"
             ],
             [
              1,
              "#f0f921"
             ]
            ],
            "type": "surface"
           }
          ],
          "table": [
           {
            "cells": {
             "fill": {
              "color": "#EBF0F8"
             },
             "line": {
              "color": "white"
             }
            },
            "header": {
             "fill": {
              "color": "#C8D4E3"
             },
             "line": {
              "color": "white"
             }
            },
            "type": "table"
           }
          ]
         },
         "layout": {
          "annotationdefaults": {
           "arrowcolor": "#2a3f5f",
           "arrowhead": 0,
           "arrowwidth": 1
          },
          "autotypenumbers": "strict",
          "coloraxis": {
           "colorbar": {
            "outlinewidth": 0,
            "ticks": ""
           }
          },
          "colorscale": {
           "diverging": [
            [
             0,
             "#8e0152"
            ],
            [
             0.1,
             "#c51b7d"
            ],
            [
             0.2,
             "#de77ae"
            ],
            [
             0.3,
             "#f1b6da"
            ],
            [
             0.4,
             "#fde0ef"
            ],
            [
             0.5,
             "#f7f7f7"
            ],
            [
             0.6,
             "#e6f5d0"
            ],
            [
             0.7,
             "#b8e186"
            ],
            [
             0.8,
             "#7fbc41"
            ],
            [
             0.9,
             "#4d9221"
            ],
            [
             1,
             "#276419"
            ]
           ],
           "sequential": [
            [
             0,
             "#0d0887"
            ],
            [
             0.1111111111111111,
             "#46039f"
            ],
            [
             0.2222222222222222,
             "#7201a8"
            ],
            [
             0.3333333333333333,
             "#9c179e"
            ],
            [
             0.4444444444444444,
             "#bd3786"
            ],
            [
             0.5555555555555556,
             "#d8576b"
            ],
            [
             0.6666666666666666,
             "#ed7953"
            ],
            [
             0.7777777777777778,
             "#fb9f3a"
            ],
            [
             0.8888888888888888,
             "#fdca26"
            ],
            [
             1,
             "#f0f921"
            ]
           ],
           "sequentialminus": [
            [
             0,
             "#0d0887"
            ],
            [
             0.1111111111111111,
             "#46039f"
            ],
            [
             0.2222222222222222,
             "#7201a8"
            ],
            [
             0.3333333333333333,
             "#9c179e"
            ],
            [
             0.4444444444444444,
             "#bd3786"
            ],
            [
             0.5555555555555556,
             "#d8576b"
            ],
            [
             0.6666666666666666,
             "#ed7953"
            ],
            [
             0.7777777777777778,
             "#fb9f3a"
            ],
            [
             0.8888888888888888,
             "#fdca26"
            ],
            [
             1,
             "#f0f921"
            ]
           ]
          },
          "colorway": [
           "#636efa",
           "#EF553B",
           "#00cc96",
           "#ab63fa",
           "#FFA15A",
           "#19d3f3",
           "#FF6692",
           "#B6E880",
           "#FF97FF",
           "#FECB52"
          ],
          "font": {
           "color": "#2a3f5f"
          },
          "geo": {
           "bgcolor": "white",
           "lakecolor": "white",
           "landcolor": "#E5ECF6",
           "showlakes": true,
           "showland": true,
           "subunitcolor": "white"
          },
          "hoverlabel": {
           "align": "left"
          },
          "hovermode": "closest",
          "mapbox": {
           "style": "light"
          },
          "paper_bgcolor": "white",
          "plot_bgcolor": "#E5ECF6",
          "polar": {
           "angularaxis": {
            "gridcolor": "white",
            "linecolor": "white",
            "ticks": ""
           },
           "bgcolor": "#E5ECF6",
           "radialaxis": {
            "gridcolor": "white",
            "linecolor": "white",
            "ticks": ""
           }
          },
          "scene": {
           "xaxis": {
            "backgroundcolor": "#E5ECF6",
            "gridcolor": "white",
            "gridwidth": 2,
            "linecolor": "white",
            "showbackground": true,
            "ticks": "",
            "zerolinecolor": "white"
           },
           "yaxis": {
            "backgroundcolor": "#E5ECF6",
            "gridcolor": "white",
            "gridwidth": 2,
            "linecolor": "white",
            "showbackground": true,
            "ticks": "",
            "zerolinecolor": "white"
           },
           "zaxis": {
            "backgroundcolor": "#E5ECF6",
            "gridcolor": "white",
            "gridwidth": 2,
            "linecolor": "white",
            "showbackground": true,
            "ticks": "",
            "zerolinecolor": "white"
           }
          },
          "shapedefaults": {
           "line": {
            "color": "#2a3f5f"
           }
          },
          "ternary": {
           "aaxis": {
            "gridcolor": "white",
            "linecolor": "white",
            "ticks": ""
           },
           "baxis": {
            "gridcolor": "white",
            "linecolor": "white",
            "ticks": ""
           },
           "bgcolor": "#E5ECF6",
           "caxis": {
            "gridcolor": "white",
            "linecolor": "white",
            "ticks": ""
           }
          },
          "title": {
           "x": 0.05
          },
          "xaxis": {
           "automargin": true,
           "gridcolor": "white",
           "linecolor": "white",
           "ticks": "",
           "title": {
            "standoff": 15
           },
           "zerolinecolor": "white",
           "zerolinewidth": 2
          },
          "yaxis": {
           "automargin": true,
           "gridcolor": "white",
           "linecolor": "white",
           "ticks": "",
           "title": {
            "standoff": 15
           },
           "zerolinecolor": "white",
           "zerolinewidth": 2
          }
         }
        },
        "xaxis": {
         "anchor": "y",
         "autorange": true,
         "domain": [
          0,
          1
         ],
         "range": [
          -3.09130030215814,
          3.603141571395808
         ],
         "title": {
          "text": "PC1"
         },
         "type": "linear"
        },
        "yaxis": {
         "anchor": "x",
         "autorange": true,
         "domain": [
          0,
          1
         ],
         "range": [
          -2.0053774113027374,
          3.1444117216535745
         ],
         "title": {
          "text": "PC2"
         },
         "type": "linear"
        }
       }
      },
      "image/png": "[encoded data removed]",
      "text/html": [
       "<div>                            <div id=\"0be72c2d-00f2-4e53-94b6-a52885715364\" class=\"plotly-graph-div\" style=\"height:525px; width:100%;\"></div>            <script type=\"text/javascript\">                require([\"plotly\"], function(Plotly) {                    window.PLOTLYENV=window.PLOTLYENV || {};                                    if (document.getElementById(\"0be72c2d-00f2-4e53-94b6-a52885715364\")) {                    Plotly.newPlot(                        \"0be72c2d-00f2-4e53-94b6-a52885715364\",                        [{\"hovertemplate\":\"PC1=%{x}\\u003cbr\\u003ePC2=%{y}\\u003cextra\\u003e\\u003c\\u002fextra\\u003e\",\"legendgroup\":\"\",\"marker\":{\"color\":\"#636efa\",\"symbol\":\"circle\"},\"mode\":\"markers\",\"name\":\"\",\"orientation\":\"v\",\"showlegend\":false,\"x\":[-1.5317478584943158,-2.055758496677514,-0.40457659337404245,0.6502995958222036,0.938231250309771,0.5151839885784976,-2.570172256898935,0.517925953710435,-0.8535501905012819,1.7719869306785998,-1.893345571471873,-0.3499819574501722,-1.433526447174322,1.4567579582290975,0.9068209846499301,-1.3161112799307702,0.673483966086233,-1.5563032113243105,2.0844739379961648,-0.20801143737662262,-2.441911562485072,-0.8822184910291855,-0.8535501905012819,-1.53448982362625,-0.3745373102801699,-1.4525978697404451,-1.4034871640804498,0.2722500920530198,3.2416844862103074,1.0869343498557258,-2.7298432169726388,1.0091553436678269,-2.0011638607536444,0.8535973312920286,-1.1960764809127191,1.509981611586999,-1.4280425169104474,-0.16986859224437642,0.14124743250721972,1.4376865356629744,0.35002909824091905,-0.08934762092454011,-1.9261268196976826,-2.0762009018096057,-0.1957949276403428,1.560463299812963,1.1647133560436247,-1.1933345157807818,0.7771893076700984,1.217937009401526,1.4540159930971603,1.7460605952826336,-1.4539688523064136,-1.3775608286844834,2.2154765975419646,1.4799423284931266,-1.273855487100618,0.4305500695607553,1.930286908186335,1.9793976138463305,-1.4021161815144811,1.7228762250186043,3.2157581508143407,1.6900949767927946,0.09350770941319288,1.269789680193459,1.7460605952826336,2.1936632098439044,0.18636752382674696,-1.6859348883041418,-1.7391585416620434,-1.1905925506488444,-1.5372317887581877,0.06621039145125789,-1.3557474409864232,-1.324337175326582,0.5151839885784976,2.530705569991467,-1.9724955602257404,1.8306945143003759],\"xaxis\":\"x\",\"y\":[-0.13062544908520937,-0.08373016290285167,-0.11937115446458553,1.1878277720794024,1.1059957847227564,0.3589578942797682,1.924550421751696,0.9193536938432507,-0.8080247006421082,0.07829046757306211,0.9669532704130576,0.32425595656796413,-1.4849544252740403,-0.06169110058656734,0.04358852986125786,1.083487195481507,0.5690476282504537,0.20795679496199698,-0.3421237638307914,2.5541153332763047,1.3524308006426236,-1.3100361559401243,-0.8080247006421082,-0.6910212486486933,0.6628382006151717,-0.02558058209986787,-0.7027450701942829,-1.0769683058032244,0.4513398858695911,-0.6452997797787471,1.434262787999269,-0.4701467469823483,0.35989694812969814,-0.11984068138955092,-1.1698198243180127,0.10173811066424152,-0.36416282614707546,-0.36463235307204056,-1.0652444842576352,1.3976827425876053,-1.2521213385996235,0.020610413695043326,-0.37565188423018275,1.0954457804895796,-0.3062480088065743,-0.29522847764843235,-0.8204528125751456,-0.6094240247545298,0.3355102511885888,-0.6570236013243366,-0.6220869001500502,0.1366748118385282,-0.3057784818816094,-0.7611294144597491,-0.353847585376381,-0.6804712444155162,-0.9946667915216141,-0.8668785718325392,0.2883802015437473,-0.38878428655066766,-0.4225471704125417,0.7554549556674768,0.5097242301350574,-0.5871501989757635,-0.1078820963814787,-0.773792289855269,0.1366748118385282,0.545130458234309,2.7991417684212765,0.49987851628932756,0.3364493050385189,-0.04902822519104756,-1.2514170482121756,-0.32969565189775374,-1.6601074580704391,-0.5977002032089404,0.3589578942797682,-0.2138660172167516,0.8619084034277146,1.362511277950836],\"yaxis\":\"y\",\"type\":\"scatter\"}],                        {\"template\":{\"data\":{\"histogram2dcontour\":[{\"type\":\"histogram2dcontour\",\"colorbar\":{\"outlinewidth\":0,\"ticks\":\"\"},\"colorscale\":[[0.0,\"#0d0887\"],[0.1111111111111111,\"#46039f\"],[0.2222222222222222,\"#7201a8\"],[0.3333333333333333,\"#9c179e\"],[0.4444444444444444,\"#bd3786\"],[0.5555555555555556,\"#d8576b\"],[0.6666666666666666,\"#ed7953\"],[0.7777777777777778,\"#fb9f3a\"],[0.8888888888888888,\"#fdca26\"],[1.0,\"#f0f921\"]]}],\"choropleth\":[{\"type\":\"choropleth\",\"colorbar\":{\"outlinewidth\":0,\"ticks\":\"\"}}],\"histogram2d\":[{\"type\":\"histogram2d\",\"colorbar\":{\"outlinewidth\":0,\"ticks\":\"\"},\"colorscale\":[[0.0,\"#0d0887\"],[0.1111111111111111,\"#46039f\"],[0.2222222222222222,\"#7201a8\"],[0.3333333333333333,\"#9c179e\"],[0.4444444444444444,\"#bd3786\"],[0.5555555555555556,\"#d8576b\"],[0.6666666666666666,\"#ed7953\"],[0.7777777777777778,\"#fb9f3a\"],[0.8888888888888888,\"#fdca26\"],[1.0,\"#f0f921\"]]}],\"heatmap\":[{\"type\":\"heatmap\",\"colorbar\":{\"outlinewidth\":0,\"ticks\":\"\"},\"colorscale\":[[0.0,\"#0d0887\"],[0.1111111111111111,\"#46039f\"],[0.2222222222222222,\"#7201a8\"],[0.3333333333333333,\"#9c179e\"],[0.4444444444444444,\"#bd3786\"],[0.5555555555555556,\"#d8576b\"],[0.6666666666666666,\"#ed7953\"],[0.7777777777777778,\"#fb9f3a\"],[0.8888888888888888,\"#fdca26\"],[1.0,\"#f0f921\"]]}],\"heatmapgl\":[{\"type\":\"heatmapgl\",\"colorbar\":{\"outlinewidth\":0,\"ticks\":\"\"},\"colorscale\":[[0.0,\"#0d0887\"],[0.1111111111111111,\"#46039f\"],[0.2222222222222222,\"#7201a8\"],[0.3333333333333333,\"#9c179e\"],[0.4444444444444444,\"#bd3786\"],[0.5555555555555556,\"#d8576b\"],[0.6666666666666666,\"#ed7953\"],[0.7777777777777778,\"#fb9f3a\"],[0.8888888888888888,\"#fdca26\"],[1.0,\"#f0f921\"]]}],\"contourcarpet\":[{\"type\":\"contourcarpet\",\"colorbar\":{\"outlinewidth\":0,\"ticks\":\"\"}}],\"contour\":[{\"type\":\"contour\",\"colorbar\":{\"outlinewidth\":0,\"ticks\":\"\"},\"colorscale\":[[0.0,\"#0d0887\"],[0.1111111111111111,\"#46039f\"],[0.2222222222222222,\"#7201a8\"],[0.3333333333333333,\"#9c179e\"],[0.4444444444444444,\"#bd3786\"],[0.5555555555555556,\"#d8576b\"],[0.6666666666666666,\"#ed7953\"],[0.7777777777777778,\"#fb9f3a\"],[0.8888888888888888,\"#fdca26\"],[1.0,\"#f0f921\"]]}],\"surface\":[{\"type\":\"surface\",\"colorbar\":{\"outlinewidth\":0,\"ticks\":\"\"},\"colorscale\":[[0.0,\"#0d0887\"],[0.1111111111111111,\"#46039f\"],[0.2222222222222222,\"#7201a8\"],[0.3333333333333333,\"#9c179e\"],[0.4444444444444444,\"#bd3786\"],[0.5555555555555556,\"#d8576b\"],[0.6666666666666666,\"#ed7953\"],[0.7777777777777778,\"#fb9f3a\"],[0.8888888888888888,\"#fdca26\"],[1.0,\"#f0f921\"]]}],\"mesh3d\":[{\"type\":\"mesh3d\",\"colorbar\":{\"outlinewidth\":0,\"ticks\":\"\"}}],\"scatter\":[{\"fillpattern\":{\"fillmode\":\"overlay\",\"size\":10,\"solidity\":0.2},\"type\":\"scatter\"}],\"parcoords\":[{\"type\":\"parcoords\",\"line\":{\"colorbar\":{\"outlinewidth\":0,\"ticks\":\"\"}}}],\"scatterpolargl\":[{\"type\":\"scatterpolargl\",\"marker\":{\"colorbar\":{\"outlinewidth\":0,\"ticks\":\"\"}}}],\"bar\":[{\"error_x\":{\"color\":\"#2a3f5f\"},\"error_y\":{\"color\":\"#2a3f5f\"},\"marker\":{\"line\":{\"color\":\"#E5ECF6\",\"width\":0.5},\"pattern\":{\"fillmode\":\"overlay\",\"size\":10,\"solidity\":0.2}},\"type\":\"bar\"}],\"scattergeo\":[{\"type\":\"scattergeo\",\"marker\":{\"colorbar\":{\"outlinewidth\":0,\"ticks\":\"\"}}}],\"scatterpolar\":[{\"type\":\"scatterpolar\",\"marker\":{\"colorbar\":{\"outlinewidth\":0,\"ticks\":\"\"}}}],\"histogram\":[{\"marker\":{\"pattern\":{\"fillmode\":\"overlay\",\"size\":10,\"solidity\":0.2}},\"type\":\"histogram\"}],\"scattergl\":[{\"type\":\"scattergl\",\"marker\":{\"colorbar\":{\"outlinewidth\":0,\"ticks\":\"\"}}}],\"scatter3d\":[{\"type\":\"scatter3d\",\"line\":{\"colorbar\":{\"outlinewidth\":0,\"ticks\":\"\"}},\"marker\":{\"colorbar\":{\"outlinewidth\":0,\"ticks\":\"\"}}}],\"scattermapbox\":[{\"type\":\"scattermapbox\",\"marker\":{\"colorbar\":{\"outlinewidth\":0,\"ticks\":\"\"}}}],\"scatterternary\":[{\"type\":\"scatterternary\",\"marker\":{\"colorbar\":{\"outlinewidth\":0,\"ticks\":\"\"}}}],\"scattercarpet\":[{\"type\":\"scattercarpet\",\"marker\":{\"colorbar\":{\"outlinewidth\":0,\"ticks\":\"\"}}}],\"carpet\":[{\"aaxis\":{\"endlinecolor\":\"#2a3f5f\",\"gridcolor\":\"white\",\"linecolor\":\"white\",\"minorgridcolor\":\"white\",\"startlinecolor\":\"#2a3f5f\"},\"baxis\":{\"endlinecolor\":\"#2a3f5f\",\"gridcolor\":\"white\",\"linecolor\":\"white\",\"minorgridcolor\":\"white\",\"startlinecolor\":\"#2a3f5f\"},\"type\":\"carpet\"}],\"table\":[{\"cells\":{\"fill\":{\"color\":\"#EBF0F8\"},\"line\":{\"color\":\"white\"}},\"header\":{\"fill\":{\"color\":\"#C8D4E3\"},\"line\":{\"color\":\"white\"}},\"type\":\"table\"}],\"barpolar\":[{\"marker\":{\"line\":{\"color\":\"#E5ECF6\",\"width\":0.5},\"pattern\":{\"fillmode\":\"overlay\",\"size\":10,\"solidity\":0.2}},\"type\":\"barpolar\"}],\"pie\":[{\"automargin\":true,\"type\":\"pie\"}]},\"layout\":{\"autotypenumbers\":\"strict\",\"colorway\":[\"#636efa\",\"#EF553B\",\"#00cc96\",\"#ab63fa\",\"#FFA15A\",\"#19d3f3\",\"#FF6692\",\"#B6E880\",\"#FF97FF\",\"#FECB52\"],\"font\":{\"color\":\"#2a3f5f\"},\"hovermode\":\"closest\",\"hoverlabel\":{\"align\":\"left\"},\"paper_bgcolor\":\"white\",\"plot_bgcolor\":\"#E5ECF6\",\"polar\":{\"bgcolor\":\"#E5ECF6\",\"angularaxis\":{\"gridcolor\":\"white\",\"linecolor\":\"white\",\"ticks\":\"\"},\"radialaxis\":{\"gridcolor\":\"white\",\"linecolor\":\"white\",\"ticks\":\"\"}},\"ternary\":{\"bgcolor\":\"#E5ECF6\",\"aaxis\":{\"gridcolor\":\"white\",\"linecolor\":\"white\",\"ticks\":\"\"},\"baxis\":{\"gridcolor\":\"white\",\"linecolor\":\"white\",\"ticks\":\"\"},\"caxis\":{\"gridcolor\":\"white\",\"linecolor\":\"white\",\"ticks\":\"\"}},\"coloraxis\":{\"colorbar\":{\"outlinewidth\":0,\"ticks\":\"\"}},\"colorscale\":{\"sequential\":[[0.0,\"#0d0887\"],[0.1111111111111111,\"#46039f\"],[0.2222222222222222,\"#7201a8\"],[0.3333333333333333,\"#9c179e\"],[0.4444444444444444,\"#bd3786\"],[0.5555555555555556,\"#d8576b\"],[0.6666666666666666,\"#ed7953\"],[0.7777777777777778,\"#fb9f3a\"],[0.8888888888888888,\"#fdca26\"],[1.0,\"#f0f921\"]],\"sequentialminus\":[[0.0,\"#0d0887\"],[0.1111111111111111,\"#46039f\"],[0.2222222222222222,\"#7201a8\"],[0.3333333333333333,\"#9c179e\"],[0.4444444444444444,\"#bd3786\"],[0.5555555555555556,\"#d8576b\"],[0.6666666666666666,\"#ed7953\"],[0.7777777777777778,\"#fb9f3a\"],[0.8888888888888888,\"#fdca26\"],[1.0,\"#f0f921\"]],\"diverging\":[[0,\"#8e0152\"],[0.1,\"#c51b7d\"],[0.2,\"#de77ae\"],[0.3,\"#f1b6da\"],[0.4,\"#fde0ef\"],[0.5,\"#f7f7f7\"],[0.6,\"#e6f5d0\"],[0.7,\"#b8e186\"],[0.8,\"#7fbc41\"],[0.9,\"#4d9221\"],[1,\"#276419\"]]},\"xaxis\":{\"gridcolor\":\"white\",\"linecolor\":\"white\",\"ticks\":\"\",\"title\":{\"standoff\":15},\"zerolinecolor\":\"white\",\"automargin\":true,\"zerolinewidth\":2},\"yaxis\":{\"gridcolor\":\"white\",\"linecolor\":\"white\",\"ticks\":\"\",\"title\":{\"standoff\":15},\"zerolinecolor\":\"white\",\"automargin\":true,\"zerolinewidth\":2},\"scene\":{\"xaxis\":{\"backgroundcolor\":\"#E5ECF6\",\"gridcolor\":\"white\",\"linecolor\":\"white\",\"showbackground\":true,\"ticks\":\"\",\"zerolinecolor\":\"white\",\"gridwidth\":2},\"yaxis\":{\"backgroundcolor\":\"#E5ECF6\",\"gridcolor\":\"white\",\"linecolor\":\"white\",\"showbackground\":true,\"ticks\":\"\",\"zerolinecolor\":\"white\",\"gridwidth\":2},\"zaxis\":{\"backgroundcolor\":\"#E5ECF6\",\"gridcolor\":\"white\",\"linecolor\":\"white\",\"showbackground\":true,\"ticks\":\"\",\"zerolinecolor\":\"white\",\"gridwidth\":2}},\"shapedefaults\":{\"line\":{\"color\":\"#2a3f5f\"}},\"annotationdefaults\":{\"arrowcolor\":\"#2a3f5f\",\"arrowhead\":0,\"arrowwidth\":1},\"geo\":{\"bgcolor\":\"white\",\"landcolor\":\"#E5ECF6\",\"subunitcolor\":\"white\",\"showland\":true,\"showlakes\":true,\"lakecolor\":\"white\"},\"title\":{\"x\":0.05},\"mapbox\":{\"style\":\"light\"}}},\"xaxis\":{\"anchor\":\"y\",\"domain\":[0.0,1.0],\"title\":{\"text\":\"PC1\"}},\"yaxis\":{\"anchor\":\"x\",\"domain\":[0.0,1.0],\"title\":{\"text\":\"PC2\"}},\"legend\":{\"tracegroupgap\":0},\"margin\":{\"t\":60}},                        {\"responsive\": true}                    ).then(function(){\n",
       "                            \n",
       "var gd = document.getElementById('0be72c2d-00f2-4e53-94b6-a52885715364');\n",
       "var x = new MutationObserver(function (mutations, observer) {{\n",
       "        var display = window.getComputedStyle(gd).display;\n",
       "        if (!display || display === 'none') {{\n",
       "            console.log([gd, 'removed!']);\n",
       "            Plotly.purge(gd);\n",
       "            observer.disconnect();\n",
       "        }}\n",
       "}});\n",
       "\n",
       "// Listen for the removal of the full notebook cells\n",
       "var notebookContainer = gd.closest('#notebook-container');\n",
       "if (notebookContainer) {{\n",
       "    x.observe(notebookContainer, {childList: true});\n",
       "}}\n",
       "\n",
       "// Listen for the clearing of the current output cell\n",
       "var outputEl = gd.closest('.output');\n",
       "if (outputEl) {{\n",
       "    x.observe(outputEl, {childList: true});\n",
       "}}\n",
       "\n",
       "                        })                };                });            </script>        </div>"
      ]
     },
     "metadata": {},
     "output_type": "display_data"
    }
   ],
   "source": [
    "principal_components = pca.fit_transform(PCA_data_numbers)\n",
    "pca_dataFrame = pd.DataFrame(data=principal_components, columns=[f\"PC{i+1}\" for i in range(num_components)])\n",
    "fig_2d = px.scatter(pca_dataFrame, x='PC1', y='PC2')\n",
    "fig_2d.show()"
   ]
  },
  {
   "cell_type": "code",
   "execution_count": 160,
   "metadata": {},
   "outputs": [
    {
     "data": {
      "application/vnd.plotly.v1+json": {
       "config": {
        "plotlyServerURL": "https://plot.ly"
       },
       "data": [
        {
         "hovertemplate": "PC1=%{x}<br>PC2=%{y}<extra></extra>",
         "legendgroup": "",
         "marker": {
          "color": "#636efa",
          "symbol": "circle"
         },
         "mode": "markers",
         "name": "",
         "orientation": "v",
         "showlegend": false,
         "type": "scatter",
         "x": [
          1.9541033901311113,
          2.2879727445848017,
          -1.7586432091531488,
          -0.8815553821286244,
          0.823513609240197,
          -1.5453249555804114,
          0.8641896552715407,
          -1.8791943100341035,
          -1.1028119066125535,
          1.2377503642811911
         ],
         "xaxis": "x",
         "y": [
          -0.48641918866630146,
          -0.6037040277124452,
          0.5990396331864596,
          -0.6467458937649719,
          1.2859999926409316,
          -0.13226842882416964,
          -1.103729060534552,
          -0.014983589778025237,
          -0.47525340545137107,
          1.578063968904444
         ],
         "yaxis": "y"
        }
       ],
       "layout": {
        "autosize": true,
        "legend": {
         "tracegroupgap": 0
        },
        "margin": {
         "t": 60
        },
        "template": {
         "data": {
          "bar": [
           {
            "error_x": {
             "color": "#2a3f5f"
            },
            "error_y": {
             "color": "#2a3f5f"
            },
            "marker": {
             "line": {
              "color": "#E5ECF6",
              "width": 0.5
             },
             "pattern": {
              "fillmode": "overlay",
              "size": 10,
              "solidity": 0.2
             }
            },
            "type": "bar"
           }
          ],
          "barpolar": [
           {
            "marker": {
             "line": {
              "color": "#E5ECF6",
              "width": 0.5
             },
             "pattern": {
              "fillmode": "overlay",
              "size": 10,
              "solidity": 0.2
             }
            },
            "type": "barpolar"
           }
          ],
          "carpet": [
           {
            "aaxis": {
             "endlinecolor": "#2a3f5f",
             "gridcolor": "white",
             "linecolor": "white",
             "minorgridcolor": "white",
             "startlinecolor": "#2a3f5f"
            },
            "baxis": {
             "endlinecolor": "#2a3f5f",
             "gridcolor": "white",
             "linecolor": "white",
             "minorgridcolor": "white",
             "startlinecolor": "#2a3f5f"
            },
            "type": "carpet"
           }
          ],
          "choropleth": [
           {
            "colorbar": {
             "outlinewidth": 0,
             "ticks": ""
            },
            "type": "choropleth"
           }
          ],
          "contour": [
           {
            "colorbar": {
             "outlinewidth": 0,
             "ticks": ""
            },
            "colorscale": [
             [
              0,
              "#0d0887"
             ],
             [
              0.1111111111111111,
              "#46039f"
             ],
             [
              0.2222222222222222,
              "#7201a8"
             ],
             [
              0.3333333333333333,
              "#9c179e"
             ],
             [
              0.4444444444444444,
              "#bd3786"
             ],
             [
              0.5555555555555556,
              "#d8576b"
             ],
             [
              0.6666666666666666,
              "#ed7953"
             ],
             [
              0.7777777777777778,
              "#fb9f3a"
             ],
             [
              0.8888888888888888,
              "#fdca26"
             ],
             [
              1,
              "#f0f921"
             ]
            ],
            "type": "contour"
           }
          ],
          "contourcarpet": [
           {
            "colorbar": {
             "outlinewidth": 0,
             "ticks": ""
            },
            "type": "contourcarpet"
           }
          ],
          "heatmap": [
           {
            "colorbar": {
             "outlinewidth": 0,
             "ticks": ""
            },
            "colorscale": [
             [
              0,
              "#0d0887"
             ],
             [
              0.1111111111111111,
              "#46039f"
             ],
             [
              0.2222222222222222,
              "#7201a8"
             ],
             [
              0.3333333333333333,
              "#9c179e"
             ],
             [
              0.4444444444444444,
              "#bd3786"
             ],
             [
              0.5555555555555556,
              "#d8576b"
             ],
             [
              0.6666666666666666,
              "#ed7953"
             ],
             [
              0.7777777777777778,
              "#fb9f3a"
             ],
             [
              0.8888888888888888,
              "#fdca26"
             ],
             [
              1,
              "#f0f921"
             ]
            ],
            "type": "heatmap"
           }
          ],
          "heatmapgl": [
           {
            "colorbar": {
             "outlinewidth": 0,
             "ticks": ""
            },
            "colorscale": [
             [
              0,
              "#0d0887"
             ],
             [
              0.1111111111111111,
              "#46039f"
             ],
             [
              0.2222222222222222,
              "#7201a8"
             ],
             [
              0.3333333333333333,
              "#9c179e"
             ],
             [
              0.4444444444444444,
              "#bd3786"
             ],
             [
              0.5555555555555556,
              "#d8576b"
             ],
             [
              0.6666666666666666,
              "#ed7953"
             ],
             [
              0.7777777777777778,
              "#fb9f3a"
             ],
             [
              0.8888888888888888,
              "#fdca26"
             ],
             [
              1,
              "#f0f921"
             ]
            ],
            "type": "heatmapgl"
           }
          ],
          "histogram": [
           {
            "marker": {
             "pattern": {
              "fillmode": "overlay",
              "size": 10,
              "solidity": 0.2
             }
            },
            "type": "histogram"
           }
          ],
          "histogram2d": [
           {
            "colorbar": {
             "outlinewidth": 0,
             "ticks": ""
            },
            "colorscale": [
             [
              0,
              "#0d0887"
             ],
             [
              0.1111111111111111,
              "#46039f"
             ],
             [
              0.2222222222222222,
              "#7201a8"
             ],
             [
              0.3333333333333333,
              "#9c179e"
             ],
             [
              0.4444444444444444,
              "#bd3786"
             ],
             [
              0.5555555555555556,
              "#d8576b"
             ],
             [
              0.6666666666666666,
              "#ed7953"
             ],
             [
              0.7777777777777778,
              "#fb9f3a"
             ],
             [
              0.8888888888888888,
              "#fdca26"
             ],
             [
              1,
              "#f0f921"
             ]
            ],
            "type": "histogram2d"
           }
          ],
          "histogram2dcontour": [
           {
            "colorbar": {
             "outlinewidth": 0,
             "ticks": ""
            },
            "colorscale": [
             [
              0,
              "#0d0887"
             ],
             [
              0.1111111111111111,
              "#46039f"
             ],
             [
              0.2222222222222222,
              "#7201a8"
             ],
             [
              0.3333333333333333,
              "#9c179e"
             ],
             [
              0.4444444444444444,
              "#bd3786"
             ],
             [
              0.5555555555555556,
              "#d8576b"
             ],
             [
              0.6666666666666666,
              "#ed7953"
             ],
             [
              0.7777777777777778,
              "#fb9f3a"
             ],
             [
              0.8888888888888888,
              "#fdca26"
             ],
             [
              1,
              "#f0f921"
             ]
            ],
            "type": "histogram2dcontour"
           }
          ],
          "mesh3d": [
           {
            "colorbar": {
             "outlinewidth": 0,
             "ticks": ""
            },
            "type": "mesh3d"
           }
          ],
          "parcoords": [
           {
            "line": {
             "colorbar": {
              "outlinewidth": 0,
              "ticks": ""
             }
            },
            "type": "parcoords"
           }
          ],
          "pie": [
           {
            "automargin": true,
            "type": "pie"
           }
          ],
          "scatter": [
           {
            "fillpattern": {
             "fillmode": "overlay",
             "size": 10,
             "solidity": 0.2
            },
            "type": "scatter"
           }
          ],
          "scatter3d": [
           {
            "line": {
             "colorbar": {
              "outlinewidth": 0,
              "ticks": ""
             }
            },
            "marker": {
             "colorbar": {
              "outlinewidth": 0,
              "ticks": ""
             }
            },
            "type": "scatter3d"
           }
          ],
          "scattercarpet": [
           {
            "marker": {
             "colorbar": {
              "outlinewidth": 0,
              "ticks": ""
             }
            },
            "type": "scattercarpet"
           }
          ],
          "scattergeo": [
           {
            "marker": {
             "colorbar": {
              "outlinewidth": 0,
              "ticks": ""
             }
            },
            "type": "scattergeo"
           }
          ],
          "scattergl": [
           {
            "marker": {
             "colorbar": {
              "outlinewidth": 0,
              "ticks": ""
             }
            },
            "type": "scattergl"
           }
          ],
          "scattermapbox": [
           {
            "marker": {
             "colorbar": {
              "outlinewidth": 0,
              "ticks": ""
             }
            },
            "type": "scattermapbox"
           }
          ],
          "scatterpolar": [
           {
            "marker": {
             "colorbar": {
              "outlinewidth": 0,
              "ticks": ""
             }
            },
            "type": "scatterpolar"
           }
          ],
          "scatterpolargl": [
           {
            "marker": {
             "colorbar": {
              "outlinewidth": 0,
              "ticks": ""
             }
            },
            "type": "scatterpolargl"
           }
          ],
          "scatterternary": [
           {
            "marker": {
             "colorbar": {
              "outlinewidth": 0,
              "ticks": ""
             }
            },
            "type": "scatterternary"
           }
          ],
          "surface": [
           {
            "colorbar": {
             "outlinewidth": 0,
             "ticks": ""
            },
            "colorscale": [
             [
              0,
              "#0d0887"
             ],
             [
              0.1111111111111111,
              "#46039f"
             ],
             [
              0.2222222222222222,
              "#7201a8"
             ],
             [
              0.3333333333333333,
              "#9c179e"
             ],
             [
              0.4444444444444444,
              "#bd3786"
             ],
             [
              0.5555555555555556,
              "#d8576b"
             ],
             [
              0.6666666666666666,
              "#ed7953"
             ],
             [
              0.7777777777777778,
              "#fb9f3a"
             ],
             [
              0.8888888888888888,
              "#fdca26"
             ],
             [
              1,
              "#f0f921"
             ]
            ],
            "type": "surface"
           }
          ],
          "table": [
           {
            "cells": {
             "fill": {
              "color": "#EBF0F8"
             },
             "line": {
              "color": "white"
             }
            },
            "header": {
             "fill": {
              "color": "#C8D4E3"
             },
             "line": {
              "color": "white"
             }
            },
            "type": "table"
           }
          ]
         },
         "layout": {
          "annotationdefaults": {
           "arrowcolor": "#2a3f5f",
           "arrowhead": 0,
           "arrowwidth": 1
          },
          "autotypenumbers": "strict",
          "coloraxis": {
           "colorbar": {
            "outlinewidth": 0,
            "ticks": ""
           }
          },
          "colorscale": {
           "diverging": [
            [
             0,
             "#8e0152"
            ],
            [
             0.1,
             "#c51b7d"
            ],
            [
             0.2,
             "#de77ae"
            ],
            [
             0.3,
             "#f1b6da"
            ],
            [
             0.4,
             "#fde0ef"
            ],
            [
             0.5,
             "#f7f7f7"
            ],
            [
             0.6,
             "#e6f5d0"
            ],
            [
             0.7,
             "#b8e186"
            ],
            [
             0.8,
             "#7fbc41"
            ],
            [
             0.9,
             "#4d9221"
            ],
            [
             1,
             "#276419"
            ]
           ],
           "sequential": [
            [
             0,
             "#0d0887"
            ],
            [
             0.1111111111111111,
             "#46039f"
            ],
            [
             0.2222222222222222,
             "#7201a8"
            ],
            [
             0.3333333333333333,
             "#9c179e"
            ],
            [
             0.4444444444444444,
             "#bd3786"
            ],
            [
             0.5555555555555556,
             "#d8576b"
            ],
            [
             0.6666666666666666,
             "#ed7953"
            ],
            [
             0.7777777777777778,
             "#fb9f3a"
            ],
            [
             0.8888888888888888,
             "#fdca26"
            ],
            [
             1,
             "#f0f921"
            ]
           ],
           "sequentialminus": [
            [
             0,
             "#0d0887"
            ],
            [
             0.1111111111111111,
             "#46039f"
            ],
            [
             0.2222222222222222,
             "#7201a8"
            ],
            [
             0.3333333333333333,
             "#9c179e"
            ],
            [
             0.4444444444444444,
             "#bd3786"
            ],
            [
             0.5555555555555556,
             "#d8576b"
            ],
            [
             0.6666666666666666,
             "#ed7953"
            ],
            [
             0.7777777777777778,
             "#fb9f3a"
            ],
            [
             0.8888888888888888,
             "#fdca26"
            ],
            [
             1,
             "#f0f921"
            ]
           ]
          },
          "colorway": [
           "#636efa",
           "#EF553B",
           "#00cc96",
           "#ab63fa",
           "#FFA15A",
           "#19d3f3",
           "#FF6692",
           "#B6E880",
           "#FF97FF",
           "#FECB52"
          ],
          "font": {
           "color": "#2a3f5f"
          },
          "geo": {
           "bgcolor": "white",
           "lakecolor": "white",
           "landcolor": "#E5ECF6",
           "showlakes": true,
           "showland": true,
           "subunitcolor": "white"
          },
          "hoverlabel": {
           "align": "left"
          },
          "hovermode": "closest",
          "mapbox": {
           "style": "light"
          },
          "paper_bgcolor": "white",
          "plot_bgcolor": "#E5ECF6",
          "polar": {
           "angularaxis": {
            "gridcolor": "white",
            "linecolor": "white",
            "ticks": ""
           },
           "bgcolor": "#E5ECF6",
           "radialaxis": {
            "gridcolor": "white",
            "linecolor": "white",
            "ticks": ""
           }
          },
          "scene": {
           "xaxis": {
            "backgroundcolor": "#E5ECF6",
            "gridcolor": "white",
            "gridwidth": 2,
            "linecolor": "white",
            "showbackground": true,
            "ticks": "",
            "zerolinecolor": "white"
           },
           "yaxis": {
            "backgroundcolor": "#E5ECF6",
            "gridcolor": "white",
            "gridwidth": 2,
            "linecolor": "white",
            "showbackground": true,
            "ticks": "",
            "zerolinecolor": "white"
           },
           "zaxis": {
            "backgroundcolor": "#E5ECF6",
            "gridcolor": "white",
            "gridwidth": 2,
            "linecolor": "white",
            "showbackground": true,
            "ticks": "",
            "zerolinecolor": "white"
           }
          },
          "shapedefaults": {
           "line": {
            "color": "#2a3f5f"
           }
          },
          "ternary": {
           "aaxis": {
            "gridcolor": "white",
            "linecolor": "white",
            "ticks": ""
           },
           "baxis": {
            "gridcolor": "white",
            "linecolor": "white",
            "ticks": ""
           },
           "bgcolor": "#E5ECF6",
           "caxis": {
            "gridcolor": "white",
            "linecolor": "white",
            "ticks": ""
           }
          },
          "title": {
           "x": 0.05
          },
          "xaxis": {
           "automargin": true,
           "gridcolor": "white",
           "linecolor": "white",
           "ticks": "",
           "title": {
            "standoff": 15
           },
           "zerolinecolor": "white",
           "zerolinewidth": 2
          },
          "yaxis": {
           "automargin": true,
           "gridcolor": "white",
           "linecolor": "white",
           "ticks": "",
           "title": {
            "standoff": 15
           },
           "zerolinecolor": "white",
           "zerolinewidth": 2
          }
         }
        },
        "xaxis": {
         "anchor": "y",
         "autorange": true,
         "domain": [
          0,
          1
         ],
         "range": [
          -2.1314332900593884,
          2.5402117246100864
         ],
         "title": {
          "text": "PC1"
         },
         "type": "linear"
        },
        "yaxis": {
         "anchor": "x",
         "autorange": true,
         "domain": [
          0,
          1
         ],
         "range": [
          -1.3113744525777289,
          1.785709360947621
         ],
         "title": {
          "text": "PC2"
         },
         "type": "linear"
        }
       }
      },
      "image/png": "[encoded data removed]",
      "text/html": [
       "<div>                            <div id=\"541292ae-f798-40d2-a470-99bb5d262176\" class=\"plotly-graph-div\" style=\"height:525px; width:100%;\"></div>            <script type=\"text/javascript\">                require([\"plotly\"], function(Plotly) {                    window.PLOTLYENV=window.PLOTLYENV || {};                                    if (document.getElementById(\"541292ae-f798-40d2-a470-99bb5d262176\")) {                    Plotly.newPlot(                        \"541292ae-f798-40d2-a470-99bb5d262176\",                        [{\"hovertemplate\":\"PC1=%{x}\\u003cbr\\u003ePC2=%{y}\\u003cextra\\u003e\\u003c\\u002fextra\\u003e\",\"legendgroup\":\"\",\"marker\":{\"color\":\"#636efa\",\"symbol\":\"circle\"},\"mode\":\"markers\",\"name\":\"\",\"orientation\":\"v\",\"showlegend\":false,\"x\":[1.9541033901311113,2.2879727445848017,-1.7586432091531488,-0.8815553821286244,0.823513609240197,-1.5453249555804114,0.8641896552715407,-1.8791943100341035,-1.1028119066125535,1.2377503642811911],\"xaxis\":\"x\",\"y\":[-0.48641918866630146,-0.6037040277124452,0.5990396331864596,-0.6467458937649719,1.2859999926409316,-0.13226842882416964,-1.103729060534552,-0.014983589778025237,-0.47525340545137107,1.578063968904444],\"yaxis\":\"y\",\"type\":\"scatter\"}],                        {\"template\":{\"data\":{\"histogram2dcontour\":[{\"type\":\"histogram2dcontour\",\"colorbar\":{\"outlinewidth\":0,\"ticks\":\"\"},\"colorscale\":[[0.0,\"#0d0887\"],[0.1111111111111111,\"#46039f\"],[0.2222222222222222,\"#7201a8\"],[0.3333333333333333,\"#9c179e\"],[0.4444444444444444,\"#bd3786\"],[0.5555555555555556,\"#d8576b\"],[0.6666666666666666,\"#ed7953\"],[0.7777777777777778,\"#fb9f3a\"],[0.8888888888888888,\"#fdca26\"],[1.0,\"#f0f921\"]]}],\"choropleth\":[{\"type\":\"choropleth\",\"colorbar\":{\"outlinewidth\":0,\"ticks\":\"\"}}],\"histogram2d\":[{\"type\":\"histogram2d\",\"colorbar\":{\"outlinewidth\":0,\"ticks\":\"\"},\"colorscale\":[[0.0,\"#0d0887\"],[0.1111111111111111,\"#46039f\"],[0.2222222222222222,\"#7201a8\"],[0.3333333333333333,\"#9c179e\"],[0.4444444444444444,\"#bd3786\"],[0.5555555555555556,\"#d8576b\"],[0.6666666666666666,\"#ed7953\"],[0.7777777777777778,\"#fb9f3a\"],[0.8888888888888888,\"#fdca26\"],[1.0,\"#f0f921\"]]}],\"heatmap\":[{\"type\":\"heatmap\",\"colorbar\":{\"outlinewidth\":0,\"ticks\":\"\"},\"colorscale\":[[0.0,\"#0d0887\"],[0.1111111111111111,\"#46039f\"],[0.2222222222222222,\"#7201a8\"],[0.3333333333333333,\"#9c179e\"],[0.4444444444444444,\"#bd3786\"],[0.5555555555555556,\"#d8576b\"],[0.6666666666666666,\"#ed7953\"],[0.7777777777777778,\"#fb9f3a\"],[0.8888888888888888,\"#fdca26\"],[1.0,\"#f0f921\"]]}],\"heatmapgl\":[{\"type\":\"heatmapgl\",\"colorbar\":{\"outlinewidth\":0,\"ticks\":\"\"},\"colorscale\":[[0.0,\"#0d0887\"],[0.1111111111111111,\"#46039f\"],[0.2222222222222222,\"#7201a8\"],[0.3333333333333333,\"#9c179e\"],[0.4444444444444444,\"#bd3786\"],[0.5555555555555556,\"#d8576b\"],[0.6666666666666666,\"#ed7953\"],[0.7777777777777778,\"#fb9f3a\"],[0.8888888888888888,\"#fdca26\"],[1.0,\"#f0f921\"]]}],\"contourcarpet\":[{\"type\":\"contourcarpet\",\"colorbar\":{\"outlinewidth\":0,\"ticks\":\"\"}}],\"contour\":[{\"type\":\"contour\",\"colorbar\":{\"outlinewidth\":0,\"ticks\":\"\"},\"colorscale\":[[0.0,\"#0d0887\"],[0.1111111111111111,\"#46039f\"],[0.2222222222222222,\"#7201a8\"],[0.3333333333333333,\"#9c179e\"],[0.4444444444444444,\"#bd3786\"],[0.5555555555555556,\"#d8576b\"],[0.6666666666666666,\"#ed7953\"],[0.7777777777777778,\"#fb9f3a\"],[0.8888888888888888,\"#fdca26\"],[1.0,\"#f0f921\"]]}],\"surface\":[{\"type\":\"surface\",\"colorbar\":{\"outlinewidth\":0,\"ticks\":\"\"},\"colorscale\":[[0.0,\"#0d0887\"],[0.1111111111111111,\"#46039f\"],[0.2222222222222222,\"#7201a8\"],[0.3333333333333333,\"#9c179e\"],[0.4444444444444444,\"#bd3786\"],[0.5555555555555556,\"#d8576b\"],[0.6666666666666666,\"#ed7953\"],[0.7777777777777778,\"#fb9f3a\"],[0.8888888888888888,\"#fdca26\"],[1.0,\"#f0f921\"]]}],\"mesh3d\":[{\"type\":\"mesh3d\",\"colorbar\":{\"outlinewidth\":0,\"ticks\":\"\"}}],\"scatter\":[{\"fillpattern\":{\"fillmode\":\"overlay\",\"size\":10,\"solidity\":0.2},\"type\":\"scatter\"}],\"parcoords\":[{\"type\":\"parcoords\",\"line\":{\"colorbar\":{\"outlinewidth\":0,\"ticks\":\"\"}}}],\"scatterpolargl\":[{\"type\":\"scatterpolargl\",\"marker\":{\"colorbar\":{\"outlinewidth\":0,\"ticks\":\"\"}}}],\"bar\":[{\"error_x\":{\"color\":\"#2a3f5f\"},\"error_y\":{\"color\":\"#2a3f5f\"},\"marker\":{\"line\":{\"color\":\"#E5ECF6\",\"width\":0.5},\"pattern\":{\"fillmode\":\"overlay\",\"size\":10,\"solidity\":0.2}},\"type\":\"bar\"}],\"scattergeo\":[{\"type\":\"scattergeo\",\"marker\":{\"colorbar\":{\"outlinewidth\":0,\"ticks\":\"\"}}}],\"scatterpolar\":[{\"type\":\"scatterpolar\",\"marker\":{\"colorbar\":{\"outlinewidth\":0,\"ticks\":\"\"}}}],\"histogram\":[{\"marker\":{\"pattern\":{\"fillmode\":\"overlay\",\"size\":10,\"solidity\":0.2}},\"type\":\"histogram\"}],\"scattergl\":[{\"type\":\"scattergl\",\"marker\":{\"colorbar\":{\"outlinewidth\":0,\"ticks\":\"\"}}}],\"scatter3d\":[{\"type\":\"scatter3d\",\"line\":{\"colorbar\":{\"outlinewidth\":0,\"ticks\":\"\"}},\"marker\":{\"colorbar\":{\"outlinewidth\":0,\"ticks\":\"\"}}}],\"scattermapbox\":[{\"type\":\"scattermapbox\",\"marker\":{\"colorbar\":{\"outlinewidth\":0,\"ticks\":\"\"}}}],\"scatterternary\":[{\"type\":\"scatterternary\",\"marker\":{\"colorbar\":{\"outlinewidth\":0,\"ticks\":\"\"}}}],\"scattercarpet\":[{\"type\":\"scattercarpet\",\"marker\":{\"colorbar\":{\"outlinewidth\":0,\"ticks\":\"\"}}}],\"carpet\":[{\"aaxis\":{\"endlinecolor\":\"#2a3f5f\",\"gridcolor\":\"white\",\"linecolor\":\"white\",\"minorgridcolor\":\"white\",\"startlinecolor\":\"#2a3f5f\"},\"baxis\":{\"endlinecolor\":\"#2a3f5f\",\"gridcolor\":\"white\",\"linecolor\":\"white\",\"minorgridcolor\":\"white\",\"startlinecolor\":\"#2a3f5f\"},\"type\":\"carpet\"}],\"table\":[{\"cells\":{\"fill\":{\"color\":\"#EBF0F8\"},\"line\":{\"color\":\"white\"}},\"header\":{\"fill\":{\"color\":\"#C8D4E3\"},\"line\":{\"color\":\"white\"}},\"type\":\"table\"}],\"barpolar\":[{\"marker\":{\"line\":{\"color\":\"#E5ECF6\",\"width\":0.5},\"pattern\":{\"fillmode\":\"overlay\",\"size\":10,\"solidity\":0.2}},\"type\":\"barpolar\"}],\"pie\":[{\"automargin\":true,\"type\":\"pie\"}]},\"layout\":{\"autotypenumbers\":\"strict\",\"colorway\":[\"#636efa\",\"#EF553B\",\"#00cc96\",\"#ab63fa\",\"#FFA15A\",\"#19d3f3\",\"#FF6692\",\"#B6E880\",\"#FF97FF\",\"#FECB52\"],\"font\":{\"color\":\"#2a3f5f\"},\"hovermode\":\"closest\",\"hoverlabel\":{\"align\":\"left\"},\"paper_bgcolor\":\"white\",\"plot_bgcolor\":\"#E5ECF6\",\"polar\":{\"bgcolor\":\"#E5ECF6\",\"angularaxis\":{\"gridcolor\":\"white\",\"linecolor\":\"white\",\"ticks\":\"\"},\"radialaxis\":{\"gridcolor\":\"white\",\"linecolor\":\"white\",\"ticks\":\"\"}},\"ternary\":{\"bgcolor\":\"#E5ECF6\",\"aaxis\":{\"gridcolor\":\"white\",\"linecolor\":\"white\",\"ticks\":\"\"},\"baxis\":{\"gridcolor\":\"white\",\"linecolor\":\"white\",\"ticks\":\"\"},\"caxis\":{\"gridcolor\":\"white\",\"linecolor\":\"white\",\"ticks\":\"\"}},\"coloraxis\":{\"colorbar\":{\"outlinewidth\":0,\"ticks\":\"\"}},\"colorscale\":{\"sequential\":[[0.0,\"#0d0887\"],[0.1111111111111111,\"#46039f\"],[0.2222222222222222,\"#7201a8\"],[0.3333333333333333,\"#9c179e\"],[0.4444444444444444,\"#bd3786\"],[0.5555555555555556,\"#d8576b\"],[0.6666666666666666,\"#ed7953\"],[0.7777777777777778,\"#fb9f3a\"],[0.8888888888888888,\"#fdca26\"],[1.0,\"#f0f921\"]],\"sequentialminus\":[[0.0,\"#0d0887\"],[0.1111111111111111,\"#46039f\"],[0.2222222222222222,\"#7201a8\"],[0.3333333333333333,\"#9c179e\"],[0.4444444444444444,\"#bd3786\"],[0.5555555555555556,\"#d8576b\"],[0.6666666666666666,\"#ed7953\"],[0.7777777777777778,\"#fb9f3a\"],[0.8888888888888888,\"#fdca26\"],[1.0,\"#f0f921\"]],\"diverging\":[[0,\"#8e0152\"],[0.1,\"#c51b7d\"],[0.2,\"#de77ae\"],[0.3,\"#f1b6da\"],[0.4,\"#fde0ef\"],[0.5,\"#f7f7f7\"],[0.6,\"#e6f5d0\"],[0.7,\"#b8e186\"],[0.8,\"#7fbc41\"],[0.9,\"#4d9221\"],[1,\"#276419\"]]},\"xaxis\":{\"gridcolor\":\"white\",\"linecolor\":\"white\",\"ticks\":\"\",\"title\":{\"standoff\":15},\"zerolinecolor\":\"white\",\"automargin\":true,\"zerolinewidth\":2},\"yaxis\":{\"gridcolor\":\"white\",\"linecolor\":\"white\",\"ticks\":\"\",\"title\":{\"standoff\":15},\"zerolinecolor\":\"white\",\"automargin\":true,\"zerolinewidth\":2},\"scene\":{\"xaxis\":{\"backgroundcolor\":\"#E5ECF6\",\"gridcolor\":\"white\",\"linecolor\":\"white\",\"showbackground\":true,\"ticks\":\"\",\"zerolinecolor\":\"white\",\"gridwidth\":2},\"yaxis\":{\"backgroundcolor\":\"#E5ECF6\",\"gridcolor\":\"white\",\"linecolor\":\"white\",\"showbackground\":true,\"ticks\":\"\",\"zerolinecolor\":\"white\",\"gridwidth\":2},\"zaxis\":{\"backgroundcolor\":\"#E5ECF6\",\"gridcolor\":\"white\",\"linecolor\":\"white\",\"showbackground\":true,\"ticks\":\"\",\"zerolinecolor\":\"white\",\"gridwidth\":2}},\"shapedefaults\":{\"line\":{\"color\":\"#2a3f5f\"}},\"annotationdefaults\":{\"arrowcolor\":\"#2a3f5f\",\"arrowhead\":0,\"arrowwidth\":1},\"geo\":{\"bgcolor\":\"white\",\"landcolor\":\"#E5ECF6\",\"subunitcolor\":\"white\",\"showland\":true,\"showlakes\":true,\"lakecolor\":\"white\"},\"title\":{\"x\":0.05},\"mapbox\":{\"style\":\"light\"}}},\"xaxis\":{\"anchor\":\"y\",\"domain\":[0.0,1.0],\"title\":{\"text\":\"PC1\"}},\"yaxis\":{\"anchor\":\"x\",\"domain\":[0.0,1.0],\"title\":{\"text\":\"PC2\"}},\"legend\":{\"tracegroupgap\":0},\"margin\":{\"t\":60}},                        {\"responsive\": true}                    ).then(function(){\n",
       "                            \n",
       "var gd = document.getElementById('541292ae-f798-40d2-a470-99bb5d262176');\n",
       "var x = new MutationObserver(function (mutations, observer) {{\n",
       "        var display = window.getComputedStyle(gd).display;\n",
       "        if (!display || display === 'none') {{\n",
       "            console.log([gd, 'removed!']);\n",
       "            Plotly.purge(gd);\n",
       "            observer.disconnect();\n",
       "        }}\n",
       "}});\n",
       "\n",
       "// Listen for the removal of the full notebook cells\n",
       "var notebookContainer = gd.closest('#notebook-container');\n",
       "if (notebookContainer) {{\n",
       "    x.observe(notebookContainer, {childList: true});\n",
       "}}\n",
       "\n",
       "// Listen for the clearing of the current output cell\n",
       "var outputEl = gd.closest('.output');\n",
       "if (outputEl) {{\n",
       "    x.observe(outputEl, {childList: true});\n",
       "}}\n",
       "\n",
       "                        })                };                });            </script>        </div>"
      ]
     },
     "metadata": {},
     "output_type": "display_data"
    }
   ],
   "source": [
    "principal_components = pca.fit_transform(PCA_data_numbers_rookie)\n",
    "pca_dataFrame_new = pd.DataFrame(data=principal_components, columns=[f\"PC{i+1}\" for i in range(num_components)])\n",
    "fig_2d = px.scatter(pca_dataFrame_new, x='PC1', y='PC2')\n",
    "fig_2d.show()"
   ]
  },
  {
   "cell_type": "markdown",
   "metadata": {},
   "source": [
    "# Method 1"
   ]
  },
  {
   "cell_type": "markdown",
   "metadata": {},
   "source": [
    "Data is the combined data of per game stats, total stats, and team stats for every rookie > 1975"
   ]
  },
  {
   "cell_type": "code",
   "execution_count": 53,
   "metadata": {},
   "outputs": [],
   "source": [
    "#print(data)"
   ]
  },
  {
   "cell_type": "markdown",
   "metadata": {},
   "source": [
    "this df seems to show large separation between rookie that were picked and not using pca"
   ]
  },
  {
   "cell_type": "code",
   "execution_count": 19,
   "metadata": {},
   "outputs": [
    {
     "name": "stdout",
     "output_type": "stream",
     "text": [
      "                      PC1       PC2       PC3       PC4\n",
      "player                                                 \n",
      "Aaron Henry     -1.719706  0.106503  0.141600 -0.129836\n",
      "Aaron Wiggins    1.267703 -0.397253 -0.213288  0.127060\n",
      "Ade Murkey      -1.818229  0.014119  0.231493 -0.173354\n",
      "Ahmad Caver     -1.553128 -0.000977 -0.063065  0.216869\n",
      "Aleem Ford      -1.429465 -0.042621 -0.107842  0.260431\n",
      "...                   ...       ...       ...       ...\n",
      "Vit Krejci       0.283594 -0.273545 -0.078036  0.133975\n",
      "Xavier Moon     -0.688592  0.012060 -0.278010  0.701986\n",
      "Yves Pons       -1.548435  0.143199  0.050293 -0.140579\n",
      "Zavier Simpson  -0.136111  0.090199 -0.923983  1.707588\n",
      "Ziaire Williams  1.912072 -0.934067 -0.505432 -0.506846\n",
      "\n",
      "[114 rows x 4 columns]\n"
     ]
    }
   ],
   "source": [
    "print(pca_df_training)"
   ]
  },
  {
   "cell_type": "code",
   "execution_count": 20,
   "metadata": {},
   "outputs": [
    {
     "name": "stdout",
     "output_type": "stream",
     "text": [
      "          type           player\n",
      "25  All-Rookie  Cade Cunningham\n",
      "26  All-Rookie      Evan Mobley\n",
      "27  All-Rookie     Franz Wagner\n",
      "28  All-Rookie      Jalen Green\n",
      "29  All-Rookie   Scottie Barnes\n",
      "30  All-Rookie      Ayo Dosunmu\n",
      "31  All-Rookie     Bones Hyland\n",
      "32  All-Rookie     Chris Duarte\n",
      "33  All-Rookie    Herbert Jones\n",
      "34  All-Rookie      Josh Giddey\n"
     ]
    }
   ],
   "source": [
    "teams_training = teams_training.drop(columns=['number_tm', 'lg', 'season'])\n",
    "print(teams_training)"
   ]
  },
  {
   "cell_type": "code",
   "execution_count": 21,
   "metadata": {},
   "outputs": [
    {
     "name": "stdout",
     "output_type": "stream",
     "text": [
      "18     0\n",
      "83     0\n",
      "24     0\n",
      "104    0\n",
      "112    0\n",
      "95     0\n",
      "102    0\n",
      "91     0\n",
      "80     0\n",
      "69     0\n",
      "59     0\n",
      "11     1\n",
      "Name: type, dtype: int64\n",
      "Accuracy: 1.0\n",
      "              precision    recall  f1-score   support\n",
      "\n",
      "           0       1.00      1.00      1.00        11\n",
      "           1       1.00      1.00      1.00         1\n",
      "\n",
      "    accuracy                           1.00        12\n",
      "   macro avg       1.00      1.00      1.00        12\n",
      "weighted avg       1.00      1.00      1.00        12\n",
      "\n",
      "[11]\n",
      "['Cade Cunningham']\n"
     ]
    }
   ],
   "source": [
    "import pandas as pd\n",
    "from sklearn.model_selection import train_test_split\n",
    "from sklearn.linear_model import LogisticRegression\n",
    "from sklearn.metrics import accuracy_score\n",
    "from sklearn.metrics import classification_report\n",
    "\n",
    "merged_data = pd.merge(pca_df_training, teams_training, on='player', how='left')\n",
    "X = merged_data[['PC1', 'PC2', 'PC3', 'PC4']]\n",
    "y = merged_data['type'].apply(lambda x: 1 if x == 'All-Rookie' else 0)  # 1 for All-Rookie, 0 for others\n",
    "\n",
    "X_train, X_test, y_train, y_test = train_test_split(X, y, test_size=0.1, random_state=42, stratify=y)\n",
    "model = LogisticRegression()\n",
    "model.fit(X_train, y_train)\n",
    "predictions = model.predict(X_test)\n",
    "\n",
    "print(y_test)\n",
    "\n",
    "accuracy = accuracy_score(y_test, predictions)\n",
    "print(\"Accuracy:\", accuracy)\n",
    "print(classification_report(y_test, predictions))\n",
    "\n",
    "\n",
    "test_predictions = model.predict(X_test)\n",
    "\n",
    "\n",
    "all_rookie_indices = [i for i, prediction in enumerate(test_predictions) if prediction == 1]\n",
    "print(all_rookie_indices)\n",
    "\n",
    "player_names = []\n",
    "for idx in all_rookie_indices:\n",
    "    index = y_test.index[idx]\n",
    "    player_name = pca_df_training.index[index]\n",
    "    player_names.append(player_name)\n",
    "print(player_names)\n"
   ]
  },
  {
   "cell_type": "code",
   "execution_count": 22,
   "metadata": {},
   "outputs": [
    {
     "name": "stdout",
     "output_type": "stream",
     "text": [
      "                      PC1       PC2       PC3       PC4\n",
      "player                                                 \n",
      "Aaron Holiday    0.679151 -0.324343  0.083584 -0.114780\n",
      "Alize Johnson   -1.593735 -0.096133  0.187935  0.092435\n",
      "Allonzo Trier    2.051454 -0.429276 -0.638484 -0.190011\n",
      "Amile Jefferson -1.399623 -0.056328  0.010969  0.089098\n",
      "Anfernee Simons -1.063961 -0.294844 -0.277977 -0.072378\n",
      "...                   ...       ...       ...       ...\n",
      "Yante Maten     -1.603399 -0.181130  0.095163  0.081898\n",
      "Yuta Watanabe   -1.284460 -0.156202 -0.047772  0.072082\n",
      "Zach Lofton     -1.749100 -0.208832  0.310236  0.118581\n",
      "Zhaire Smith    -0.876796 -0.107041 -0.625927 -0.077281\n",
      "Ángel Delgado   -1.602018 -0.181240  0.094273  0.081721\n",
      "\n",
      "[99 rows x 4 columns]\n"
     ]
    }
   ],
   "source": [
    "print(pca_df_2019)"
   ]
  },
  {
   "cell_type": "code",
   "execution_count": 23,
   "metadata": {},
   "outputs": [
    {
     "name": "stdout",
     "output_type": "stream",
     "text": [
      "           type                   player\n",
      "130  All-Rookie            Deandre Ayton\n",
      "131  All-Rookie        Jaren Jackson Jr.\n",
      "132  All-Rookie              Luka Dončić\n",
      "133  All-Rookie        Marvin Bagley III\n",
      "134  All-Rookie               Trae Young\n",
      "135  All-Rookie            Collin Sexton\n",
      "136  All-Rookie            Kevin Huerter\n",
      "137  All-Rookie            Landry Shamet\n",
      "138  All-Rookie        Mitchell Robinson\n",
      "139  All-Rookie  Shai Gilgeous-Alexander\n"
     ]
    }
   ],
   "source": [
    "teams_2019 = teams_2019.drop(columns=['number_tm', 'lg', 'season'])\n",
    "print(teams_2019)"
   ]
  },
  {
   "cell_type": "code",
   "execution_count": 24,
   "metadata": {},
   "outputs": [
    {
     "name": "stdout",
     "output_type": "stream",
     "text": [
      "                     player  Probability\n",
      "87               Trae Young     0.999430\n",
      "68              Luka Dončić     0.998505\n",
      "15            Collin Sexton     0.934485\n",
      "72            Mikal Bridges     0.684273\n",
      "63            Kevin Huerter     0.677256\n",
      "82  Shai Gilgeous-Alexander     0.657718\n",
      "64               Kevin Knox     0.500933\n",
      "20            Deandre Ayton     0.483288\n",
      "47        Jaren Jackson Jr.     0.220310\n",
      "45            Jalen Brunson     0.168185\n",
      "Percentage of correct predictions among the predicted players: 70.0\n"
     ]
    }
   ],
   "source": [
    "X = pca_df_2019[['PC1', 'PC2', 'PC3', 'PC4']]\n",
    "\n",
    "probabilities = model.predict_proba(X)\n",
    "\n",
    "all_rookie_probabilities = probabilities[:, 1]\n",
    "\n",
    "player_probabilities = pd.DataFrame({'player': X.index, 'Probability': all_rookie_probabilities})\n",
    "\n",
    "top_ten_players = player_probabilities.nlargest(10, 'Probability')\n",
    "\n",
    "print(top_ten_players)\n",
    "\n",
    "player_list = teams_2019['player'].tolist()\n",
    "\n",
    "correct_predictions_count = 0\n",
    "\n",
    "for index, row in top_ten_players.iterrows():\n",
    "    player_name = row['player']\n",
    "\n",
    "    if player_name in player_list:\n",
    "        correct_predictions_count += 1\n",
    "\n",
    "total_predicted_players = len(top_ten_players)\n",
    "percentage_correct = (correct_predictions_count / total_predicted_players) * 100\n",
    "\n",
    "print(\"Percentage of correct predictions among the predicted players:\", percentage_correct)\n"
   ]
  },
  {
   "cell_type": "code",
   "execution_count": 1,
   "metadata": {},
   "outputs": [
    {
     "ename": "NameError",
     "evalue": "name 'merged_data' is not defined",
     "output_type": "error",
     "traceback": [
      "\u001b[0;31m---------------------------------------------------------------------------\u001b[0m",
      "\u001b[0;31mNameError\u001b[0m                                 Traceback (most recent call last)",
      "Cell \u001b[0;32mIn[1], line 3\u001b[0m\n\u001b[1;32m      1\u001b[0m \u001b[38;5;28;01mfrom\u001b[39;00m \u001b[38;5;21;01msklearn\u001b[39;00m\u001b[38;5;21;01m.\u001b[39;00m\u001b[38;5;21;01mneighbors\u001b[39;00m \u001b[38;5;28;01mimport\u001b[39;00m KNeighborsClassifier\n\u001b[0;32m----> 3\u001b[0m X \u001b[38;5;241m=\u001b[39m merged_data[[\u001b[38;5;124m'\u001b[39m\u001b[38;5;124mPC1\u001b[39m\u001b[38;5;124m'\u001b[39m, \u001b[38;5;124m'\u001b[39m\u001b[38;5;124mPC2\u001b[39m\u001b[38;5;124m'\u001b[39m, \u001b[38;5;124m'\u001b[39m\u001b[38;5;124mPC3\u001b[39m\u001b[38;5;124m'\u001b[39m, \u001b[38;5;124m'\u001b[39m\u001b[38;5;124mPC4\u001b[39m\u001b[38;5;124m'\u001b[39m]]\n\u001b[1;32m      4\u001b[0m y \u001b[38;5;241m=\u001b[39m merged_data[\u001b[38;5;124m'\u001b[39m\u001b[38;5;124mtype\u001b[39m\u001b[38;5;124m'\u001b[39m]\u001b[38;5;241m.\u001b[39mapply(\u001b[38;5;28;01mlambda\u001b[39;00m x: \u001b[38;5;241m1\u001b[39m \u001b[38;5;28;01mif\u001b[39;00m x \u001b[38;5;241m==\u001b[39m \u001b[38;5;124m'\u001b[39m\u001b[38;5;124mAll-Rookie\u001b[39m\u001b[38;5;124m'\u001b[39m \u001b[38;5;28;01melse\u001b[39;00m \u001b[38;5;241m0\u001b[39m)  \u001b[38;5;66;03m# 1 for All-Rookie, 0 for others\u001b[39;00m\n\u001b[1;32m      6\u001b[0m X_train, X_test, y_train, y_test \u001b[38;5;241m=\u001b[39m train_test_split(X, y, test_size\u001b[38;5;241m=\u001b[39m\u001b[38;5;241m0.2\u001b[39m, random_state\u001b[38;5;241m=\u001b[39m\u001b[38;5;241m42\u001b[39m, stratify\u001b[38;5;241m=\u001b[39my)\n",
      "\u001b[0;31mNameError\u001b[0m: name 'merged_data' is not defined"
     ]
    }
   ],
   "source": [
    "from sklearn.neighbors import KNeighborsClassifier\n",
    "\n",
    "X = merged_data[['PC1', 'PC2', 'PC3', 'PC4']]\n",
    "y = merged_data['type'].apply(lambda x: 1 if x == 'All-Rookie' else 0)  # 1 for All-Rookie, 0 for others\n",
    "\n",
    "X_train, X_test, y_train, y_test = train_test_split(X, y, test_size=0.2, random_state=42, stratify=y)\n",
    "\n",
    "knn_model = KNeighborsClassifier(n_neighbors=4)\n",
    "knn_model.fit(X_train, y_train)\n",
    "\n",
    "knn_predictions = knn_model.predict(X_test)\n",
    "\n",
    "knn_accuracy = accuracy_score(y_test, knn_predictions)\n",
    "print(\"KNN Accuracy:\", knn_accuracy)\n",
    "print(classification_report(y_test, knn_predictions))\n",
    "\n",
    "knn_test_predictions = knn_model.predict(X_test)\n",
    "\n",
    "knn_all_rookie_indices = [i for i, prediction in enumerate(knn_predictions) if prediction == 1]\n",
    "print(\"Indices of All-Rookie players predicted by KNN:\", knn_all_rookie_indices)\n",
    "\n",
    "knn_player_names = []\n",
    "for idx in knn_all_rookie_indices:\n",
    "    index = y_test.index[idx]\n",
    "    player_name = pca_df_2022.index[index]\n",
    "    knn_player_names.append(player_name)\n",
    "print(\"Players predicted as All-Rookie by KNN:\", knn_player_names)"
   ]
  },
  {
   "cell_type": "code",
   "execution_count": 49,
   "metadata": {},
   "outputs": [
    {
     "name": "stdout",
     "output_type": "stream",
     "text": [
      "               player  Probability\n",
      "3     Anthony Edwards         0.75\n",
      "36      Jae'Sean Tate         0.75\n",
      "52        LaMelo Ball         0.75\n",
      "84  Tyrese Haliburton         0.75\n",
      "26   Facundo Campazzo         0.50\n",
      "31  Immanuel Quickley         0.50\n",
      "74         Saddiq Bey         0.50\n",
      "78       Théo Maledon         0.50\n",
      "13       Cole Anthony         0.25\n",
      "18       Desmond Bane         0.25\n",
      "Percentage of correct predictions among the predicted players: 70.0\n"
     ]
    }
   ],
   "source": [
    "X = pca_df_2021[['PC1', 'PC2', 'PC3', 'PC4']]\n",
    "\n",
    "probabilities = knn_model.predict_proba(X)\n",
    "\n",
    "all_rookie_probabilities = probabilities[:, 1]\n",
    "\n",
    "player_probabilities = pd.DataFrame({'player': X.index, 'Probability': all_rookie_probabilities})\n",
    "\n",
    "top_ten_players = player_probabilities.nlargest(10, 'Probability')\n",
    "\n",
    "print(top_ten_players)\n",
    "\n",
    "player_list = teams_2021['player'].tolist()\n",
    "\n",
    "correct_predictions_count = 0\n",
    "\n",
    "for index, row in top_ten_players.iterrows():\n",
    "    player_name = row['player']\n",
    "\n",
    "    if player_name in player_list:\n",
    "        correct_predictions_count += 1\n",
    "\n",
    "total_predicted_players = len(top_ten_players)\n",
    "percentage_correct = (correct_predictions_count / total_predicted_players) * 100\n",
    "\n",
    "print(\"Percentage of correct predictions among the predicted players:\", percentage_correct)"
   ]
  }
 ],
 "metadata": {
  "kernelspec": {
   "display_name": "Python 3 (ipykernel)",
   "language": "python",
   "name": "python3"
  },
  "language_info": {
   "codemirror_mode": {
    "name": "ipython",
    "version": 3
   },
   "file_extension": ".py",
   "mimetype": "text/x-python",
   "name": "python",
   "nbconvert_exporter": "python",
   "pygments_lexer": "ipython3",
   "version": "3.11.7"
  }
 },
 "nbformat": 4,
 "nbformat_minor": 4
}
