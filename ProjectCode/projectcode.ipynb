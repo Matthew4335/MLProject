{
 "cells": [
  {
   "cell_type": "markdown",
   "metadata": {},
   "source": [
    "# Data Preprocessing"
   ]
  },
  {
   "cell_type": "markdown",
   "metadata": {},
   "source": [
    "## Data Cleaning"
   ]
  },
  {
   "cell_type": "code",
   "execution_count": 73,
   "metadata": {},
   "outputs": [],
   "source": [
    "import pandas as pd"
   ]
  },
  {
   "cell_type": "code",
   "execution_count": 74,
   "metadata": {},
   "outputs": [],
   "source": [
    "player_per_game = pd.read_csv(\"data/PlayerPerGame.csv\")\n",
    "player_per_game = player_per_game[player_per_game['season'] > 1975]\n",
    "player_per_game = player_per_game[player_per_game['experience'] == 1]\n",
    "duplicated_players_mask = player_per_game.duplicated(subset='player', keep=False)\n",
    "player_per_game = player_per_game[~duplicated_players_mask]\n",
    "columns_to_drop = ['birth_year', 'seas_id', 'lg', 'g', 'gs']\n",
    "player_per_game = player_per_game.drop(columns=columns_to_drop)"
   ]
  },
  {
   "cell_type": "code",
   "execution_count": 75,
   "metadata": {},
   "outputs": [],
   "source": [
    "player_totals = pd.read_csv(\"data/PlayerTotals.csv\")\n",
    "player_totals = player_totals[player_totals['season'] > 1975]\n",
    "player_totals = player_totals[player_totals['experience'] == 1]\n",
    "duplicated_players_mask = player_totals.duplicated(subset='player', keep=False)\n",
    "player_totals = player_totals[~duplicated_players_mask]\n",
    "columns_to_drop = ['birth_year', 'seas_id', 'lg', 'g', 'gs', 'ft_percent', 'player', 'age', 'experience', 'season', 'tm', 'pos']\n",
    "player_totals = player_totals.drop(columns=columns_to_drop)"
   ]
  },
  {
   "cell_type": "code",
   "execution_count": 76,
   "metadata": {},
   "outputs": [
    {
     "name": "stdout",
     "output_type": "stream",
     "text": [
      "      season  player_id          player pos   age  experience   tm  \\\n",
      "0       2024       5109    Adam Flagler  SG  24.0           1  OKC   \n",
      "1       2024       5110    Adama Sanogo  PF  21.0           1  CHI   \n",
      "2       2024       5111      Alex Fudge  SF  20.0           1  LAL   \n",
      "3       2024       5112    Amari Bailey  PG  19.0           1  CHO   \n",
      "4       2024       5113   Amen Thompson  SF  21.0           1  HOU   \n",
      "...      ...        ...             ...  ..   ...         ...  ...   \n",
      "3296    1976       1687     Tom Boswell  PF  22.0           1  BOS   \n",
      "3297    1976       1688       Tom Kropp  SG  22.0           1  WSB   \n",
      "3298    1976       1689    Tom McMillen   C  23.0           1  BUF   \n",
      "3299    1976       1690  Wilbur Holland  SG  24.0           1  ATL   \n",
      "3300    1976       1691   World B. Free  SG  22.0           1  PHI   \n",
      "\n",
      "      mp_per_game  fg_per_game  fga_per_game  ...  fta   orb    drb    trb  \\\n",
      "0             6.0          0.0           3.0  ...    0   0.0    0.0    0.0   \n",
      "1             3.7          1.0           1.0  ...    3   2.0    4.0    6.0   \n",
      "2             3.5          0.3           1.5  ...    2   2.0    0.0    2.0   \n",
      "3             5.0          0.7           2.3  ...    2   2.0    0.0    2.0   \n",
      "4            19.5          3.1           6.3  ...   84  73.0  153.0  226.0   \n",
      "...           ...          ...           ...  ...  ...   ...    ...    ...   \n",
      "3296          7.9          1.2           2.7  ...   24  26.0   45.0   71.0   \n",
      "3297          2.9          0.3           1.2  ...    6   5.0   10.0   15.0   \n",
      "3298         14.2          1.9           4.4  ...   54  64.0  122.0  186.0   \n",
      "3299         10.6          2.6           6.5  ...   34  15.0   26.0   41.0   \n",
      "3300         15.8          3.4           7.5  ...  186  64.0   61.0  125.0   \n",
      "\n",
      "      ast   stl   blk   tov   pf  pts  \n",
      "0       1   0.0   0.0   0.0    0    0  \n",
      "1       0   0.0   0.0   1.0    0    8  \n",
      "2       0   0.0   0.0   1.0    1    4  \n",
      "3       1   0.0   0.0   1.0    0    5  \n",
      "4      93  46.0  24.0  60.0   91  310  \n",
      "...   ...   ...   ...   ...  ...  ...  \n",
      "3296   16   2.0   1.0   NaN   70   96  \n",
      "3297    8   2.0   0.0   NaN   20   19  \n",
      "3298   69   7.0   6.0   NaN   87  233  \n",
      "3299   26  20.0   2.0   NaN   48  192  \n",
      "3300  104  37.0   6.0   NaN  107  590  \n",
      "\n",
      "[3301 rows x 52 columns]\n"
     ]
    }
   ],
   "source": [
    "player_stats = pd.merge(player_per_game, player_totals, on='player_id', suffixes=('_df1', '_df2'))\n",
    "\n",
    "print(player_stats)"
   ]
  },
  {
   "cell_type": "code",
   "execution_count": 77,
   "metadata": {},
   "outputs": [
    {
     "name": "stdout",
     "output_type": "stream",
     "text": [
      "       tm  season  playoffs     w     l\n",
      "0     ATL    2024     False  26.0  33.0\n",
      "1     BOS    2024     False  46.0  12.0\n",
      "2     BRK    2024     False  23.0  36.0\n",
      "3     CHI    2024     False  28.0  31.0\n",
      "4     CHO    2024     False  15.0  44.0\n",
      "...   ...     ...       ...   ...   ...\n",
      "1392  UTS    1976     False   4.0  12.0\n",
      "1393  VIR    1976     False  15.0  68.0\n",
      "1394  WSB    1976      True  48.0  34.0\n",
      "1395  NaN    1976     False   NaN   NaN\n",
      "1396  NaN    1976     False   NaN   NaN\n",
      "\n",
      "[1397 rows x 5 columns]\n"
     ]
    }
   ],
   "source": [
    "team_summary = pd.read_csv(\"data/TeamSummaries.csv\")\n",
    "team_summary = team_summary[team_summary['season'] > 1975]\n",
    "selected_columns = ['abbreviation', 'season', 'playoffs', 'w', 'l']\n",
    "team_summary = team_summary.loc[:, selected_columns]\n",
    "team_summary.rename(columns={'abbreviation': 'tm'}, inplace=True)\n",
    "print(team_summary)"
   ]
  },
  {
   "cell_type": "code",
   "execution_count": 78,
   "metadata": {},
   "outputs": [
    {
     "name": "stdout",
     "output_type": "stream",
     "text": [
      "    season  player_id             player  mp_per_game  fg_per_game  \\\n",
      "88    2024       5201  Victor Wembanyama         28.7          7.6   \n",
      "\n",
      "    fga_per_game  fg_percent_df1  x3p_per_game  x3pa_per_game  \\\n",
      "88          16.2           0.467           1.6            5.0   \n",
      "\n",
      "    x3p_percent_df1  ...    trb  ast   stl    blk    tov   pf   pts  playoffs  \\\n",
      "88            0.327  ...  551.0  183  71.0  180.0  185.0  117  1119         0   \n",
      "\n",
      "       w     l  \n",
      "88  12.0  48.0  \n",
      "\n",
      "[1 rows x 51 columns]\n",
      "      season  player_id             player  mp_per_game  fg_per_game  \\\n",
      "2       2024       5111         Alex Fudge          3.5          0.3   \n",
      "3       2024       5112       Amari Bailey          5.0          0.7   \n",
      "4       2024       5113      Amen Thompson         19.5          3.1   \n",
      "5       2024       5114  Andre Jackson Jr.         10.8          1.0   \n",
      "6       2024       5115      Anthony Black         18.6          1.8   \n",
      "...      ...        ...                ...          ...          ...   \n",
      "3284    1976       1674        Mel Bennett         29.2          4.4   \n",
      "3285    1976       1675         Mike Flynn         16.4          2.5   \n",
      "3286    1976       1676         Monte Towe          9.0          1.1   \n",
      "3287    1976       1677  Nathaniel Barnett          6.1          1.0   \n",
      "3295    1976       1686       Ticky Burden         30.7          7.9   \n",
      "\n",
      "      fga_per_game  fg_percent_df1  x3p_per_game  x3pa_per_game  \\\n",
      "2              1.5           0.167           0.0            0.5   \n",
      "3              2.3           0.286           0.0            1.0   \n",
      "4              6.3           0.500           0.2            1.2   \n",
      "5              1.9           0.529           0.3            0.9   \n",
      "6              3.8           0.469           0.5            1.4   \n",
      "...            ...             ...           ...            ...   \n",
      "3284          10.9           0.402           0.0            0.0   \n",
      "3285           6.6           0.378           0.4            1.5   \n",
      "3286           2.8           0.402           0.1            0.7   \n",
      "3287           2.2           0.462           0.0            0.1   \n",
      "3295          17.6           0.450           0.1            0.5   \n",
      "\n",
      "      x3p_percent_df1  ...    trb  ast    stl   blk    tov   pf   pts  \\\n",
      "2               0.000  ...    2.0    0    0.0   0.0    1.0    1     4   \n",
      "3               0.000  ...    2.0    1    0.0   0.0    1.0    0     5   \n",
      "4               0.149  ...  226.0   93   46.0  24.0   60.0   91   310   \n",
      "5               0.375  ...   93.0   43   14.0   4.0   21.0   82   115   \n",
      "6               0.373  ...  124.0   83   30.0  18.0   49.0  100   269   \n",
      "...               ...  ...    ...  ...    ...   ...    ...  ...   ...   \n",
      "3284            0.000  ...  526.0   97   77.0  47.0  176.0  266   904   \n",
      "3285            0.253  ...  133.0  133   44.0   9.0   81.0  112   421   \n",
      "3286            0.214  ...   55.0  136   37.0   5.0   81.0   84   189   \n",
      "3287            0.000  ...    8.0    8    3.0   1.0    8.0   22    27   \n",
      "3295            0.222  ...  202.0  131  103.0   9.0  181.0  188  1413   \n",
      "\n",
      "      playoffs     w     l  \n",
      "2            0  33.0  28.0  \n",
      "3            0  15.0  44.0  \n",
      "4            0  25.0  34.0  \n",
      "5            0  39.0  21.0  \n",
      "6            0  34.0  26.0  \n",
      "...        ...   ...   ...  \n",
      "3284         0  15.0  68.0  \n",
      "3285         1  39.0  45.0  \n",
      "3286         1  60.0  24.0  \n",
      "3287         1  39.0  45.0  \n",
      "3295         0  15.0  68.0  \n",
      "\n",
      "[2348 rows x 51 columns]\n"
     ]
    }
   ],
   "source": [
    "data = player_stats.merge(team_summary, on=['tm', 'season'], how='left')\n",
    "\n",
    "#For simplicity, all players with missing stats are dropped\n",
    "data = data.dropna(axis=0, inplace=False)\n",
    "\n",
    "columns_to_drop = ['pos', 'age', 'experience', 'tm']\n",
    "data = data.drop(columns=columns_to_drop)\n",
    "data['playoffs'] = data['playoffs'].replace({True: 1, False: 0})\n",
    "\n",
    "player_stats = data[data['player_id'] == 5201]\n",
    "print(player_stats)\n",
    "print(data)"
   ]
  },
  {
   "cell_type": "markdown",
   "metadata": {},
   "source": [
    "## Scaling"
   ]
  },
  {
   "cell_type": "code",
   "execution_count": 79,
   "metadata": {},
   "outputs": [],
   "source": [
    "from sklearn.preprocessing import StandardScaler"
   ]
  },
  {
   "cell_type": "markdown",
   "metadata": {},
   "source": [
    "Need to check if this is implemented correctly"
   ]
  },
  {
   "cell_type": "code",
   "execution_count": 80,
   "metadata": {},
   "outputs": [
    {
     "name": "stdout",
     "output_type": "stream",
     "text": [
      "[[-1.42778595 -1.21233494 -1.08585741 ... -0.87033616 -0.28903992\n",
      "  -1.14269195]\n",
      " [-1.25136085 -0.96851803 -0.85489507 ... -0.87033616 -1.68467379\n",
      "   0.08202137]\n",
      " [ 0.45408173  0.49438344  0.29991659 ... -0.87033616 -0.90932164\n",
      "  -0.68342446]\n",
      " ...\n",
      " [-0.78089393 -0.72470112 -0.71054362 ...  1.14898133  1.80441088\n",
      "  -1.44887029]\n",
      " [-1.12198245 -0.78565535 -0.88376537 ...  1.14898133  0.17617137\n",
      "   0.15856595]\n",
      " [ 1.77138909  3.42018639  3.56225954 ... -0.87033616 -1.68467379\n",
      "   1.91909135]]\n"
     ]
    }
   ],
   "source": [
    "data_numbers = data.drop(columns=['player', 'player_id', 'season'])\n",
    "scaler = StandardScaler()\n",
    "scaled_data = scaler.fit_transform(data_numbers)\n",
    "\n",
    "print(scaled_data)"
   ]
  },
  {
   "cell_type": "markdown",
   "metadata": {},
   "source": [
    "## PCA"
   ]
  },
  {
   "cell_type": "code",
   "execution_count": 81,
   "metadata": {},
   "outputs": [],
   "source": [
    "from sklearn.decomposition import PCA"
   ]
  },
  {
   "cell_type": "code",
   "execution_count": 82,
   "metadata": {},
   "outputs": [
    {
     "name": "stdout",
     "output_type": "stream",
     "text": [
      "12\n"
     ]
    }
   ],
   "source": [
    "pca = PCA(n_components=0.95)\n",
    "principal_components = pca.fit_transform(scaled_data)\n",
    "num_components = pca.n_components_\n",
    "print(num_components)"
   ]
  },
  {
   "cell_type": "markdown",
   "metadata": {},
   "source": [
    "Need to figure out why so many players are dropped during PCA. Most likely incomplete data"
   ]
  },
  {
   "cell_type": "markdown",
   "metadata": {},
   "source": [
    "Need to check if this is implemented correctly"
   ]
  },
  {
   "cell_type": "code",
   "execution_count": 83,
   "metadata": {},
   "outputs": [
    {
     "name": "stdout",
     "output_type": "stream",
     "text": [
      "                 player  player_id  season        PC1       PC2       PC3  \\\n",
      "2            Alex Fudge     5111.0  2024.0   2.620254 -2.083415 -1.146471   \n",
      "3          Amari Bailey     5112.0  2024.0  -2.533524 -2.074057 -4.533215   \n",
      "4         Amen Thompson     5113.0  2024.0  -0.436291 -0.046354 -2.385357   \n",
      "5     Andre Jackson Jr.     5114.0  2024.0   5.051275 -2.163502 -0.919414   \n",
      "6         Anthony Black     5115.0  2024.0  -3.044373  0.750945 -2.910759   \n",
      "...                 ...        ...     ...        ...       ...       ...   \n",
      "2340    Demetrius Calip     2646.0  1992.0  -3.820363 -0.561362  0.455226   \n",
      "2344           Doug Lee     2650.0  1992.0   0.611517  1.332809  0.979870   \n",
      "2345         Doug Smith     2651.0  1992.0  -2.529747  0.374007  0.180043   \n",
      "2346       Eric Murdock     2653.0  1992.0  -4.362944 -2.061250  0.017915   \n",
      "2347       Greg Anthony     2654.0  1992.0  11.674340  1.164614  2.692542   \n",
      "\n",
      "           PC4       PC5       PC6       PC7       PC8       PC9      PC10  \\\n",
      "2    -0.999795 -0.679944 -0.872818  0.633016  1.822867  1.150636 -0.716400   \n",
      "3     0.202804 -0.578317  0.176578  0.639381 -0.584820  0.407738 -0.265715   \n",
      "4    -0.021604  0.026980  0.310436  0.811415  0.178355  0.191172  0.279831   \n",
      "5    -2.495379  0.327777 -1.052935  1.556577  0.801170  0.590833 -0.661066   \n",
      "6    -0.303309  0.161953 -0.492380 -0.203805 -0.508293  0.660474  0.006856   \n",
      "...        ...       ...       ...       ...       ...       ...       ...   \n",
      "2340  1.234804  0.079084  0.267256 -1.254716  0.049336  0.258323 -0.641054   \n",
      "2344  1.048061 -0.155750 -0.112745  0.594496  0.364388 -1.008932 -0.311644   \n",
      "2345  2.923852 -0.537306 -0.301632  0.600065 -0.280628  1.005288  0.350828   \n",
      "2346  0.343485 -1.296560 -1.306807  0.558978  1.129226 -1.559350  0.150627   \n",
      "2347  0.282724 -3.917379  2.204751 -3.871416 -0.055975 -2.346174 -0.351416   \n",
      "\n",
      "          PC11      PC12  \n",
      "2    -0.363793  0.946918  \n",
      "3    -0.197123  0.654685  \n",
      "4    -0.478134  0.149224  \n",
      "5     0.338729  0.785357  \n",
      "6    -0.059565  0.727735  \n",
      "...        ...       ...  \n",
      "2340  0.527447 -0.398554  \n",
      "2344  0.063199  0.018720  \n",
      "2345  0.030308  0.036184  \n",
      "2346 -0.287349 -0.987911  \n",
      "2347  1.389190 -0.419636  \n",
      "\n",
      "[1791 rows x 15 columns]\n"
     ]
    }
   ],
   "source": [
    "pca_data = pd.DataFrame(data=principal_components, columns=[f\"PC{i+1}\" for i in range(num_components)])\n",
    "data = pd.concat([data[['player', 'player_id', 'season']], pca_data], axis=1)\n",
    "data = data.dropna(axis=0, inplace=False)\n",
    "print(data)"
   ]
  },
  {
   "cell_type": "markdown",
   "metadata": {},
   "source": [
    "# Method 1"
   ]
  }
 ],
 "metadata": {
  "kernelspec": {
   "display_name": "ml_hw1",
   "language": "python",
   "name": "python3"
  },
  "language_info": {
   "codemirror_mode": {
    "name": "ipython",
    "version": 3
   },
   "file_extension": ".py",
   "mimetype": "text/x-python",
   "name": "python",
   "nbconvert_exporter": "python",
   "pygments_lexer": "ipython3",
   "version": "3.11.7"
  }
 },
 "nbformat": 4,
 "nbformat_minor": 2
}
