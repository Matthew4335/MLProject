{
 "cells": [
  {
   "cell_type": "code",
   "execution_count": 46,
   "metadata": {},
   "outputs": [],
   "source": [
    "import pandas as pd"
   ]
  },
  {
   "cell_type": "code",
   "execution_count": 53,
   "metadata": {},
   "outputs": [],
   "source": [
    "player_per_game = pd.read_csv(\"data/PlayerPerGame.csv\")\n",
    "player_per_game = player_per_game[player_per_game['season'] > 1975]\n",
    "player_per_game = player_per_game[player_per_game['experience'] == 1]\n",
    "duplicated_players_mask = player_per_game.duplicated(subset='player', keep=False)\n",
    "player_per_game = player_per_game[~duplicated_players_mask]\n",
    "columns_to_drop = ['birth_year', 'seas_id', 'lg', 'g', 'gs']\n",
    "player_per_game = player_per_game.drop(columns=columns_to_drop)"
   ]
  },
  {
   "cell_type": "code",
   "execution_count": 54,
   "metadata": {},
   "outputs": [],
   "source": [
    "player_totals = pd.read_csv(\"data/PlayerTotals.csv\")\n",
    "player_totals = player_totals[player_totals['season'] > 1975]\n",
    "player_totals = player_totals[player_totals['experience'] == 1]\n",
    "duplicated_players_mask = player_totals.duplicated(subset='player', keep=False)\n",
    "player_totals = player_totals[~duplicated_players_mask]\n",
    "columns_to_drop = ['birth_year', 'seas_id', 'lg', 'g', 'gs', 'ft_percent', 'player', 'age', 'experience', 'season', 'tm', 'pos']\n",
    "player_totals = player_totals.drop(columns=columns_to_drop)"
   ]
  },
  {
   "cell_type": "code",
   "execution_count": 55,
   "metadata": {},
   "outputs": [
    {
     "name": "stdout",
     "output_type": "stream",
     "text": [
      "      season  player_id          player pos   age  experience   tm  \\\n",
      "0       2024       5109    Adam Flagler  SG  24.0           1  OKC   \n",
      "1       2024       5110    Adama Sanogo  PF  21.0           1  CHI   \n",
      "2       2024       5111      Alex Fudge  SF  20.0           1  LAL   \n",
      "3       2024       5112    Amari Bailey  PG  19.0           1  CHO   \n",
      "4       2024       5113   Amen Thompson  SF  21.0           1  HOU   \n",
      "...      ...        ...             ...  ..   ...         ...  ...   \n",
      "3296    1976       1687     Tom Boswell  PF  22.0           1  BOS   \n",
      "3297    1976       1688       Tom Kropp  SG  22.0           1  WSB   \n",
      "3298    1976       1689    Tom McMillen   C  23.0           1  BUF   \n",
      "3299    1976       1690  Wilbur Holland  SG  24.0           1  ATL   \n",
      "3300    1976       1691   World B. Free  SG  22.0           1  PHI   \n",
      "\n",
      "      mp_per_game  fg_per_game  fga_per_game  ...  fta   orb    drb    trb  \\\n",
      "0             6.0          0.0           3.0  ...    0   0.0    0.0    0.0   \n",
      "1             3.7          1.0           1.0  ...    3   2.0    4.0    6.0   \n",
      "2             3.5          0.3           1.5  ...    2   2.0    0.0    2.0   \n",
      "3             5.0          0.7           2.3  ...    2   2.0    0.0    2.0   \n",
      "4            19.5          3.1           6.3  ...   84  73.0  153.0  226.0   \n",
      "...           ...          ...           ...  ...  ...   ...    ...    ...   \n",
      "3296          7.9          1.2           2.7  ...   24  26.0   45.0   71.0   \n",
      "3297          2.9          0.3           1.2  ...    6   5.0   10.0   15.0   \n",
      "3298         14.2          1.9           4.4  ...   54  64.0  122.0  186.0   \n",
      "3299         10.6          2.6           6.5  ...   34  15.0   26.0   41.0   \n",
      "3300         15.8          3.4           7.5  ...  186  64.0   61.0  125.0   \n",
      "\n",
      "      ast   stl   blk   tov   pf  pts  \n",
      "0       1   0.0   0.0   0.0    0    0  \n",
      "1       0   0.0   0.0   1.0    0    8  \n",
      "2       0   0.0   0.0   1.0    1    4  \n",
      "3       1   0.0   0.0   1.0    0    5  \n",
      "4      93  46.0  24.0  60.0   91  310  \n",
      "...   ...   ...   ...   ...  ...  ...  \n",
      "3296   16   2.0   1.0   NaN   70   96  \n",
      "3297    8   2.0   0.0   NaN   20   19  \n",
      "3298   69   7.0   6.0   NaN   87  233  \n",
      "3299   26  20.0   2.0   NaN   48  192  \n",
      "3300  104  37.0   6.0   NaN  107  590  \n",
      "\n",
      "[3301 rows x 52 columns]\n"
     ]
    }
   ],
   "source": [
    "player_stats = pd.merge(player_per_game, player_totals, on='player_id', suffixes=('_df1', '_df2'))\n",
    "\n",
    "print(player_stats)"
   ]
  },
  {
   "cell_type": "code",
   "execution_count": 50,
   "metadata": {},
   "outputs": [
    {
     "name": "stdout",
     "output_type": "stream",
     "text": [
      "       tm  season  playoffs     w     l\n",
      "0     ATL    2024     False  26.0  33.0\n",
      "1     BOS    2024     False  46.0  12.0\n",
      "2     BRK    2024     False  23.0  36.0\n",
      "3     CHI    2024     False  28.0  31.0\n",
      "4     CHO    2024     False  15.0  44.0\n",
      "...   ...     ...       ...   ...   ...\n",
      "1392  UTS    1976     False   4.0  12.0\n",
      "1393  VIR    1976     False  15.0  68.0\n",
      "1394  WSB    1976      True  48.0  34.0\n",
      "1395  NaN    1976     False   NaN   NaN\n",
      "1396  NaN    1976     False   NaN   NaN\n",
      "\n",
      "[1397 rows x 5 columns]\n"
     ]
    }
   ],
   "source": [
    "team_summary = pd.read_csv(\"data/TeamSummaries.csv\")\n",
    "team_summary = team_summary[team_summary['season'] > 1975]\n",
    "selected_columns = ['abbreviation', 'season', 'playoffs', 'w', 'l']\n",
    "team_summary = team_summary.loc[:, selected_columns]\n",
    "team_summary.rename(columns={'abbreviation': 'tm'}, inplace=True)\n",
    "print(team_summary)"
   ]
  },
  {
   "cell_type": "code",
   "execution_count": 52,
   "metadata": {},
   "outputs": [
    {
     "name": "stdout",
     "output_type": "stream",
     "text": [
      "    season  player_id             player pos   age  experience   tm  \\\n",
      "88    2024       5201  Victor Wembanyama   C  20.0           1  SAS   \n",
      "\n",
      "    mp_per_game  fg_per_game  fga_per_game  ...    trb  ast   stl    blk  \\\n",
      "88         28.7          7.6          16.2  ...  551.0  183  71.0  180.0   \n",
      "\n",
      "      tov   pf   pts  playoffs     w     l  \n",
      "88  185.0  117  1119     False  12.0  48.0  \n",
      "\n",
      "[1 rows x 55 columns]\n",
      "      season  player_id          player pos   age  experience   tm  \\\n",
      "0       2024       5109    Adam Flagler  SG  24.0           1  OKC   \n",
      "1       2024       5110    Adama Sanogo  PF  21.0           1  CHI   \n",
      "2       2024       5111      Alex Fudge  SF  20.0           1  LAL   \n",
      "3       2024       5112    Amari Bailey  PG  19.0           1  CHO   \n",
      "4       2024       5113   Amen Thompson  SF  21.0           1  HOU   \n",
      "...      ...        ...             ...  ..   ...         ...  ...   \n",
      "3296    1976       1687     Tom Boswell  PF  22.0           1  BOS   \n",
      "3297    1976       1688       Tom Kropp  SG  22.0           1  WSB   \n",
      "3298    1976       1689    Tom McMillen   C  23.0           1  BUF   \n",
      "3299    1976       1690  Wilbur Holland  SG  24.0           1  ATL   \n",
      "3300    1976       1691   World B. Free  SG  22.0           1  PHI   \n",
      "\n",
      "      mp_per_game  fg_per_game  fga_per_game  ...    trb  ast   stl   blk  \\\n",
      "0             6.0          0.0           3.0  ...    0.0    1   0.0   0.0   \n",
      "1             3.7          1.0           1.0  ...    6.0    0   0.0   0.0   \n",
      "2             3.5          0.3           1.5  ...    2.0    0   0.0   0.0   \n",
      "3             5.0          0.7           2.3  ...    2.0    1   0.0   0.0   \n",
      "4            19.5          3.1           6.3  ...  226.0   93  46.0  24.0   \n",
      "...           ...          ...           ...  ...    ...  ...   ...   ...   \n",
      "3296          7.9          1.2           2.7  ...   71.0   16   2.0   1.0   \n",
      "3297          2.9          0.3           1.2  ...   15.0    8   2.0   0.0   \n",
      "3298         14.2          1.9           4.4  ...  186.0   69   7.0   6.0   \n",
      "3299         10.6          2.6           6.5  ...   41.0   26  20.0   2.0   \n",
      "3300         15.8          3.4           7.5  ...  125.0  104  37.0   6.0   \n",
      "\n",
      "       tov   pf  pts  playoffs     w     l  \n",
      "0      0.0    0    0     False  41.0  18.0  \n",
      "1      1.0    0    8     False  28.0  31.0  \n",
      "2      1.0    1    4     False  33.0  28.0  \n",
      "3      1.0    0    5     False  15.0  44.0  \n",
      "4     60.0   91  310     False  25.0  34.0  \n",
      "...    ...  ...  ...       ...   ...   ...  \n",
      "3296   NaN   70   96      True  54.0  28.0  \n",
      "3297   NaN   20   19      True  48.0  34.0  \n",
      "3298   NaN   87  233      True  46.0  36.0  \n",
      "3299   NaN   48  192     False  29.0  53.0  \n",
      "3300   NaN  107  590      True  46.0  36.0  \n",
      "\n",
      "[3301 rows x 55 columns]\n"
     ]
    }
   ],
   "source": [
    "df = player_stats.merge(team_summary, on=['tm', 'season'], how='left')\n",
    "player_stats = df[df['player_id'] == 5201]\n",
    "print(player_stats)\n",
    "print(df)"
   ]
  }
 ],
 "metadata": {
  "kernelspec": {
   "display_name": "ml_hw1",
   "language": "python",
   "name": "python3"
  },
  "language_info": {
   "codemirror_mode": {
    "name": "ipython",
    "version": 3
   },
   "file_extension": ".py",
   "mimetype": "text/x-python",
   "name": "python",
   "nbconvert_exporter": "python",
   "pygments_lexer": "ipython3",
   "version": "3.11.7"
  }
 },
 "nbformat": 4,
 "nbformat_minor": 2
}
